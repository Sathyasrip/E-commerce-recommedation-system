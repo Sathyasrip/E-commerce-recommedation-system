{
  "nbformat": 4,
  "nbformat_minor": 0,
  "metadata": {
    "colab": {
      "name": "Untitled0.ipynb",
      "provenance": [],
      "machine_shape": "hm"
    },
    "kernelspec": {
      "name": "python3",
      "display_name": "Python 3"
    }
  },
  "cells": [
    {
      "cell_type": "code",
      "metadata": {
        "id": "96WTx6i7tdm1",
        "colab_type": "code",
        "colab": {}
      },
      "source": [
        "import copy\n",
        "import os\n",
        "import pandas as pd\n",
        "import math\n",
        "import gzip\n",
        "import numpy as np\n",
        "import matplotlib.pyplot as plt\n",
        "from sklearn.metrics.pairwise import cosine_similarity\n",
        "import seaborn as sns; sns.set(style=\"white\", color_codes=True)\n",
        "import json\n",
        "from sklearn.metrics import mean_squared_error\n",
        "%matplotlib inline\n",
        "from numpy.linalg import solve"
      ],
      "execution_count": 0,
      "outputs": []
    },
    {
      "cell_type": "code",
      "metadata": {
        "id": "XN1lvvC1t1ug",
        "colab_type": "code",
        "colab": {}
      },
      "source": [
        "def parse(path):\n",
        "    g = open(path, 'rb')\n",
        "    for l in g:\n",
        "        yield eval(l)\n",
        "\n",
        "def getDF(path):\n",
        "    i = 0\n",
        "    df = {}\n",
        "    for d in parse(path):\n",
        "        df[i] = d\n",
        "        i += 1\n",
        "    return pd.DataFrame.from_dict(df, orient='index')\n",
        "\n",
        "df_original = getDF('Beauty_5.json')"
      ],
      "execution_count": 0,
      "outputs": []
    },
    {
      "cell_type": "code",
      "metadata": {
        "id": "x0KUk_q-v7J3",
        "colab_type": "code",
        "outputId": "18473526-db96-44fd-b9af-a1434c64be51",
        "colab": {
          "base_uri": "https://localhost:8080/",
          "height": 323
        }
      },
      "source": [
        "df_original.head()\n"
      ],
      "execution_count": 0,
      "outputs": [
        {
          "output_type": "execute_result",
          "data": {
            "text/html": [
              "<div>\n",
              "<style scoped>\n",
              "    .dataframe tbody tr th:only-of-type {\n",
              "        vertical-align: middle;\n",
              "    }\n",
              "\n",
              "    .dataframe tbody tr th {\n",
              "        vertical-align: top;\n",
              "    }\n",
              "\n",
              "    .dataframe thead th {\n",
              "        text-align: right;\n",
              "    }\n",
              "</style>\n",
              "<table border=\"1\" class=\"dataframe\">\n",
              "  <thead>\n",
              "    <tr style=\"text-align: right;\">\n",
              "      <th></th>\n",
              "      <th>reviewerID</th>\n",
              "      <th>asin</th>\n",
              "      <th>reviewerName</th>\n",
              "      <th>helpful</th>\n",
              "      <th>reviewText</th>\n",
              "      <th>overall</th>\n",
              "      <th>summary</th>\n",
              "      <th>unixReviewTime</th>\n",
              "      <th>reviewTime</th>\n",
              "    </tr>\n",
              "  </thead>\n",
              "  <tbody>\n",
              "    <tr>\n",
              "      <th>0</th>\n",
              "      <td>A1YJEY40YUW4SE</td>\n",
              "      <td>7806397051</td>\n",
              "      <td>Andrea</td>\n",
              "      <td>[3, 4]</td>\n",
              "      <td>Very oily and creamy. Not at all what I expect...</td>\n",
              "      <td>1.0</td>\n",
              "      <td>Don't waste your money</td>\n",
              "      <td>1391040000</td>\n",
              "      <td>01 30, 2014</td>\n",
              "    </tr>\n",
              "    <tr>\n",
              "      <th>1</th>\n",
              "      <td>A60XNB876KYML</td>\n",
              "      <td>7806397051</td>\n",
              "      <td>Jessica H.</td>\n",
              "      <td>[1, 1]</td>\n",
              "      <td>This palette was a decent price and I was look...</td>\n",
              "      <td>3.0</td>\n",
              "      <td>OK Palette!</td>\n",
              "      <td>1397779200</td>\n",
              "      <td>04 18, 2014</td>\n",
              "    </tr>\n",
              "    <tr>\n",
              "      <th>2</th>\n",
              "      <td>A3G6XNM240RMWA</td>\n",
              "      <td>7806397051</td>\n",
              "      <td>Karen</td>\n",
              "      <td>[0, 1]</td>\n",
              "      <td>The texture of this concealer pallet is fantas...</td>\n",
              "      <td>4.0</td>\n",
              "      <td>great quality</td>\n",
              "      <td>1378425600</td>\n",
              "      <td>09 6, 2013</td>\n",
              "    </tr>\n",
              "    <tr>\n",
              "      <th>3</th>\n",
              "      <td>A1PQFP6SAJ6D80</td>\n",
              "      <td>7806397051</td>\n",
              "      <td>Norah</td>\n",
              "      <td>[2, 2]</td>\n",
              "      <td>I really can't tell what exactly this thing is...</td>\n",
              "      <td>2.0</td>\n",
              "      <td>Do not work on my face</td>\n",
              "      <td>1386460800</td>\n",
              "      <td>12 8, 2013</td>\n",
              "    </tr>\n",
              "    <tr>\n",
              "      <th>4</th>\n",
              "      <td>A38FVHZTNQ271F</td>\n",
              "      <td>7806397051</td>\n",
              "      <td>Nova Amor</td>\n",
              "      <td>[0, 0]</td>\n",
              "      <td>It was a little smaller than I expected, but t...</td>\n",
              "      <td>3.0</td>\n",
              "      <td>It's okay.</td>\n",
              "      <td>1382140800</td>\n",
              "      <td>10 19, 2013</td>\n",
              "    </tr>\n",
              "  </tbody>\n",
              "</table>\n",
              "</div>"
            ],
            "text/plain": [
              "       reviewerID        asin  ... unixReviewTime   reviewTime\n",
              "0  A1YJEY40YUW4SE  7806397051  ...     1391040000  01 30, 2014\n",
              "1   A60XNB876KYML  7806397051  ...     1397779200  04 18, 2014\n",
              "2  A3G6XNM240RMWA  7806397051  ...     1378425600   09 6, 2013\n",
              "3  A1PQFP6SAJ6D80  7806397051  ...     1386460800   12 8, 2013\n",
              "4  A38FVHZTNQ271F  7806397051  ...     1382140800  10 19, 2013\n",
              "\n",
              "[5 rows x 9 columns]"
            ]
          },
          "metadata": {
            "tags": []
          },
          "execution_count": 23
        }
      ]
    },
    {
      "cell_type": "code",
      "metadata": {
        "id": "qg53r0nTv-YW",
        "colab_type": "code",
        "colab": {}
      },
      "source": [
        "df=copy.deepcopy(df_original)\n",
        "df['unixReviewTime']=pd.to_datetime(df['unixReviewTime'],unit='s')\n",
        "df.drop(['reviewTime'],axis=1,inplace=True)\n",
        "# set unique ID for each review\n",
        "df['ReviewID']=df.index+1"
      ],
      "execution_count": 0,
      "outputs": []
    },
    {
      "cell_type": "code",
      "metadata": {
        "id": "6RCUyRmbwDr3",
        "colab_type": "code",
        "outputId": "506cba70-f2c6-446d-df06-b628835827cd",
        "colab": {
          "base_uri": "https://localhost:8080/",
          "height": 369
        }
      },
      "source": [
        "fig = plt.figure(figsize=(10,5))\n",
        "ax = fig.add_subplot(121)\n",
        "ax.hist(df['overall'], bins=[0.9, 1.1, 1.9, 2.1, 2.9, 3.1, 3.9, 4.1, 4.9, 5.1])\n",
        "ax.set_xlabel('product rating', fontsize=15)\n",
        "\n",
        "# mean ratings from each user\n",
        "mean_rating_of_user = df.groupby('reviewerID').apply(lambda x: x['overall'].mean())\n",
        "ax = fig.add_subplot(122)\n",
        "ax.hist(mean_rating_of_user)\n",
        "ax.set_xlabel('mean rating given by each user', fontsize=15)\n",
        "plt.tight_layout()\n",
        "plt.show()"
      ],
      "execution_count": 0,
      "outputs": [
        {
          "output_type": "display_data",
          "data": {
            "image/png": "[encoded data removed]",
            "text/plain": [
              "<Figure size 720x360 with 2 Axes>"
            ]
          },
          "metadata": {
            "tags": [],
            "needs_background": "light"
          }
        }
      ]
    },
    {
      "cell_type": "code",
      "metadata": {
        "id": "u_GLu6EmwKU6",
        "colab_type": "code",
        "outputId": "17e6178e-5b8c-49e0-c05b-0b580b74c305",
        "colab": {
          "base_uri": "https://localhost:8080/",
          "height": 51
        }
      },
      "source": [
        "n_users = df.reviewerID.unique().shape[0]\n",
        "n_items = df.asin.unique().shape[0]\n",
        "print (str(n_users) + ' users')\n",
        "print (str(n_items) + ' items')"
      ],
      "execution_count": 0,
      "outputs": [
        {
          "output_type": "stream",
          "text": [
            "22363 users\n",
            "12101 items\n"
          ],
          "name": "stdout"
        }
      ]
    },
    {
      "cell_type": "code",
      "metadata": {
        "id": "VHf09QNZwO4f",
        "colab_type": "code",
        "colab": {}
      },
      "source": [
        "df = df.sort_values(['reviewerID', 'asin'], ascending = [True, True])\n",
        "df.asin=pd.Categorical(df.asin)\n",
        "df['asin_id']=df.asin.cat.codes\n",
        "df.reviewerID=pd.Categorical(df.reviewerID)\n",
        "df['reviewer_ID']=df.reviewerID.cat.codes"
      ],
      "execution_count": 0,
      "outputs": []
    },
    {
      "cell_type": "code",
      "metadata": {
        "id": "h1jWnjgu4CLM",
        "colab_type": "code",
        "outputId": "80eede19-cca2-4868-b2fc-d2988e7afe34",
        "colab": {
          "base_uri": "https://localhost:8080/",
          "height": 51
        }
      },
      "source": [
        "\n",
        "#check for the output of transformation to category\n",
        "print (\"reviewer \",pd.DataFrame(df.groupby(['reviewer_ID'])['reviewerID'].nunique()).sort_values(['reviewerID'],ascending=False).shape[0])\n",
        "print (\"item \", pd.DataFrame(df.groupby(['asin_id'])['asin'].nunique()).sort_values(['asin'],ascending=False).shape[0])"
      ],
      "execution_count": 0,
      "outputs": [
        {
          "output_type": "stream",
          "text": [
            "reviewer  22363\n",
            "item  12101\n"
          ],
          "name": "stdout"
        }
      ]
    },
    {
      "cell_type": "code",
      "metadata": {
        "id": "1ubFwpn74Ej1",
        "colab_type": "code",
        "outputId": "c87883c4-9e9b-4d55-dd1e-bc55277bb383",
        "colab": {
          "base_uri": "https://localhost:8080/",
          "height": 136
        }
      },
      "source": [
        "df.head()\n",
        "df_ratings=df[['reviewer_ID','asin_id','overall']]\n",
        "ratings = np.zeros((n_users, n_items))\n",
        "\n",
        "for row in df_ratings.itertuples():\n",
        "    #print (row[1],row[2],row[3])\n",
        "    ratings[row[1], row[2]] = row[3]\n",
        "    \n",
        "ratings"
      ],
      "execution_count": 0,
      "outputs": [
        {
          "output_type": "execute_result",
          "data": {
            "text/plain": [
              "array([[0., 0., 0., ..., 0., 0., 0.],\n",
              "       [0., 0., 0., ..., 0., 0., 0.],\n",
              "       [0., 0., 0., ..., 0., 0., 0.],\n",
              "       ...,\n",
              "       [0., 0., 0., ..., 0., 0., 0.],\n",
              "       [0., 0., 0., ..., 0., 0., 0.],\n",
              "       [0., 0., 0., ..., 0., 0., 0.]])"
            ]
          },
          "metadata": {
            "tags": []
          },
          "execution_count": 71
        }
      ]
    },
    {
      "cell_type": "code",
      "metadata": {
        "id": "nUxUo8-o4KRS",
        "colab_type": "code",
        "outputId": "b13430c8-dc54-4a82-cf9d-097092a7d6c9",
        "colab": {
          "base_uri": "https://localhost:8080/",
          "height": 34
        }
      },
      "source": [
        "#sparsity check\n",
        "sparsity = float(len(ratings.nonzero()[0]))\n",
        "sparsity = (sparsity/(ratings.shape[0] * ratings.shape[1]))*100\n",
        "print ('Sparsity: {:4.2f}%'.format(sparsity))"
      ],
      "execution_count": 0,
      "outputs": [
        {
          "output_type": "stream",
          "text": [
            "Sparsity: 0.07%\n"
          ],
          "name": "stdout"
        }
      ]
    },
    {
      "cell_type": "code",
      "metadata": {
        "id": "GBRab1A64Pq7",
        "colab_type": "code",
        "colab": {}
      },
      "source": [
        "min_rated_items=ratings.nonzero()[0]\n",
        "min_rated_items_collection={}\n",
        "for i in min_rated_items:\n",
        "    if i in min_rated_items_collection:\n",
        "        min_rated_items_collection[i]=min_rated_items_collection[i]+1\n",
        "    else:\n",
        "        min_rated_items_collection[i]=1"
      ],
      "execution_count": 0,
      "outputs": []
    },
    {
      "cell_type": "code",
      "metadata": {
        "id": "UWLdnLuE4UeF",
        "colab_type": "code",
        "outputId": "301e5a03-fb3d-40fa-86e8-e868fbabb803",
        "colab": {
          "base_uri": "https://localhost:8080/",
          "height": 51
        }
      },
      "source": [
        "user_rate_count=sorted(min_rated_items_collection.items(),key=lambda x:x[1])\n",
        "print ('User rated ',user_rate_count[-1][1], 'items at the most')\n",
        "print ('User rated ',user_rate_count[0][1], 'items at the least')"
      ],
      "execution_count": 0,
      "outputs": [
        {
          "output_type": "stream",
          "text": [
            "User rated  204 items at the most\n",
            "User rated  5 items at the least\n"
          ],
          "name": "stdout"
        }
      ]
    },
    {
      "cell_type": "code",
      "metadata": {
        "id": "u1kPmRBF4X0c",
        "colab_type": "code",
        "colab": {}
      },
      "source": [
        "min_rate_by_users=ratings.nonzero()[1]\n",
        "min_rate_by_users_collection={}\n",
        "for i in min_rate_by_users:\n",
        "    if i in min_rate_by_users_collection:\n",
        "        min_rate_by_users_collection[i]=min_rate_by_users_collection[i]+1\n",
        "    else:\n",
        "        min_rate_by_users_collection[i]=1"
      ],
      "execution_count": 0,
      "outputs": []
    },
    {
      "cell_type": "code",
      "metadata": {
        "id": "cTwc6Lou4c4q",
        "colab_type": "code",
        "outputId": "34266d46-bd14-4ce6-cf85-f15d43245f03",
        "colab": {
          "base_uri": "https://localhost:8080/",
          "height": 51
        }
      },
      "source": [
        "item_rate_count=sorted(min_rate_by_users_collection.items(),key=lambda x:x[1])\n",
        "print ('Item rated by ',item_rate_count[-1][1], ' users at the most')\n",
        "print ('Item rated by ',item_rate_count[0][1], ' users at the least')"
      ],
      "execution_count": 0,
      "outputs": [
        {
          "output_type": "stream",
          "text": [
            "Item rated by  431  users at the most\n",
            "Item rated by  5  users at the least\n"
          ],
          "name": "stdout"
        }
      ]
    },
    {
      "cell_type": "code",
      "metadata": {
        "id": "YC9IeVAs4iMR",
        "colab_type": "code",
        "colab": {}
      },
      "source": [
        "# set-up bins\n",
        "count_bin=np.linspace(10,100,10).tolist()\n",
        "count_bin.extend([5,300,500])\n",
        "array_rate_count=np.array(count_bin)\n",
        "array_rate_count=np.sort(array_rate_count)"
      ],
      "execution_count": 0,
      "outputs": []
    },
    {
      "cell_type": "code",
      "metadata": {
        "id": "cRlcAMvE4oLI",
        "colab_type": "code",
        "outputId": "e976496f-ed65-47e2-8f57-e620437f273e",
        "colab": {
          "base_uri": "https://localhost:8080/",
          "height": 421
        }
      },
      "source": [
        "# get the user-rated item number distribution table\n",
        "def to_category(row,colname='rated_items',cate=array_rate_count):\n",
        "    first_arg=np.where(cate>=row[colname])[0][0]\n",
        "    if first_arg!=0:\n",
        "        return \"(\"+str(int(cate[first_arg-1]))+\", \"+str(int(cate[first_arg]))+\"]\", cate[first_arg]\n",
        "    else:\n",
        "        return \"(, \"+str(int(cate[first_arg]))+\"]\", cate[first_arg]\n",
        "\n",
        "item_count=pd.DataFrame.from_dict(min_rated_items_collection,orient='index')\\\n",
        ".reset_index().rename(columns={'index':'userID',0: 'rated_items'})\n",
        "item_count['rated_items_cat'],item_count['rated_items_num']=zip(*item_count\\\n",
        "                                                                .apply(to_category,cate=array_rate_count,axis=1))\n",
        "pd.DataFrame(item_count.groupby(['rated_items_cat'])['userID'].count()).reset_index()"
      ],
      "execution_count": 0,
      "outputs": [
        {
          "output_type": "execute_result",
          "data": {
            "text/html": [
              "<div>\n",
              "<style scoped>\n",
              "    .dataframe tbody tr th:only-of-type {\n",
              "        vertical-align: middle;\n",
              "    }\n",
              "\n",
              "    .dataframe tbody tr th {\n",
              "        vertical-align: top;\n",
              "    }\n",
              "\n",
              "    .dataframe thead th {\n",
              "        text-align: right;\n",
              "    }\n",
              "</style>\n",
              "<table border=\"1\" class=\"dataframe\">\n",
              "  <thead>\n",
              "    <tr style=\"text-align: right;\">\n",
              "      <th></th>\n",
              "      <th>rated_items_cat</th>\n",
              "      <th>userID</th>\n",
              "    </tr>\n",
              "  </thead>\n",
              "  <tbody>\n",
              "    <tr>\n",
              "      <th>0</th>\n",
              "      <td>(, 5]</td>\n",
              "      <td>7162</td>\n",
              "    </tr>\n",
              "    <tr>\n",
              "      <th>1</th>\n",
              "      <td>(10, 20]</td>\n",
              "      <td>3106</td>\n",
              "    </tr>\n",
              "    <tr>\n",
              "      <th>2</th>\n",
              "      <td>(100, 300]</td>\n",
              "      <td>17</td>\n",
              "    </tr>\n",
              "    <tr>\n",
              "      <th>3</th>\n",
              "      <td>(20, 30]</td>\n",
              "      <td>655</td>\n",
              "    </tr>\n",
              "    <tr>\n",
              "      <th>4</th>\n",
              "      <td>(30, 40]</td>\n",
              "      <td>231</td>\n",
              "    </tr>\n",
              "    <tr>\n",
              "      <th>5</th>\n",
              "      <td>(40, 50]</td>\n",
              "      <td>97</td>\n",
              "    </tr>\n",
              "    <tr>\n",
              "      <th>6</th>\n",
              "      <td>(5, 10]</td>\n",
              "      <td>10959</td>\n",
              "    </tr>\n",
              "    <tr>\n",
              "      <th>7</th>\n",
              "      <td>(50, 60]</td>\n",
              "      <td>62</td>\n",
              "    </tr>\n",
              "    <tr>\n",
              "      <th>8</th>\n",
              "      <td>(60, 70]</td>\n",
              "      <td>23</td>\n",
              "    </tr>\n",
              "    <tr>\n",
              "      <th>9</th>\n",
              "      <td>(70, 80]</td>\n",
              "      <td>26</td>\n",
              "    </tr>\n",
              "    <tr>\n",
              "      <th>10</th>\n",
              "      <td>(80, 90]</td>\n",
              "      <td>14</td>\n",
              "    </tr>\n",
              "    <tr>\n",
              "      <th>11</th>\n",
              "      <td>(90, 100]</td>\n",
              "      <td>11</td>\n",
              "    </tr>\n",
              "  </tbody>\n",
              "</table>\n",
              "</div>"
            ],
            "text/plain": [
              "   rated_items_cat  userID\n",
              "0            (, 5]    7162\n",
              "1         (10, 20]    3106\n",
              "2       (100, 300]      17\n",
              "3         (20, 30]     655\n",
              "4         (30, 40]     231\n",
              "5         (40, 50]      97\n",
              "6          (5, 10]   10959\n",
              "7         (50, 60]      62\n",
              "8         (60, 70]      23\n",
              "9         (70, 80]      26\n",
              "10        (80, 90]      14\n",
              "11       (90, 100]      11"
            ]
          },
          "metadata": {
            "tags": []
          },
          "execution_count": 78
        }
      ]
    },
    {
      "cell_type": "code",
      "metadata": {
        "id": "dDW8TRcb4qF2",
        "colab_type": "code",
        "outputId": "fa9bb95d-9b1e-4b71-930f-b47f4cd25322",
        "colab": {
          "base_uri": "https://localhost:8080/",
          "height": 286
        }
      },
      "source": [
        "plt.hist(item_count['rated_items_num'],array_rate_count)\n",
        "plt.title('number of items rated by each users', fontsize=15)\n",
        "plt.show()"
      ],
      "execution_count": 0,
      "outputs": [
        {
          "output_type": "display_data",
          "data": {
            "image/png": "[encoded data removed]",
            "text/plain": [
              "<Figure size 432x288 with 1 Axes>"
            ]
          },
          "metadata": {
            "tags": [],
            "needs_background": "light"
          }
        }
      ]
    },
    {
      "cell_type": "code",
      "metadata": {
        "id": "Ys5Dau-v4uOw",
        "colab_type": "code",
        "outputId": "ce6e0db7-1e65-436a-ab31-18b8a2627559",
        "colab": {
          "base_uri": "https://localhost:8080/",
          "height": 452
        }
      },
      "source": [
        "# get the item rated by the number of users distribution table\n",
        "user_count=pd.DataFrame.from_dict(min_rate_by_users_collection,orient='index')\\\n",
        ".reset_index().rename(columns={'index':'itemID',0: 'rated_by_users'})\n",
        "user_count['rated_by_user_cat'],user_count['rated_by_user_num']=zip(*user_count.apply(to_category,colname='rated_by_users',cate=array_rate_count,axis=1))\n",
        "pd.DataFrame(user_count.groupby(['rated_by_user_cat'])['itemID'].count()).reset_index()"
      ],
      "execution_count": 0,
      "outputs": [
        {
          "output_type": "execute_result",
          "data": {
            "text/html": [
              "<div>\n",
              "<style scoped>\n",
              "    .dataframe tbody tr th:only-of-type {\n",
              "        vertical-align: middle;\n",
              "    }\n",
              "\n",
              "    .dataframe tbody tr th {\n",
              "        vertical-align: top;\n",
              "    }\n",
              "\n",
              "    .dataframe thead th {\n",
              "        text-align: right;\n",
              "    }\n",
              "</style>\n",
              "<table border=\"1\" class=\"dataframe\">\n",
              "  <thead>\n",
              "    <tr style=\"text-align: right;\">\n",
              "      <th></th>\n",
              "      <th>rated_by_user_cat</th>\n",
              "      <th>itemID</th>\n",
              "    </tr>\n",
              "  </thead>\n",
              "  <tbody>\n",
              "    <tr>\n",
              "      <th>0</th>\n",
              "      <td>(, 5]</td>\n",
              "      <td>2181</td>\n",
              "    </tr>\n",
              "    <tr>\n",
              "      <th>1</th>\n",
              "      <td>(10, 20]</td>\n",
              "      <td>2632</td>\n",
              "    </tr>\n",
              "    <tr>\n",
              "      <th>2</th>\n",
              "      <td>(100, 300]</td>\n",
              "      <td>159</td>\n",
              "    </tr>\n",
              "    <tr>\n",
              "      <th>3</th>\n",
              "      <td>(20, 30]</td>\n",
              "      <td>870</td>\n",
              "    </tr>\n",
              "    <tr>\n",
              "      <th>4</th>\n",
              "      <td>(30, 40]</td>\n",
              "      <td>422</td>\n",
              "    </tr>\n",
              "    <tr>\n",
              "      <th>5</th>\n",
              "      <td>(300, 500]</td>\n",
              "      <td>10</td>\n",
              "    </tr>\n",
              "    <tr>\n",
              "      <th>6</th>\n",
              "      <td>(40, 50]</td>\n",
              "      <td>240</td>\n",
              "    </tr>\n",
              "    <tr>\n",
              "      <th>7</th>\n",
              "      <td>(5, 10]</td>\n",
              "      <td>5031</td>\n",
              "    </tr>\n",
              "    <tr>\n",
              "      <th>8</th>\n",
              "      <td>(50, 60]</td>\n",
              "      <td>181</td>\n",
              "    </tr>\n",
              "    <tr>\n",
              "      <th>9</th>\n",
              "      <td>(60, 70]</td>\n",
              "      <td>138</td>\n",
              "    </tr>\n",
              "    <tr>\n",
              "      <th>10</th>\n",
              "      <td>(70, 80]</td>\n",
              "      <td>89</td>\n",
              "    </tr>\n",
              "    <tr>\n",
              "      <th>11</th>\n",
              "      <td>(80, 90]</td>\n",
              "      <td>80</td>\n",
              "    </tr>\n",
              "    <tr>\n",
              "      <th>12</th>\n",
              "      <td>(90, 100]</td>\n",
              "      <td>68</td>\n",
              "    </tr>\n",
              "  </tbody>\n",
              "</table>\n",
              "</div>"
            ],
            "text/plain": [
              "   rated_by_user_cat  itemID\n",
              "0              (, 5]    2181\n",
              "1           (10, 20]    2632\n",
              "2         (100, 300]     159\n",
              "3           (20, 30]     870\n",
              "4           (30, 40]     422\n",
              "5         (300, 500]      10\n",
              "6           (40, 50]     240\n",
              "7            (5, 10]    5031\n",
              "8           (50, 60]     181\n",
              "9           (60, 70]     138\n",
              "10          (70, 80]      89\n",
              "11          (80, 90]      80\n",
              "12         (90, 100]      68"
            ]
          },
          "metadata": {
            "tags": []
          },
          "execution_count": 80
        }
      ]
    },
    {
      "cell_type": "code",
      "metadata": {
        "id": "p4wZGjR34x9k",
        "colab_type": "code",
        "outputId": "48733613-1e6b-46f1-c95b-90e89a0966ca",
        "colab": {
          "base_uri": "https://localhost:8080/",
          "height": 286
        }
      },
      "source": [
        "plt.hist(user_count['rated_by_user_num'],array_rate_count)\n",
        "plt.title('each item rated by X number of users', fontsize=15)\n",
        "plt.show()"
      ],
      "execution_count": 0,
      "outputs": [
        {
          "output_type": "display_data",
          "data": {
            "image/png": "[encoded data removed]",
            "text/plain": [
              "<Figure size 432x288 with 1 Axes>"
            ]
          },
          "metadata": {
            "tags": [],
            "needs_background": "light"
          }
        }
      ]
    },
    {
      "cell_type": "code",
      "metadata": {
        "id": "NDBegO6P41mo",
        "colab_type": "code",
        "colab": {}
      },
      "source": [
        "# modify N-core to add the map between new position to old position\n",
        "def apply_Ncore(ratings, N_core):\n",
        "    n_users = ratings.shape[0]\n",
        "    n_items = ratings.shape[1]\n",
        "    items_id = [x for x in range(n_items) if len(ratings[:, x].nonzero()[0]) >= N_core]\n",
        "    ratings = ratings[:, items_id]\n",
        "    # map the new items position to the old\n",
        "    item_link=list(zip(items_id,range(ratings.shape[1])))\n",
        "    users_id = [x for x in range(n_users) if len(ratings[x, :].nonzero()[0]) >= N_core]\n",
        "    # map the new user posistion to the old\n",
        "    ratings = ratings[users_id, :]\n",
        "    user_link=list(zip(users_id,range(ratings.shape[0])))\n",
        "    return ratings,item_link,user_link"
      ],
      "execution_count": 0,
      "outputs": []
    },
    {
      "cell_type": "code",
      "metadata": {
        "id": "_H3qi6cG45Z3",
        "colab_type": "code",
        "colab": {}
      },
      "source": [
        "ratings_Ncore,items_link_Ncore,users_link_Ncore = apply_Ncore(ratings, 8)\n"
      ],
      "execution_count": 0,
      "outputs": []
    },
    {
      "cell_type": "code",
      "metadata": {
        "id": "7LH9NJFF5CyB",
        "colab_type": "code",
        "outputId": "ca22d88d-cfd7-42a0-c130-ae7181eb6423",
        "colab": {
          "base_uri": "https://localhost:8080/",
          "height": 68
        }
      },
      "source": [
        "print(\"After applying the 10-core, there are\", ratings_Ncore.shape[0], \"users left\")\n",
        "print(\"After applying the 10-core, there are\", ratings_Ncore.shape[1], \"items left\")\n",
        "sparsity = float(len(ratings_Ncore.nonzero()[0]))\n",
        "sparsity = (sparsity/(ratings_Ncore.shape[0] * ratings_Ncore.shape[1]))*100\n",
        "print ('Sparsity: {:4.2f}%'.format(sparsity))"
      ],
      "execution_count": 0,
      "outputs": [
        {
          "output_type": "stream",
          "text": [
            "After applying the 10-core, there are 6172 users left\n",
            "After applying the 10-core, there are 7129 items left\n",
            "Sparsity: 0.20%\n"
          ],
          "name": "stdout"
        }
      ]
    },
    {
      "cell_type": "code",
      "metadata": {
        "id": "iMbDPbIT5HT5",
        "colab_type": "code",
        "outputId": "1c10a13e-6c5e-4bfd-8bf5-1109612303b7",
        "colab": {
          "base_uri": "https://localhost:8080/",
          "height": 615
        }
      },
      "source": [
        "df.head()\n"
      ],
      "execution_count": 0,
      "outputs": [
        {
          "output_type": "execute_result",
          "data": {
            "text/html": [
              "<div>\n",
              "<style scoped>\n",
              "    .dataframe tbody tr th:only-of-type {\n",
              "        vertical-align: middle;\n",
              "    }\n",
              "\n",
              "    .dataframe tbody tr th {\n",
              "        vertical-align: top;\n",
              "    }\n",
              "\n",
              "    .dataframe thead th {\n",
              "        text-align: right;\n",
              "    }\n",
              "</style>\n",
              "<table border=\"1\" class=\"dataframe\">\n",
              "  <thead>\n",
              "    <tr style=\"text-align: right;\">\n",
              "      <th></th>\n",
              "      <th>reviewerID</th>\n",
              "      <th>asin</th>\n",
              "      <th>reviewerName</th>\n",
              "      <th>helpful</th>\n",
              "      <th>reviewText</th>\n",
              "      <th>overall</th>\n",
              "      <th>summary</th>\n",
              "      <th>unixReviewTime</th>\n",
              "      <th>ReviewID</th>\n",
              "      <th>asin_id</th>\n",
              "      <th>reviewer_ID</th>\n",
              "    </tr>\n",
              "  </thead>\n",
              "  <tbody>\n",
              "    <tr>\n",
              "      <th>145572</th>\n",
              "      <td>A00414041RD0BXM6WK0GX</td>\n",
              "      <td>B007IY97U0</td>\n",
              "      <td>Sarah Hale</td>\n",
              "      <td>[0, 0]</td>\n",
              "      <td>Good quality wig, but the blonde is much more ...</td>\n",
              "      <td>3.0</td>\n",
              "      <td>Three Stars</td>\n",
              "      <td>2014-07-14</td>\n",
              "      <td>145573</td>\n",
              "      <td>9449</td>\n",
              "      <td>0</td>\n",
              "    </tr>\n",
              "    <tr>\n",
              "      <th>152551</th>\n",
              "      <td>A00414041RD0BXM6WK0GX</td>\n",
              "      <td>B00870XLDS</td>\n",
              "      <td>Sarah Hale</td>\n",
              "      <td>[0, 0]</td>\n",
              "      <td>Very thin and not as long as the photos :( Aft...</td>\n",
              "      <td>2.0</td>\n",
              "      <td>( After waiting over a month to receive this w...</td>\n",
              "      <td>2014-07-14</td>\n",
              "      <td>152552</td>\n",
              "      <td>9839</td>\n",
              "      <td>0</td>\n",
              "    </tr>\n",
              "    <tr>\n",
              "      <th>155883</th>\n",
              "      <td>A00414041RD0BXM6WK0GX</td>\n",
              "      <td>B008MIRO88</td>\n",
              "      <td>Sarah Hale</td>\n",
              "      <td>[0, 0]</td>\n",
              "      <td>Very thin and not as long as the photos :( Aft...</td>\n",
              "      <td>1.0</td>\n",
              "      <td>( After waiting over a month to receive this w...</td>\n",
              "      <td>2014-07-14</td>\n",
              "      <td>155884</td>\n",
              "      <td>10076</td>\n",
              "      <td>0</td>\n",
              "    </tr>\n",
              "    <tr>\n",
              "      <th>178477</th>\n",
              "      <td>A00414041RD0BXM6WK0GX</td>\n",
              "      <td>B00BQYYMN0</td>\n",
              "      <td>Sarah Hale</td>\n",
              "      <td>[0, 0]</td>\n",
              "      <td>This is a great quality wig, however it is a m...</td>\n",
              "      <td>3.0</td>\n",
              "      <td>This is a great quality wig</td>\n",
              "      <td>2014-07-14</td>\n",
              "      <td>178478</td>\n",
              "      <td>11155</td>\n",
              "      <td>0</td>\n",
              "    </tr>\n",
              "    <tr>\n",
              "      <th>188781</th>\n",
              "      <td>A00414041RD0BXM6WK0GX</td>\n",
              "      <td>B00GRTQBTM</td>\n",
              "      <td>Sarah Hale</td>\n",
              "      <td>[0, 0]</td>\n",
              "      <td>This is my absolute favorite wig! I have purch...</td>\n",
              "      <td>5.0</td>\n",
              "      <td>This is my absolute favorite wig! I have purch...</td>\n",
              "      <td>2014-07-14</td>\n",
              "      <td>188782</td>\n",
              "      <td>11752</td>\n",
              "      <td>0</td>\n",
              "    </tr>\n",
              "  </tbody>\n",
              "</table>\n",
              "</div>"
            ],
            "text/plain": [
              "                   reviewerID        asin  ... asin_id reviewer_ID\n",
              "145572  A00414041RD0BXM6WK0GX  B007IY97U0  ...    9449           0\n",
              "152551  A00414041RD0BXM6WK0GX  B00870XLDS  ...    9839           0\n",
              "155883  A00414041RD0BXM6WK0GX  B008MIRO88  ...   10076           0\n",
              "178477  A00414041RD0BXM6WK0GX  B00BQYYMN0  ...   11155           0\n",
              "188781  A00414041RD0BXM6WK0GX  B00GRTQBTM  ...   11752           0\n",
              "\n",
              "[5 rows x 11 columns]"
            ]
          },
          "metadata": {
            "tags": []
          },
          "execution_count": 85
        }
      ]
    },
    {
      "cell_type": "code",
      "metadata": {
        "id": "wi60KnAX5JXv",
        "colab_type": "code",
        "colab": {}
      },
      "source": [
        "df['reviewerID_Ncore']=df['reviewer_ID'].map(dict(users_link_Ncore))\n",
        "df['asinID_Ncore']=df['asin_id'].map(dict(items_link_Ncore))\n",
        "item_map_afterNcore=df[['asinID_Ncore','asin']].drop_duplicates(keep='first')\n",
        "user_map_afterNcore=df[['reviewerID_Ncore','reviewerID']].drop_duplicates(keep='first')"
      ],
      "execution_count": 0,
      "outputs": []
    },
    {
      "cell_type": "code",
      "metadata": {
        "id": "wOLfhM4u5Oj7",
        "colab_type": "code",
        "outputId": "7f9d264c-0e43-49fc-a69d-0f9d248742bb",
        "colab": {
          "base_uri": "https://localhost:8080/",
          "height": 80
        }
      },
      "source": [
        "user_map_afterNcore.loc[user_map_afterNcore['reviewerID_Ncore']==1]\n"
      ],
      "execution_count": 0,
      "outputs": [
        {
          "output_type": "execute_result",
          "data": {
            "text/html": [
              "<div>\n",
              "<style scoped>\n",
              "    .dataframe tbody tr th:only-of-type {\n",
              "        vertical-align: middle;\n",
              "    }\n",
              "\n",
              "    .dataframe tbody tr th {\n",
              "        vertical-align: top;\n",
              "    }\n",
              "\n",
              "    .dataframe thead th {\n",
              "        text-align: right;\n",
              "    }\n",
              "</style>\n",
              "<table border=\"1\" class=\"dataframe\">\n",
              "  <thead>\n",
              "    <tr style=\"text-align: right;\">\n",
              "      <th></th>\n",
              "      <th>reviewerID_Ncore</th>\n",
              "      <th>reviewerID</th>\n",
              "    </tr>\n",
              "  </thead>\n",
              "  <tbody>\n",
              "    <tr>\n",
              "      <th>22693</th>\n",
              "      <td>1.0</td>\n",
              "      <td>A03364251DGXSGA9PSR99</td>\n",
              "    </tr>\n",
              "  </tbody>\n",
              "</table>\n",
              "</div>"
            ],
            "text/plain": [
              "       reviewerID_Ncore             reviewerID\n",
              "22693               1.0  A03364251DGXSGA9PSR99"
            ]
          },
          "metadata": {
            "tags": []
          },
          "execution_count": 87
        }
      ]
    },
    {
      "cell_type": "code",
      "metadata": {
        "id": "zCeq69s25RuM",
        "colab_type": "code",
        "outputId": "1c299828-7c24-429b-da91-a261da1bdfa7",
        "colab": {
          "base_uri": "https://localhost:8080/",
          "height": 545
        }
      },
      "source": [
        "#check for whether the item id is linked back correctly to asin\n",
        "df.loc[df['reviewerID']=='A099766128UI0NCS98N1E',['reviewerID','asin','reviewer_ID','reviewerID_Ncore','asin_id','asinID_Ncore']]"
      ],
      "execution_count": 0,
      "outputs": [
        {
          "output_type": "execute_result",
          "data": {
            "text/html": [
              "<div>\n",
              "<style scoped>\n",
              "    .dataframe tbody tr th:only-of-type {\n",
              "        vertical-align: middle;\n",
              "    }\n",
              "\n",
              "    .dataframe tbody tr th {\n",
              "        vertical-align: top;\n",
              "    }\n",
              "\n",
              "    .dataframe thead th {\n",
              "        text-align: right;\n",
              "    }\n",
              "</style>\n",
              "<table border=\"1\" class=\"dataframe\">\n",
              "  <thead>\n",
              "    <tr style=\"text-align: right;\">\n",
              "      <th></th>\n",
              "      <th>reviewerID</th>\n",
              "      <th>asin</th>\n",
              "      <th>reviewer_ID</th>\n",
              "      <th>reviewerID_Ncore</th>\n",
              "      <th>asin_id</th>\n",
              "      <th>asinID_Ncore</th>\n",
              "    </tr>\n",
              "  </thead>\n",
              "  <tbody>\n",
              "    <tr>\n",
              "      <th>3539</th>\n",
              "      <td>A099766128UI0NCS98N1E</td>\n",
              "      <td>B00008MOQE</td>\n",
              "      <td>29</td>\n",
              "      <td>4.0</td>\n",
              "      <td>184</td>\n",
              "      <td>123.0</td>\n",
              "    </tr>\n",
              "    <tr>\n",
              "      <th>6806</th>\n",
              "      <td>A099766128UI0NCS98N1E</td>\n",
              "      <td>B0001TOH8G</td>\n",
              "      <td>29</td>\n",
              "      <td>4.0</td>\n",
              "      <td>359</td>\n",
              "      <td>237.0</td>\n",
              "    </tr>\n",
              "    <tr>\n",
              "      <th>11638</th>\n",
              "      <td>A099766128UI0NCS98N1E</td>\n",
              "      <td>B0007W1R58</td>\n",
              "      <td>29</td>\n",
              "      <td>4.0</td>\n",
              "      <td>687</td>\n",
              "      <td>440.0</td>\n",
              "    </tr>\n",
              "    <tr>\n",
              "      <th>42136</th>\n",
              "      <td>A099766128UI0NCS98N1E</td>\n",
              "      <td>B0012UEJ1S</td>\n",
              "      <td>29</td>\n",
              "      <td>4.0</td>\n",
              "      <td>2846</td>\n",
              "      <td>1644.0</td>\n",
              "    </tr>\n",
              "    <tr>\n",
              "      <th>66990</th>\n",
              "      <td>A099766128UI0NCS98N1E</td>\n",
              "      <td>B001YTD3G4</td>\n",
              "      <td>29</td>\n",
              "      <td>4.0</td>\n",
              "      <td>4562</td>\n",
              "      <td>2622.0</td>\n",
              "    </tr>\n",
              "    <tr>\n",
              "      <th>92722</th>\n",
              "      <td>A099766128UI0NCS98N1E</td>\n",
              "      <td>B003OIPJZ6</td>\n",
              "      <td>29</td>\n",
              "      <td>4.0</td>\n",
              "      <td>6250</td>\n",
              "      <td>3599.0</td>\n",
              "    </tr>\n",
              "    <tr>\n",
              "      <th>93742</th>\n",
              "      <td>A099766128UI0NCS98N1E</td>\n",
              "      <td>B003RF82UK</td>\n",
              "      <td>29</td>\n",
              "      <td>4.0</td>\n",
              "      <td>6310</td>\n",
              "      <td>3636.0</td>\n",
              "    </tr>\n",
              "    <tr>\n",
              "      <th>103137</th>\n",
              "      <td>A099766128UI0NCS98N1E</td>\n",
              "      <td>B0048KSGZO</td>\n",
              "      <td>29</td>\n",
              "      <td>4.0</td>\n",
              "      <td>6902</td>\n",
              "      <td>4001.0</td>\n",
              "    </tr>\n",
              "    <tr>\n",
              "      <th>103757</th>\n",
              "      <td>A099766128UI0NCS98N1E</td>\n",
              "      <td>B004AGM47C</td>\n",
              "      <td>29</td>\n",
              "      <td>4.0</td>\n",
              "      <td>6943</td>\n",
              "      <td>NaN</td>\n",
              "    </tr>\n",
              "    <tr>\n",
              "      <th>104465</th>\n",
              "      <td>A099766128UI0NCS98N1E</td>\n",
              "      <td>B004BCX8B6</td>\n",
              "      <td>29</td>\n",
              "      <td>4.0</td>\n",
              "      <td>6992</td>\n",
              "      <td>4056.0</td>\n",
              "    </tr>\n",
              "    <tr>\n",
              "      <th>106531</th>\n",
              "      <td>A099766128UI0NCS98N1E</td>\n",
              "      <td>B004DIUWAI</td>\n",
              "      <td>29</td>\n",
              "      <td>4.0</td>\n",
              "      <td>7116</td>\n",
              "      <td>4134.0</td>\n",
              "    </tr>\n",
              "    <tr>\n",
              "      <th>122013</th>\n",
              "      <td>A099766128UI0NCS98N1E</td>\n",
              "      <td>B005BDO4TY</td>\n",
              "      <td>29</td>\n",
              "      <td>4.0</td>\n",
              "      <td>8121</td>\n",
              "      <td>4701.0</td>\n",
              "    </tr>\n",
              "    <tr>\n",
              "      <th>127276</th>\n",
              "      <td>A099766128UI0NCS98N1E</td>\n",
              "      <td>B005OU2Y1E</td>\n",
              "      <td>29</td>\n",
              "      <td>4.0</td>\n",
              "      <td>8470</td>\n",
              "      <td>NaN</td>\n",
              "    </tr>\n",
              "    <tr>\n",
              "      <th>138692</th>\n",
              "      <td>A099766128UI0NCS98N1E</td>\n",
              "      <td>B006OHM542</td>\n",
              "      <td>29</td>\n",
              "      <td>4.0</td>\n",
              "      <td>9030</td>\n",
              "      <td>5239.0</td>\n",
              "    </tr>\n",
              "    <tr>\n",
              "      <th>154090</th>\n",
              "      <td>A099766128UI0NCS98N1E</td>\n",
              "      <td>B008CEDY5O</td>\n",
              "      <td>29</td>\n",
              "      <td>4.0</td>\n",
              "      <td>9946</td>\n",
              "      <td>5770.0</td>\n",
              "    </tr>\n",
              "    <tr>\n",
              "      <th>164953</th>\n",
              "      <td>A099766128UI0NCS98N1E</td>\n",
              "      <td>B009YVCSYM</td>\n",
              "      <td>29</td>\n",
              "      <td>4.0</td>\n",
              "      <td>10544</td>\n",
              "      <td>6127.0</td>\n",
              "    </tr>\n",
              "  </tbody>\n",
              "</table>\n",
              "</div>"
            ],
            "text/plain": [
              "                   reviewerID        asin  ...  asin_id  asinID_Ncore\n",
              "3539    A099766128UI0NCS98N1E  B00008MOQE  ...      184         123.0\n",
              "6806    A099766128UI0NCS98N1E  B0001TOH8G  ...      359         237.0\n",
              "11638   A099766128UI0NCS98N1E  B0007W1R58  ...      687         440.0\n",
              "42136   A099766128UI0NCS98N1E  B0012UEJ1S  ...     2846        1644.0\n",
              "66990   A099766128UI0NCS98N1E  B001YTD3G4  ...     4562        2622.0\n",
              "92722   A099766128UI0NCS98N1E  B003OIPJZ6  ...     6250        3599.0\n",
              "93742   A099766128UI0NCS98N1E  B003RF82UK  ...     6310        3636.0\n",
              "103137  A099766128UI0NCS98N1E  B0048KSGZO  ...     6902        4001.0\n",
              "103757  A099766128UI0NCS98N1E  B004AGM47C  ...     6943           NaN\n",
              "104465  A099766128UI0NCS98N1E  B004BCX8B6  ...     6992        4056.0\n",
              "106531  A099766128UI0NCS98N1E  B004DIUWAI  ...     7116        4134.0\n",
              "122013  A099766128UI0NCS98N1E  B005BDO4TY  ...     8121        4701.0\n",
              "127276  A099766128UI0NCS98N1E  B005OU2Y1E  ...     8470           NaN\n",
              "138692  A099766128UI0NCS98N1E  B006OHM542  ...     9030        5239.0\n",
              "154090  A099766128UI0NCS98N1E  B008CEDY5O  ...     9946        5770.0\n",
              "164953  A099766128UI0NCS98N1E  B009YVCSYM  ...    10544        6127.0\n",
              "\n",
              "[16 rows x 6 columns]"
            ]
          },
          "metadata": {
            "tags": []
          },
          "execution_count": 88
        }
      ]
    },
    {
      "cell_type": "code",
      "metadata": {
        "id": "VwM6GQ5A5V3H",
        "colab_type": "code",
        "colab": {}
      },
      "source": [
        "def train_test_split_userwise(ratings,num_test=5):\n",
        "    test = np.zeros(ratings.shape)\n",
        "    train = ratings.copy()\n",
        "    nonzero_id=np.transpose(np.array([ratings.nonzero()[0].tolist(),ratings.nonzero()[1].tolist()]))\n",
        "    index=pd.DataFrame(nonzero_id,columns=['row','col'])\n",
        "    gps =index.groupby(['row'])\n",
        "    randx = lambda obj: obj.loc[np.random.choice(obj.index, num_test, False),:]\n",
        "    test_ratings=gps.apply(randx).values.transpose()\n",
        "    test_ratings_row=test_ratings[0].tolist()\n",
        "    test_ratings_col=test_ratings[1].tolist()\n",
        "    train[test_ratings_row,test_ratings_col] = 0.\n",
        "    test[test_ratings_row,test_ratings_col] = ratings[test_ratings_row,test_ratings_col]   \n",
        "    assert(np.all((train * test) == 0)) \n",
        "    return train, test"
      ],
      "execution_count": 0,
      "outputs": []
    },
    {
      "cell_type": "code",
      "metadata": {
        "id": "aSdb4rPY5bDK",
        "colab_type": "code",
        "outputId": "960a712f-4f14-4cc5-d63c-602fd4d8754e",
        "colab": {
          "base_uri": "https://localhost:8080/",
          "height": 51
        }
      },
      "source": [
        "train_Ncore_user, test_Ncore_user = train_test_split_userwise(ratings_Ncore,num_test=3)\n",
        "# check whether the test dataset has the same shape as the training\n",
        "print('training dimension: ', train_Ncore_user.shape)\n",
        "print('test dimension: ',test_Ncore_user.shape)"
      ],
      "execution_count": 0,
      "outputs": [
        {
          "output_type": "stream",
          "text": [
            "training dimension:  (6172, 7129)\n",
            "test dimension:  (6172, 7129)\n"
          ],
          "name": "stdout"
        }
      ]
    },
    {
      "cell_type": "code",
      "metadata": {
        "id": "anPGu56D5jb1",
        "colab_type": "code",
        "colab": {}
      },
      "source": [
        "#user-wise\n",
        "def normalize_userwise(train,test):\n",
        "    user=0\n",
        "    train_new=copy.deepcopy(train)\n",
        "    test_new=copy.deepcopy(test)\n",
        "    for i in range(train_new.shape[0]):\n",
        "        items=np.nonzero(train_new[i,:])[0].tolist()\n",
        "        user_avg=np.sum(train_new[i,items])/len(items)\n",
        "        items_test=np.nonzero(test_new[i,:])[0].tolist()\n",
        "        train_new[i,items]=(train_new[i,items]-user_avg)\n",
        "        test_new[i,items_test]=(test_new[i,items_test]-user_avg)\n",
        "    return train_new, test_new"
      ],
      "execution_count": 0,
      "outputs": []
    },
    {
      "cell_type": "code",
      "metadata": {
        "id": "Fj6-rJWd5oO7",
        "colab_type": "code",
        "colab": {}
      },
      "source": [
        "train_Ncore_user_normalized,test_Ncore_user_normalized=normalize_userwise(train_Ncore_user,test_Ncore_user)"
      ],
      "execution_count": 0,
      "outputs": []
    },
    {
      "cell_type": "code",
      "metadata": {
        "id": "JJYxHRtB5pbq",
        "colab_type": "code",
        "outputId": "4f2d7c0b-9c1d-4ea4-c433-dd9c923722dd",
        "colab": {
          "base_uri": "https://localhost:8080/",
          "height": 51
        }
      },
      "source": [
        "# check for the output of normaization\n",
        "# user for 0 in training set\n",
        "user_0_trainting_sum=np.sum(train_Ncore_user_normalized[1,[x[1] for x in \\\n",
        "                                       list(zip(np.nonzero(train_Ncore_user_normalized)[0],\\\n",
        "                                            np.nonzero(train_Ncore_user_normalized)[1])) if x[0]==1]])\n",
        "print ('average ratings for user 0 in training after normalization: ', user_0_trainting_sum)\n",
        "\n",
        "# user for 0 in test set\n",
        "user_0_test_sum=np.sum(test_Ncore_user_normalized[1,[x[1] for x in \\\n",
        "                                       list(zip(np.nonzero(test_Ncore_user_normalized)[0],\\\n",
        "                                            np.nonzero(test_Ncore_user_normalized)[1])) if x[0]==1]])\n",
        "print ('average ratings for user 0 in test after normalization: ',user_0_test_sum)"
      ],
      "execution_count": 0,
      "outputs": [
        {
          "output_type": "stream",
          "text": [
            "average ratings for user 0 in training after normalization:  7.105427357601002e-15\n",
            "average ratings for user 0 in test after normalization:  -2.299999999999999\n"
          ],
          "name": "stdout"
        }
      ]
    },
    {
      "cell_type": "code",
      "metadata": {
        "id": "vLFi5Kip5wHE",
        "colab_type": "code",
        "colab": {}
      },
      "source": [
        "def get_mse(pred, actual):\n",
        "    pred = pred[actual.nonzero()[0].tolist(),actual.nonzero()[1].tolist()].flatten()\n",
        "    actual = actual[actual.nonzero()[0].tolist(),actual.nonzero()[1].tolist()].flatten()\n",
        "    mse = mean_squared_error(pred, actual)\n",
        "    return mse"
      ],
      "execution_count": 0,
      "outputs": []
    },
    {
      "cell_type": "code",
      "metadata": {
        "id": "MMb4lkyE53Uj",
        "colab_type": "code",
        "colab": {}
      },
      "source": [
        "def user_baseline(train,test):\n",
        "    user=0\n",
        "    item_sum=0\n",
        "    item_count=0\n",
        "    pred=np.zeros(test.shape)\n",
        "    for i in zip(np.nonzero(train)[0],np.nonzero(train)[1]):\n",
        "        if i[0]==user:\n",
        "            item_sum=train[i[0],i[1]]+item_sum\n",
        "            item_count=item_count+1\n",
        "        if i[0]>user:\n",
        "            item_pos=np.nonzero(test[user,:])[0].tolist()\n",
        "            pred[user,item_pos]=item_sum/item_count\n",
        "            user=user+1\n",
        "            item_sum=0\n",
        "            item_count=0\n",
        "            item_sum=train[i[0],i[1]]+item_sum\n",
        "            item_count=item_count+1\n",
        "    item_pos=np.nonzero(test[user,:])[0].tolist()\n",
        "    pred[user,item_pos]=item_sum/item_count\n",
        "    return pred"
      ],
      "execution_count": 0,
      "outputs": []
    },
    {
      "cell_type": "code",
      "metadata": {
        "id": "e25LXCUv57Ux",
        "colab_type": "code",
        "outputId": "4b3b3269-f002-4e96-da31-c00e1f69a860",
        "colab": {
          "base_uri": "https://localhost:8080/",
          "height": 34
        }
      },
      "source": [
        "# baseline without normalization\n",
        "# baseline MSE for Stochastic Gradient Descent\n",
        "user_baseline_withoutN=user_baseline(train_Ncore_user,test_Ncore_user)\n",
        "print ('baseline MSE without normalization: ', get_mse(user_baseline_withoutN,test_Ncore_user))"
      ],
      "execution_count": 0,
      "outputs": [
        {
          "output_type": "stream",
          "text": [
            "baseline MSE without normalization:  1.1998783713225707\n"
          ],
          "name": "stdout"
        }
      ]
    },
    {
      "cell_type": "code",
      "metadata": {
        "id": "M-BzX-ch58dD",
        "colab_type": "code",
        "colab": {}
      },
      "source": [
        "from numpy.linalg import solve\n",
        "\n",
        "class RecommendationALS():\n",
        "    \n",
        "    def __init__(self, \n",
        "                 ratings, \n",
        "                 n_factors = 10, \n",
        "                 item_reg = 0.0, \n",
        "                 user_reg = 0.0,\n",
        "                 max_iter = 50,\n",
        "                 verbose = True):\n",
        "        \"\"\"\n",
        "        Train a matrix factorization model to predict empty \n",
        "        entries in a matrix. The terminology assumes a \n",
        "        ratings matrix which is ~ user x item\n",
        "        \n",
        "        Params\n",
        "        ======\n",
        "        ratings : (ndarray)\n",
        "            User x Item matrix with corresponding ratings\n",
        "        \n",
        "        n_factors : (int)\n",
        "            Number of latent factors to use in matrix \n",
        "            factorization model\n",
        "        \n",
        "        item_reg : (float)\n",
        "            Regularization term for item latent factors\n",
        "        \n",
        "        user_reg : (float)\n",
        "            Regularization term for user latent factors\n",
        "        \n",
        "        verbose : (bool)\n",
        "            Whether or not to printout training progress\n",
        "        \"\"\"\n",
        "        \n",
        "        self.ratings = ratings\n",
        "        self.n_users, self.n_items = ratings.shape\n",
        "        self.n_factors = n_factors\n",
        "        self.item_reg = item_reg\n",
        "        self.user_reg = user_reg\n",
        "        self._v = verbose\n",
        "        self.n_iter = max_iter\n",
        "\n",
        "    def als_step(self,\n",
        "                 latent_vectors,\n",
        "                 fixed_vecs,\n",
        "                 ratings,\n",
        "                 _lambda,\n",
        "                 type = 'user'):\n",
        "        \"\"\"\n",
        "        One of the two ALS steps. Solve for the latent vectors\n",
        "        specified by type.\n",
        "        \"\"\"\n",
        "        \n",
        "        if type == 'user':\n",
        "            # fix item vector and solve for the user vector\n",
        "            YTY = fixed_vecs.T.dot(fixed_vecs)\n",
        "            lambdaI = np.eye(YTY.shape[0]) * _lambda\n",
        "            \n",
        "            for u in range(latent_vectors.shape[0]):\n",
        "                latent_vectors[u, :] = solve((YTY + lambdaI), ratings[u, :].dot(fixed_vecs))\n",
        "            \n",
        "            \n",
        "        elif type == 'item':\n",
        "            # fix user vector and solve for the item vector\n",
        "            XTX = fixed_vecs.T.dot(fixed_vecs)\n",
        "            lambdaI = np.eye(XTX.shape[0]) * _lambda\n",
        "            \n",
        "            for i in range(latent_vectors.shape[0]):\n",
        "                latent_vectors[i, :] = solve((XTX + lambdaI), ratings[:, i].T.dot(fixed_vecs))\n",
        "        return latent_vectors\n",
        "\n",
        "    \n",
        "    def fit(self):\n",
        "        \"\"\" \n",
        "        Train model for n_iter iterations.\n",
        "        \"\"\"\n",
        "        ctr = 1\n",
        "        self.user_vecs = np.random.random((self.n_users, self.n_factors))\n",
        "        self.item_vecs = np.random.random((self.n_items, self.n_factors))\n",
        "        \n",
        "        while ctr <= self.n_iter:\n",
        "            if ctr % 10 == 0 and self._v:\n",
        "                print ('\\tcurrent iteration: {}'.format(ctr))\n",
        "            \n",
        "            # alternative least square\n",
        "            self.user_vecs = self.als_step(self.user_vecs, \n",
        "                                           self.item_vecs, \n",
        "                                           self.ratings, \n",
        "                                           self.user_reg, \n",
        "                                           type = 'user')\n",
        "            \n",
        "            self.item_vecs = self.als_step(self.item_vecs, \n",
        "                                           self.user_vecs, \n",
        "                                           self.ratings, \n",
        "                                           self.item_reg, \n",
        "                                           type = 'item')\n",
        "            ctr += 1\n",
        "        \n",
        "        \n",
        "        return (self.user_vecs, self.item_vecs)\n",
        "    \n",
        "    def calculate_mse(self, test):\n",
        "        vecs = self.fit()\n",
        "        user_vecs = vecs[0]\n",
        "        item_vecs = vecs[1]\n",
        "        \n",
        "        predictions = np.zeros((user_vecs.shape[0], item_vecs.shape[0]))\n",
        "        for u in range(user_vecs.shape[0]):\n",
        "            for i in range(item_vecs.shape[0]):\n",
        "                predictions[u, i] = user_vecs[u, :].dot(item_vecs[i, :].T)\n",
        "                \n",
        "        self.train_mse = get_mse(predictions, self.ratings)\n",
        "        self.test_mse = get_mse(predictions, test)\n",
        "        return (self.train_mse, self.test_mse)"
      ],
      "execution_count": 0,
      "outputs": []
    },
    {
      "cell_type": "code",
      "metadata": {
        "id": "4yNon0126ES9",
        "colab_type": "code",
        "colab": {}
      },
      "source": [
        "out = [ RecommendationALS(ratings = train_Ncore_user_normalized, \n",
        "                  n_factors = 20,\n",
        "                  item_reg = 2.0,\n",
        "                  user_reg = 2.0,\n",
        "                  max_iter = x,\n",
        "                  verbose = False).calculate_mse(test = test_Ncore_user_normalized) for x in [10,20,30,40,50]]"
      ],
      "execution_count": 0,
      "outputs": []
    },
    {
      "cell_type": "code",
      "metadata": {
        "id": "QQdGExosA23T",
        "colab_type": "code",
        "outputId": "64e14642-2ba3-4174-b52f-963c25009e9f",
        "colab": {
          "base_uri": "https://localhost:8080/",
          "height": 187
        }
      },
      "source": [
        "for i,v in enumerate([10,20,30,40,50]):\n",
        "    print (\"MSE on Training with \", v, \" Iterations: {:4.6f}\".format(out[i][0]))\n",
        "    print (\"MSE on Test with \", v, \" Iterations: {:4.6f}\".format(out[i][1]))"
      ],
      "execution_count": 0,
      "outputs": [
        {
          "output_type": "stream",
          "text": [
            "MSE on Training with  10  Iterations: 0.939698\n",
            "MSE on Test with  10  Iterations: 1.376193\n",
            "MSE on Training with  20  Iterations: 0.939458\n",
            "MSE on Test with  20  Iterations: 1.376008\n",
            "MSE on Training with  30  Iterations: 0.939913\n",
            "MSE on Test with  30  Iterations: 1.376111\n",
            "MSE on Training with  40  Iterations: 0.940201\n",
            "MSE on Test with  40  Iterations: 1.376281\n",
            "MSE on Training with  50  Iterations: 0.940103\n",
            "MSE on Test with  50  Iterations: 1.376011\n"
          ],
          "name": "stdout"
        }
      ]
    },
    {
      "cell_type": "code",
      "metadata": {
        "id": "WWVF-1S0A85y",
        "colab_type": "code",
        "outputId": "43fd5bda-7811-44db-d3cd-3ead5e258d21",
        "colab": {
          "base_uri": "https://localhost:8080/",
          "height": 288
        }
      },
      "source": [
        "plt.plot([10,20,30,40,50], [i[0] for i in out], \\\n",
        "             label = 'Training', linewidth=5)\n",
        "plt.plot([10,20,30,40,50], [i[1] for i in out], \\\n",
        "             label = 'Test', linewidth=5)\n",
        "\n",
        "plt.xticks(fontsize = 12);\n",
        "plt.yticks(fontsize = 12);\n",
        "plt.xlabel('iteration', fontsize = 12);\n",
        "plt.ylabel('MSE', fontsize = 12);\n",
        "plt.legend(loc = 'best', fontsize = 12);"
      ],
      "execution_count": 0,
      "outputs": [
        {
          "output_type": "display_data",
          "data": {
            "image/png": "[encoded data removed]",
            "text/plain": [
              "<Figure size 432x288 with 1 Axes>"
            ]
          },
          "metadata": {
            "tags": [],
            "needs_background": "light"
          }
        }
      ]
    },
    {
      "cell_type": "code",
      "metadata": {
        "id": "XSmaUijXBDfl",
        "colab_type": "code",
        "colab": {}
      },
      "source": [
        "out2 = [ RecommendationALS(ratings = train_Ncore_user_normalized, \n",
        "                  n_factors = x,\n",
        "                  item_reg = 2.0,\n",
        "                  user_reg = 2.0,\n",
        "                  max_iter = 10,\n",
        "                  verbose = False).calculate_mse(test = test_Ncore_user_normalized) for x in [5,10,15,20,25]]"
      ],
      "execution_count": 0,
      "outputs": []
    },
    {
      "cell_type": "code",
      "metadata": {
        "id": "gSXwaHc_DA5E",
        "colab_type": "code",
        "outputId": "cb65313e-e3be-479c-9e84-bdb13eefdb67",
        "colab": {
          "base_uri": "https://localhost:8080/",
          "height": 187
        }
      },
      "source": [
        "for i,v in enumerate([5,10,15,20,25]):\n",
        "    print (\"MSE on Training with \", v, \" Latent Factors: {:4.6f}\".format(out2[i][0]))\n",
        "    print (\"MSE on Test with \", v, \" Latent Factors: {:4.6f}\".format(out2[i][1]))"
      ],
      "execution_count": 0,
      "outputs": [
        {
          "output_type": "stream",
          "text": [
            "MSE on Training with  5  Latent Factors: 0.996620\n",
            "MSE on Test with  5  Latent Factors: 1.376910\n",
            "MSE on Training with  10  Latent Factors: 0.974916\n",
            "MSE on Test with  10  Latent Factors: 1.376295\n",
            "MSE on Training with  15  Latent Factors: 0.956239\n",
            "MSE on Test with  15  Latent Factors: 1.376322\n",
            "MSE on Training with  20  Latent Factors: 0.939206\n",
            "MSE on Test with  20  Latent Factors: 1.376224\n",
            "MSE on Training with  25  Latent Factors: 0.924268\n",
            "MSE on Test with  25  Latent Factors: 1.375825\n"
          ],
          "name": "stdout"
        }
      ]
    },
    {
      "cell_type": "code",
      "metadata": {
        "id": "23RMns4LDGI2",
        "colab_type": "code",
        "outputId": "1a6da5ba-85bf-40b8-c9e2-9942bb8d5576",
        "colab": {
          "base_uri": "https://localhost:8080/",
          "height": 288
        }
      },
      "source": [
        "plt.plot([5,10,15,20,25], [i[0] for i in out2], \\\n",
        "             label = 'Training', linewidth=5)\n",
        "plt.plot([5,10,15,20,25], [i[1] for i in out2], \\\n",
        "             label = 'Test', linewidth=5)\n",
        "\n",
        "plt.xticks(fontsize = 12);\n",
        "plt.yticks(fontsize = 12);\n",
        "plt.xlabel('Latent Factors', fontsize = 12);\n",
        "plt.ylabel('MSE', fontsize = 12);\n",
        "plt.legend(loc = 'best', fontsize = 12);"
      ],
      "execution_count": 0,
      "outputs": [
        {
          "output_type": "display_data",
          "data": {
            "image/png": "[encoded data removed]",
            "text/plain": [
              "<Figure size 432x288 with 1 Axes>"
            ]
          },
          "metadata": {
            "tags": [],
            "needs_background": "light"
          }
        }
      ]
    }
  ]
}