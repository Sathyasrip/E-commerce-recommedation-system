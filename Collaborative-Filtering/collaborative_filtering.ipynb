{
 "cells": [
  {
   "cell_type": "code",
   "execution_count": 120,
   "metadata": {
    "collapsed": true,
    "pycharm": {
     "is_executing": false
    }
   },
   "outputs": [],
   "source": [
    "import pandas as pd\n",
    "import numpy as np\n",
    "import seaborn as sns\n",
    "import matplotlib.pyplot as plt\n",
    "from scipy.sparse import csc_matrix\n",
    "from readFunctions import openFile\n",
    "from sklearn.metrics.pairwise import cosine_similarity"
   ]
  },
  {
   "cell_type": "code",
   "execution_count": 121,
   "outputs": [],
   "source": [
    "data = openFile('../Data/All_Beauty_5.json.gz')\n"
   ],
   "metadata": {
    "collapsed": false,
    "pycharm": {
     "name": "#%%\n",
     "is_executing": false
    }
   }
  },
  {
   "cell_type": "code",
   "execution_count": 122,
   "outputs": [
    {
     "data": {
      "text/plain": "   Unnamed: 0  overall  verified   reviewTime      reviewerID        asin  \\\n0           0      5.0      True   09 1, 2016  A3CIUOJXQ5VDQ2  B0000530HU   \n1           1      5.0      True  11 14, 2013  A3H7T87S984REU  B0000530HU   \n2           2      1.0      True  08 18, 2013  A3J034YH7UG4KT  B0000530HU   \n3           3      5.0     False   05 3, 2011  A2UEO5XR3598GI  B0000530HU   \n4           4      5.0      True   05 6, 2011  A3SFRT223XXWF7  B00006L9LC   \n\n                                               style     reviewerName  \\\n0  {'Size:': ' 7.0 oz', 'Flavor:': ' Classic Ice ...         Shelly F   \n1  {'Size:': ' 7.0 oz', 'Flavor:': ' Classic Ice ...     houserules18   \n2  {'Size:': ' 7.0 oz', 'Flavor:': ' Classic Ice ...             Adam   \n3  {'Size:': ' 7.0 oz', 'Flavor:': ' Classic Ice ...           Rich K   \n4                          {'Size:': ' 200ml/6.7oz'}  C. C. Christian   \n\n                                          reviewText  \\\n0                   As advertised. Reasonably priced   \n1  Like the oder and the feel when I put it on my...   \n2  I bought this to smell nice after I shave.  Wh...   \n3  HEY!! I am an Aqua Velva Man and absolutely lo...   \n4  If you ever want to feel pampered by a shampoo...   \n\n                                             summary  unixReviewTime vote  \\\n0                                         Five Stars      1472688000  NaN   \n1                                  Good for the face      1384387200  NaN   \n2                                       Smells awful      1376784000  NaN   \n3  Truth is There IS Nothing Like an AQUA VELVA MAN.      1304380800   25   \n4                                    Bvlgari Shampoo      1304640000    3   \n\n  image  \n0   NaN  \n1   NaN  \n2   NaN  \n3   NaN  \n4   NaN  ",
      "text/html": "<div>\n<style scoped>\n    .dataframe tbody tr th:only-of-type {\n        vertical-align: middle;\n    }\n\n    .dataframe tbody tr th {\n        vertical-align: top;\n    }\n\n    .dataframe thead th {\n        text-align: right;\n    }\n</style>\n<table border=\"1\" class=\"dataframe\">\n  <thead>\n    <tr style=\"text-align: right;\">\n      <th></th>\n      <th>Unnamed: 0</th>\n      <th>overall</th>\n      <th>verified</th>\n      <th>reviewTime</th>\n      <th>reviewerID</th>\n      <th>asin</th>\n      <th>style</th>\n      <th>reviewerName</th>\n      <th>reviewText</th>\n      <th>summary</th>\n      <th>unixReviewTime</th>\n      <th>vote</th>\n      <th>image</th>\n    </tr>\n  </thead>\n  <tbody>\n    <tr>\n      <th>0</th>\n      <td>0</td>\n      <td>5.0</td>\n      <td>True</td>\n      <td>09 1, 2016</td>\n      <td>A3CIUOJXQ5VDQ2</td>\n      <td>B0000530HU</td>\n      <td>{'Size:': ' 7.0 oz', 'Flavor:': ' Classic Ice ...</td>\n      <td>Shelly F</td>\n      <td>As advertised. Reasonably priced</td>\n      <td>Five Stars</td>\n      <td>1472688000</td>\n      <td>NaN</td>\n      <td>NaN</td>\n    </tr>\n    <tr>\n      <th>1</th>\n      <td>1</td>\n      <td>5.0</td>\n      <td>True</td>\n      <td>11 14, 2013</td>\n      <td>A3H7T87S984REU</td>\n      <td>B0000530HU</td>\n      <td>{'Size:': ' 7.0 oz', 'Flavor:': ' Classic Ice ...</td>\n      <td>houserules18</td>\n      <td>Like the oder and the feel when I put it on my...</td>\n      <td>Good for the face</td>\n      <td>1384387200</td>\n      <td>NaN</td>\n      <td>NaN</td>\n    </tr>\n    <tr>\n      <th>2</th>\n      <td>2</td>\n      <td>1.0</td>\n      <td>True</td>\n      <td>08 18, 2013</td>\n      <td>A3J034YH7UG4KT</td>\n      <td>B0000530HU</td>\n      <td>{'Size:': ' 7.0 oz', 'Flavor:': ' Classic Ice ...</td>\n      <td>Adam</td>\n      <td>I bought this to smell nice after I shave.  Wh...</td>\n      <td>Smells awful</td>\n      <td>1376784000</td>\n      <td>NaN</td>\n      <td>NaN</td>\n    </tr>\n    <tr>\n      <th>3</th>\n      <td>3</td>\n      <td>5.0</td>\n      <td>False</td>\n      <td>05 3, 2011</td>\n      <td>A2UEO5XR3598GI</td>\n      <td>B0000530HU</td>\n      <td>{'Size:': ' 7.0 oz', 'Flavor:': ' Classic Ice ...</td>\n      <td>Rich K</td>\n      <td>HEY!! I am an Aqua Velva Man and absolutely lo...</td>\n      <td>Truth is There IS Nothing Like an AQUA VELVA MAN.</td>\n      <td>1304380800</td>\n      <td>25</td>\n      <td>NaN</td>\n    </tr>\n    <tr>\n      <th>4</th>\n      <td>4</td>\n      <td>5.0</td>\n      <td>True</td>\n      <td>05 6, 2011</td>\n      <td>A3SFRT223XXWF7</td>\n      <td>B00006L9LC</td>\n      <td>{'Size:': ' 200ml/6.7oz'}</td>\n      <td>C. C. Christian</td>\n      <td>If you ever want to feel pampered by a shampoo...</td>\n      <td>Bvlgari Shampoo</td>\n      <td>1304640000</td>\n      <td>3</td>\n      <td>NaN</td>\n    </tr>\n  </tbody>\n</table>\n</div>"
     },
     "metadata": {},
     "output_type": "execute_result",
     "execution_count": 122
    }
   ],
   "source": [
    "data.head()\n"
   ],
   "metadata": {
    "collapsed": false,
    "pycharm": {
     "name": "#%%\n",
     "is_executing": false
    }
   }
  },
  {
   "cell_type": "code",
   "execution_count": 123,
   "outputs": [
    {
     "name": "stdout",
     "text": [
      "Mean rating : 4.771873220724995\nMean rating standard deviation: 0.74320403799122\n"
     ],
     "output_type": "stream"
    }
   ],
   "source": [
    "print(\"Mean rating : {}\".format(data['overall'].mean()))\n",
    "print(\"Mean rating standard deviation: {}\".format(data['overall'].std()))\n"
   ],
   "metadata": {
    "collapsed": false,
    "pycharm": {
     "name": "#%%\n",
     "is_executing": false
    }
   }
  },
  {
   "cell_type": "code",
   "execution_count": 124,
   "outputs": [
    {
     "data": {
      "text/plain": "Text(0, 0.5, 'count of reviews')"
     },
     "metadata": {},
     "output_type": "execute_result",
     "execution_count": 124
    },
    {
     "data": {
      "text/plain": "<Figure size 432x288 with 1 Axes>",
      "image/png": "[encoded data removed]"
     },
     "metadata": {
      "needs_background": "light"
     },
     "output_type": "display_data"
    }
   ],
   "source": [
    "fig = plt.figure(figsize=(6, 4))\n",
    "ax = fig.add_subplot(111)\n",
    "ax.hist(data['overall'], bins=[0.9, 1.1, 1.9, 2.1, 2.9, 3.1, 3.9, 4.1, 4.9, 5.1])\n",
    "ax.set_xlabel('Overall review', fontsize=13)\n",
    "ax.set_ylabel('count of reviews', fontsize=13)\n"
   ],
   "metadata": {
    "collapsed": false,
    "pycharm": {
     "name": "#%%\n",
     "is_executing": false
    }
   }
  },
  {
   "cell_type": "code",
   "execution_count": 125,
   "outputs": [
    {
     "name": "stdout",
     "text": [
      "Number of reviewers: 991\nNumber of products : 85\nNumber of ratings  : 5269\nAvg Number of ratings per reviewer 5.316851664984863\n"
     ],
     "output_type": "stream"
    }
   ],
   "source": [
    "num_users = len(data['reviewerID'].unique())\n",
    "num_items = len(data['asin'].unique())\n",
    "\n",
    "print(\"Number of reviewers: {}\".format(num_users))\n",
    "print(\"Number of products : {}\".format(num_items))\n",
    "print(\"Number of ratings  : {}\".format(len(data)))\n",
    "\n",
    "avg_num_reviews = data.groupby('reviewerID')['asin'].count()\n",
    "print(\"Avg Number of ratings per reviewer {}\".format(avg_num_reviews.mean()))\n"
   ],
   "metadata": {
    "collapsed": false,
    "pycharm": {
     "name": "#%%\n",
     "is_executing": false
    }
   }
  },
  {
   "cell_type": "code",
   "execution_count": 126,
   "outputs": [
    {
     "data": {
      "text/plain": "Text(0, 0.5, 'number of reviewers')"
     },
     "metadata": {},
     "output_type": "execute_result",
     "execution_count": 126
    },
    {
     "data": {
      "text/plain": "<Figure size 432x288 with 1 Axes>",
      "image/png": "[encoded data removed]"
     },
     "metadata": {
      "needs_background": "light"
     },
     "output_type": "display_data"
    }
   ],
   "source": [
    "mean_rating_of_user = data.groupby('reviewerID').apply(lambda x: x['overall'].mean())\n",
    "\n",
    "fig = plt.figure(figsize=(6, 4))\n",
    "ax = fig.add_subplot(111)\n",
    "ax.hist(mean_rating_of_user)\n",
    "ax.set_xlabel('mean rating given by each reviewer', fontsize=13)\n",
    "ax.set_ylabel('number of reviewers', fontsize=13)"
   ],
   "metadata": {
    "collapsed": false,
    "pycharm": {
     "name": "#%%\n",
     "is_executing": false
    }
   }
  },
  {
   "cell_type": "code",
   "execution_count": 127,
   "outputs": [
    {
     "name": "stdout",
     "text": [
      "(991, 85)\n"
     ],
     "output_type": "stream"
    }
   ],
   "source": [
    "# turn each reviewer and product into categorical data,\n",
    "data['reviewerID'] = data['reviewerID'].astype(\"category\")\n",
    "data['asin'] = data['asin'].astype(\"category\")\n",
    "\n",
    "reviews = csc_matrix((data['overall'].astype(float),\n",
    "                      (data['reviewerID'].cat.codes,\n",
    "                       data['asin'].cat.codes)))\n",
    "print(reviews.shape)\n"
   ],
   "metadata": {
    "collapsed": false,
    "pycharm": {
     "name": "#%%\n",
     "is_executing": false
    }
   }
  },
  {
   "cell_type": "code",
   "execution_count": 128,
   "outputs": [
    {
     "name": "stdout",
     "text": [
      "Sparsity: 4.86%\n"
     ],
     "output_type": "stream"
    }
   ],
   "source": [
    "ratings_matrix = reviews.toarray()\n",
    "\n",
    "sparsity = float(len(ratings_matrix.nonzero()[0]))\n",
    "sparsity /= (ratings_matrix.shape[0] * ratings_matrix.shape[1])\n",
    "sparsity *= 100\n",
    "print(\"Sparsity: {:4.2f}%\".format(sparsity))\n"
   ],
   "metadata": {
    "collapsed": false,
    "pycharm": {
     "name": "#%%\n",
     "is_executing": false
    }
   }
  },
  {
   "cell_type": "code",
   "execution_count": 129,
   "outputs": [
    {
     "name": "stdout",
     "text": [
      "RMSE = 0.7431335085449885\n"
     ],
     "output_type": "stream"
    }
   ],
   "source": [
    "mean_rating = data['overall'].mean()\n",
    "base_rmse = np.sqrt(pow(data['overall'] - mean_rating, 2).mean())\n",
    "print(\"RMSE = {}\".format(base_rmse))\n",
    "\n",
    "\n"
   ],
   "metadata": {
    "collapsed": false,
    "pycharm": {
     "name": "#%%\n",
     "is_executing": false
    }
   }
  },
  {
   "cell_type": "markdown",
   "source": [
    "## User-User Collaborative Filtering using Cosine Similarity"
   ],
   "metadata": {
    "collapsed": false,
    "pycharm": {
     "name": "#%% md\n",
     "is_executing": false
    }
   }
  },
  {
   "cell_type": "code",
   "execution_count": 130,
   "outputs": [
    {
     "name": "stdout",
     "text": [
      "user user similarity (991, 991)\n",
      "User-User CF RMSE for all users: 3.336838280454295\n"
     ],
     "output_type": "stream"
    }
   ],
   "source": [
    "def User_User_CF(reviews):\n",
    "    \"\"\"\n",
    "    Obtains the RMSE error in the user-user collaborative\n",
    "    filtering algorithms using all the similar users.\n",
    "\n",
    "    :param: reviews (numpy.ndarray) : The dense user-item matrix.\n",
    "\n",
    "    :returns: RMSE of predictions\n",
    "    :rvalue: float\n",
    "    \"\"\"\n",
    "\n",
    "    # Get the user-user similarity matrix\n",
    "    user_user_similarity = cosine_similarity(reviews)    \n",
    "    print('user user similarity', user_user_similarity.shape)\n",
    "\n",
    "    sqdiffs = 0\n",
    "    num_preds = 0\n",
    "\n",
    "    # to protect against divide by zero issues\n",
    "    eps = 1e-6\n",
    "\n",
    "    cnt_no_sims = 0\n",
    "    # loop over the users\n",
    "    for user_i, u in enumerate(reviews):\n",
    "\n",
    "        # products user HAS rated\n",
    "        i_rated = np.where(u > 0)[0]\n",
    "\n",
    "        # Get the average rating for this user\n",
    "        user_avg = i_rated.mean()\n",
    "\n",
    "        # loop over all the products that each user reviewed\n",
    "        # Note: these are all the non-zero entries in the row\n",
    "        for i_product in i_rated:\n",
    "\n",
    "            # Get all the users (indices) that\n",
    "            # have also reviewed this product.\n",
    "            # Note: This also includes the user of interest!\n",
    "            i_has_rated = np.where(reviews[:, i_product])[0]\n",
    "\n",
    "            # remove the user (indices) of interest\n",
    "            # from this column\n",
    "            i_remove = np.argmin(abs(i_has_rated - user_i))\n",
    "            i_others_have_rated = np.delete(i_has_rated, i_remove)\n",
    "\n",
    "            # Get the ratings for product by the similar users,\n",
    "            ratings = reviews[i_others_have_rated,\n",
    "                              i_product]\n",
    "\n",
    "            ratings -= user_avg\n",
    "\n",
    "            # get the cosine similarity between the users\n",
    "            # and other users.\n",
    "            similarities = user_user_similarity[user_i,\n",
    "                                                i_others_have_rated]\n",
    "\n",
    "            # denominator of user_i's produdct prediction\n",
    "            norm = np.sum(similarities)\n",
    "            if norm == 0:\n",
    "                cnt_no_sims += 1\n",
    "                norm = eps\n",
    "\n",
    "            # prediction of user u on product i: p_{u,i}\n",
    "            predicted_rating = user_avg + np.sum(np.multiply(\n",
    "                ratings.T,\n",
    "                similarities)) / norm\n",
    "\n",
    "            # actual rating by user u on product i\n",
    "            actual_rating = reviews[user_i, i_product]\n",
    "\n",
    "        # get the L2 difference in predicted and actual\n",
    "        # rating for the user\n",
    "        sqdiffs += pow(predicted_rating - actual_rating, 2.0)\n",
    "        num_preds += 1\n",
    "\n",
    "    # get the average of all the predictions\n",
    "    rmse_cossim = np.sqrt(sqdiffs / num_preds)\n",
    "    return rmse_cossim\n",
    "\n",
    "\n",
    "user_all_rmse = User_User_CF(ratings_matrix)\n",
    "print('User-User CF RMSE for all users:', user_all_rmse)\n"
   ],
   "metadata": {
    "collapsed": false,
    "pycharm": {
     "name": "#%%\n",
     "is_executing": false
    }
   }
  },
  {
   "cell_type": "code",
   "execution_count": 131,
   "outputs": [
    {
     "name": "stdout",
     "text": [
      "top n: [3.2245514554429415, 2.9074616267559446, 2.8149366250018413, 2.796117845969906, 2.9136905360965226, 3.0682470053510316, 3.0446225555526403, 3.188013344815447]\n"
     ],
     "output_type": "stream"
    }
   ],
   "source": [
    "def User_User_CF_TopN(reviews, N):\n",
    "    \"\"\"\n",
    "    Obtains the RMSE error in the user-user collaborative\n",
    "    filtering algorithms using the top N most similar users.\n",
    "\n",
    "    :param: reviews (numpy.ndarray) : The dense user-item matrix.\n",
    "    :param: N (int) : The number of the most similar users.\n",
    "\n",
    "    :returns: RMSE of predictions\n",
    "    :rvalue: float\n",
    "    \"\"\"\n",
    "\n",
    "    # Get the user-user similarity matrix\n",
    "    user_user_similarity = cosine_similarity(reviews)\n",
    "\n",
    "    sqdiffs = 0\n",
    "    num_preds = 0\n",
    "\n",
    "    # to protect against divide by zero issues\n",
    "    eps = 1e-6\n",
    "\n",
    "    cnt_no_sims = 0\n",
    "    # loop over the users\n",
    "    for user_i, u in enumerate(reviews):\n",
    "\n",
    "        # products user HAS rated\n",
    "        i_rated = np.where(u > 0)[0]\n",
    "\n",
    "        # Get the average rating for this user\n",
    "        user_avg = i_rated.mean()\n",
    "\n",
    "        # loop over all the products that each user reviewed\n",
    "        # Note: these are all the non-zero entries in the row\n",
    "        for i_product in i_rated:\n",
    "\n",
    "            # Get all the users (indices) that\n",
    "            # have also reviewed this product.\n",
    "            # Note: This also includes the user of interest!\n",
    "            i_has_rated = np.where(reviews[:, i_product] > 0)[0]\n",
    "\n",
    "            # remove the user (indices) of interest\n",
    "            # from this column\n",
    "            i_remove = np.argmin(abs(i_has_rated - user_i))\n",
    "            i_others_have_rated = np.delete(i_has_rated, i_remove)\n",
    "\n",
    "            # Get the ratings for product by the similar users,\n",
    "            ratings = reviews[i_others_have_rated,\n",
    "                              i_product]\n",
    "\n",
    "            ratings -= user_avg\n",
    "\n",
    "            # get the cosine similarity between the users\n",
    "            # and other users.\n",
    "            sims = user_user_similarity[user_i,\n",
    "                                        i_others_have_rated]\n",
    "\n",
    "            # choose top N most similar users\n",
    "            most_similar_users = sims[np.argsort(sims * -1)][:N]\n",
    "            most_similar_ratings = ratings[np.argsort(sims * -1)][:N]\n",
    "\n",
    "            # denominator of user_i's produdct prediction\n",
    "            norm = np.sum(most_similar_users)\n",
    "            if norm == 0:\n",
    "                cnt_no_sims += 1\n",
    "                norm = eps\n",
    "\n",
    "            # prediction of user u on product i: p_{u,i}\n",
    "            predicted_rating = user_avg + np.sum(np.multiply(\n",
    "                most_similar_ratings.T,\n",
    "                most_similar_users)) / norm\n",
    "\n",
    "            # actual rating by user u on product i\n",
    "            actual_rating = reviews[user_i, i_product]\n",
    "\n",
    "        # get the L2 difference in predicted and actual\n",
    "        # rating for the user\n",
    "        sqdiffs += pow(predicted_rating - actual_rating, 2.0)\n",
    "        num_preds += 1\n",
    "\n",
    "    # get the average of all the predictions\n",
    "    rmse_cossim = np.sqrt(sqdiffs / num_preds)\n",
    "    return rmse_cossim\n",
    "\n",
    "\n",
    "N_users = [1, 2, 3, 4, 5, 10, 25, 50]\n",
    "top_N = [User_User_CF_TopN(ratings_matrix, i) for i in N_users]\n",
    "print('top n:', top_N)\n"
   ],
   "metadata": {
    "collapsed": false,
    "pycharm": {
     "name": "#%%\n",
     "is_executing": false
    }
   }
  },
  {
   "cell_type": "code",
   "execution_count": 132,
   "outputs": [
    {
     "data": {
      "text/plain": "Text(0.5, 1.0, 'RMSE Error In Recommender Predictions')"
     },
     "metadata": {},
     "output_type": "execute_result",
     "execution_count": 132
    },
    {
     "data": {
      "text/plain": "<Figure size 576x360 with 1 Axes>",
      "image/png": "[encoded data removed]"
     },
     "metadata": {
      "needs_background": "light"
     },
     "output_type": "display_data"
    }
   ],
   "source": [
    "# make constant vectors\n",
    "user_all = []\n",
    "mean_all = []\n",
    "for i in range(len(N_users)):\n",
    "    user_all.append(user_all_rmse)\n",
    "    mean_all.append(base_rmse)\n",
    "\n",
    "plt.figure(figsize=(8, 5))\n",
    "plt.plot(N_users, top_N, 'b', label='User-User CF, Top N Users')\n",
    "plt.plot(N_users, user_all, 'r', label='User-User CF, All Users')\n",
    "plt.plot(N_users, mean_all, 'k', label='Mean Rating Of All Users')\n",
    "plt.xlabel('N')\n",
    "plt.ylabel('RMSE Error')\n",
    "plt.legend()\n",
    "plt.title('RMSE Error In Recommender Predictions')\n",
    "\n",
    "\n"
   ],
   "metadata": {
    "collapsed": false,
    "pycharm": {
     "name": "#%%\n",
     "is_executing": false
    }
   }
  }
 ],
 "metadata": {
  "language_info": {
   "codemirror_mode": {
    "name": "ipython",
    "version": 2
   },
   "file_extension": ".py",
   "mimetype": "text/x-python",
   "name": "python",
   "nbconvert_exporter": "python",
   "pygments_lexer": "ipython2",
   "version": "2.7.6"
  },
  "kernelspec": {
   "name": "python3",
   "language": "python",
   "display_name": "Python 3"
  },
  "pycharm": {
   "stem_cell": {
    "cell_type": "raw",
    "source": [],
    "metadata": {
     "collapsed": false
    }
   }
  }
 },
 "nbformat": 4,
 "nbformat_minor": 0
}