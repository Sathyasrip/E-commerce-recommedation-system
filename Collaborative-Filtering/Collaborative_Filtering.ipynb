{
  "nbformat": 4,
  "nbformat_minor": 0,
  "metadata": {
    "colab": {
      "name": "Collaborative Filtering",
      "provenance": [],
      "machine_shape": "hm",
      "include_colab_link": true
    },
    "kernelspec": {
      "name": "python3",
      "display_name": "Python 3"
    }
  },
  "cells": [
    {
      "cell_type": "markdown",
      "metadata": {
        "id": "view-in-github",
        "colab_type": "text"
      },
      "source": [
        "<a href=\"https://colab.research.google.com/github/kapilmulchandani/E-commerce-recommedation-system/blob/master/Collaborative-Filtering/Collaborative_Filtering.ipynb\" target=\"_parent\"><img src=\"https://colab.research.google.com/assets/colab-badge.svg\" alt=\"Open In Colab\"/></a>"
      ]
    },
    {
      "cell_type": "markdown",
      "metadata": {
        "id": "VqIx0RzSsJmw",
        "colab_type": "text"
      },
      "source": [
        "# Collaborative Filtering\n",
        "\n"
      ]
    },
    {
      "cell_type": "markdown",
      "metadata": {
        "id": "_hrfBJ8-sixp",
        "colab_type": "text"
      },
      "source": [
        "Installing required packages:"
      ]
    },
    {
      "cell_type": "code",
      "metadata": {
        "id": "QISN4GOpxlXa",
        "colab_type": "code",
        "outputId": "880c9580-a9a8-40fb-c148-9c8ce69d7a2c",
        "colab": {
          "base_uri": "https://localhost:8080/",
          "height": 122
        }
      },
      "source": [
        "!pip install surprise"
      ],
      "execution_count": 1,
      "outputs": [
        {
          "output_type": "stream",
          "text": [
            "Requirement already satisfied: surprise in /usr/local/lib/python3.6/dist-packages (0.1)\n",
            "Requirement already satisfied: scikit-surprise in /usr/local/lib/python3.6/dist-packages (from surprise) (1.1.0)\n",
            "Requirement already satisfied: joblib>=0.11 in /usr/local/lib/python3.6/dist-packages (from scikit-surprise->surprise) (0.14.1)\n",
            "Requirement already satisfied: six>=1.10.0 in /usr/local/lib/python3.6/dist-packages (from scikit-surprise->surprise) (1.12.0)\n",
            "Requirement already satisfied: numpy>=1.11.2 in /usr/local/lib/python3.6/dist-packages (from scikit-surprise->surprise) (1.18.3)\n",
            "Requirement already satisfied: scipy>=1.0.0 in /usr/local/lib/python3.6/dist-packages (from scikit-surprise->surprise) (1.4.1)\n"
          ],
          "name": "stdout"
        }
      ]
    },
    {
      "cell_type": "markdown",
      "metadata": {
        "id": "3-kMTu4pscIy",
        "colab_type": "text"
      },
      "source": [
        "Importing all the libraries:"
      ]
    },
    {
      "cell_type": "code",
      "metadata": {
        "id": "PjpsB_j4wiIJ",
        "colab_type": "code",
        "colab": {}
      },
      "source": [
        "from surprise.model_selection import train_test_split\n",
        "from surprise import KNNWithMeans\n",
        "from surprise import Dataset\n",
        "from surprise import accuracy\n",
        "from surprise import Reader\n",
        "import pandas as pd\n",
        "import numpy as np\n",
        "import os"
      ],
      "execution_count": 0,
      "outputs": []
    },
    {
      "cell_type": "markdown",
      "metadata": {
        "id": "QYVCJuoMtOcc",
        "colab_type": "text"
      },
      "source": [
        "Loading Data:"
      ]
    },
    {
      "cell_type": "code",
      "metadata": {
        "id": "0ZSPIjod15Y8",
        "colab_type": "code",
        "outputId": "7fa2afae-3288-45ce-cbe5-b2beb2d464b8",
        "colab": {
          "base_uri": "https://localhost:8080/",
          "height": 279
        }
      },
      "source": [
        "data = pd.read_csv('reviews.csv')\n",
        "data.head()"
      ],
      "execution_count": 6,
      "outputs": [
        {
          "output_type": "execute_result",
          "data": {
            "text/html": [
              "<div>\n",
              "<style scoped>\n",
              "    .dataframe tbody tr th:only-of-type {\n",
              "        vertical-align: middle;\n",
              "    }\n",
              "\n",
              "    .dataframe tbody tr th {\n",
              "        vertical-align: top;\n",
              "    }\n",
              "\n",
              "    .dataframe thead th {\n",
              "        text-align: right;\n",
              "    }\n",
              "</style>\n",
              "<table border=\"1\" class=\"dataframe\">\n",
              "  <thead>\n",
              "    <tr style=\"text-align: right;\">\n",
              "      <th></th>\n",
              "      <th>reviewerID</th>\n",
              "      <th>asin</th>\n",
              "      <th>reviewerName</th>\n",
              "      <th>helpful</th>\n",
              "      <th>reviewText</th>\n",
              "      <th>overall</th>\n",
              "      <th>summary</th>\n",
              "      <th>unixReviewTime</th>\n",
              "      <th>reviewTime</th>\n",
              "    </tr>\n",
              "  </thead>\n",
              "  <tbody>\n",
              "    <tr>\n",
              "      <th>0</th>\n",
              "      <td>A1YJEY40YUW4SE</td>\n",
              "      <td>7806397051</td>\n",
              "      <td>Andrea</td>\n",
              "      <td>[3, 4]</td>\n",
              "      <td>Very oily and creamy. Not at all what I expect...</td>\n",
              "      <td>1.0</td>\n",
              "      <td>Don't waste your money</td>\n",
              "      <td>1391040000</td>\n",
              "      <td>01 30, 2014</td>\n",
              "    </tr>\n",
              "    <tr>\n",
              "      <th>1</th>\n",
              "      <td>A60XNB876KYML</td>\n",
              "      <td>7806397051</td>\n",
              "      <td>Jessica H.</td>\n",
              "      <td>[1, 1]</td>\n",
              "      <td>This palette was a decent price and I was look...</td>\n",
              "      <td>3.0</td>\n",
              "      <td>OK Palette!</td>\n",
              "      <td>1397779200</td>\n",
              "      <td>04 18, 2014</td>\n",
              "    </tr>\n",
              "    <tr>\n",
              "      <th>2</th>\n",
              "      <td>A3G6XNM240RMWA</td>\n",
              "      <td>7806397051</td>\n",
              "      <td>Karen</td>\n",
              "      <td>[0, 1]</td>\n",
              "      <td>The texture of this concealer pallet is fantas...</td>\n",
              "      <td>4.0</td>\n",
              "      <td>great quality</td>\n",
              "      <td>1378425600</td>\n",
              "      <td>09 6, 2013</td>\n",
              "    </tr>\n",
              "    <tr>\n",
              "      <th>3</th>\n",
              "      <td>A1PQFP6SAJ6D80</td>\n",
              "      <td>7806397051</td>\n",
              "      <td>Norah</td>\n",
              "      <td>[2, 2]</td>\n",
              "      <td>I really can't tell what exactly this thing is...</td>\n",
              "      <td>2.0</td>\n",
              "      <td>Do not work on my face</td>\n",
              "      <td>1386460800</td>\n",
              "      <td>12 8, 2013</td>\n",
              "    </tr>\n",
              "    <tr>\n",
              "      <th>4</th>\n",
              "      <td>A38FVHZTNQ271F</td>\n",
              "      <td>7806397051</td>\n",
              "      <td>Nova Amor</td>\n",
              "      <td>[0, 0]</td>\n",
              "      <td>It was a little smaller than I expected, but t...</td>\n",
              "      <td>3.0</td>\n",
              "      <td>It's okay.</td>\n",
              "      <td>1382140800</td>\n",
              "      <td>10 19, 2013</td>\n",
              "    </tr>\n",
              "  </tbody>\n",
              "</table>\n",
              "</div>"
            ],
            "text/plain": [
              "       reviewerID        asin  ... unixReviewTime   reviewTime\n",
              "0  A1YJEY40YUW4SE  7806397051  ...     1391040000  01 30, 2014\n",
              "1   A60XNB876KYML  7806397051  ...     1397779200  04 18, 2014\n",
              "2  A3G6XNM240RMWA  7806397051  ...     1378425600   09 6, 2013\n",
              "3  A1PQFP6SAJ6D80  7806397051  ...     1386460800   12 8, 2013\n",
              "4  A38FVHZTNQ271F  7806397051  ...     1382140800  10 19, 2013\n",
              "\n",
              "[5 rows x 9 columns]"
            ]
          },
          "metadata": {
            "tags": []
          },
          "execution_count": 6
        }
      ]
    },
    {
      "cell_type": "markdown",
      "metadata": {
        "id": "N3MO5BortiI6",
        "colab_type": "text"
      },
      "source": [
        "Reading the dataset using reader"
      ]
    },
    {
      "cell_type": "code",
      "metadata": {
        "id": "zaBPIjrU1Xa8",
        "colab_type": "code",
        "colab": {}
      },
      "source": [
        "reader = Reader(rating_scale=(1, 5))\n",
        "data = Dataset.load_from_df(data[['reviewerID', 'asin', 'overall']], reader)"
      ],
      "execution_count": 0,
      "outputs": []
    },
    {
      "cell_type": "markdown",
      "metadata": {
        "id": "KCNGkrlZtwGA",
        "colab_type": "text"
      },
      "source": [
        "Splitting the dataset into training and testing set"
      ]
    },
    {
      "cell_type": "code",
      "metadata": {
        "id": "_0UTNfqp2Efb",
        "colab_type": "code",
        "colab": {}
      },
      "source": [
        "trainset, testset = train_test_split(data, test_size=0.3, random_state=10)"
      ],
      "execution_count": 0,
      "outputs": []
    },
    {
      "cell_type": "markdown",
      "metadata": {
        "id": "-ACrTKZEt8TZ",
        "colab_type": "text"
      },
      "source": [
        "## User based Collaborative Filtering"
      ]
    },
    {
      "cell_type": "markdown",
      "metadata": {
        "id": "LpsB2y9buvq3",
        "colab_type": "text"
      },
      "source": [
        "##### Using Cosine Similarity:\n"
      ]
    },
    {
      "cell_type": "code",
      "metadata": {
        "id": "r7624juJ3gvT",
        "colab_type": "code",
        "outputId": "451492aa-b6e0-4b8b-bcf5-f0ec2eaee876",
        "colab": {
          "base_uri": "https://localhost:8080/",
          "height": 87
        }
      },
      "source": [
        "algo = KNNWithMeans(k=5, sim_options={'name': 'cosine', 'user_based': True})\n",
        "algo.fit(trainset)"
      ],
      "execution_count": 12,
      "outputs": [
        {
          "output_type": "stream",
          "text": [
            "<surprise.trainset.Trainset object at 0x7f5c6747f588>\n",
            "Computing the cosine similarity matrix...\n",
            "Done computing similarity matrix.\n",
            "<surprise.trainset.Trainset object at 0x7f5c6747f588>\n"
          ],
          "name": "stdout"
        }
      ]
    },
    {
      "cell_type": "markdown",
      "metadata": {
        "id": "EaSSst05tulf",
        "colab_type": "text"
      },
      "source": [
        "\n",
        "Run the trained model against the testset\n",
        "\n"
      ]
    },
    {
      "cell_type": "code",
      "metadata": {
        "id": "CwkLVIEn3jYc",
        "colab_type": "code",
        "colab": {}
      },
      "source": [
        "user_cosine_test_pred = algo.test(testset)"
      ],
      "execution_count": 0,
      "outputs": []
    },
    {
      "cell_type": "markdown",
      "metadata": {
        "id": "XAS_EM3sv4Ip",
        "colab_type": "text"
      },
      "source": [
        "Get RMSE of User-based Model using Cosine Similarity"
      ]
    },
    {
      "cell_type": "code",
      "metadata": {
        "id": "n1AA4Flq3v1D",
        "colab_type": "code",
        "outputId": "e2c681b5-5061-4822-832a-3028de59e672",
        "colab": {
          "base_uri": "https://localhost:8080/",
          "height": 52
        }
      },
      "source": [
        "print(\"RMSE of User-based Model using Cosine Similarity: Test Set\")\n",
        "user_cosine_rmse = accuracy.rmse(user_cosine_test_pred)"
      ],
      "execution_count": 14,
      "outputs": [
        {
          "output_type": "stream",
          "text": [
            "RMSE of User-based Model using Cosine Similarity: Test Set\n",
            "RMSE: 1.2051\n"
          ],
          "name": "stdout"
        }
      ]
    },
    {
      "cell_type": "markdown",
      "metadata": {
        "id": "K0-k2W0u2ljn",
        "colab_type": "text"
      },
      "source": [
        "##### Using Mean Squared Difference Similarity:"
      ]
    },
    {
      "cell_type": "code",
      "metadata": {
        "id": "Vnr7vB7KxffC",
        "colab_type": "code",
        "outputId": "79ef539b-a6ac-4c05-94d1-94b94ba304ae",
        "colab": {
          "base_uri": "https://localhost:8080/",
          "height": 70
        }
      },
      "source": [
        "algo = KNNWithMeans(k=5, sim_options={'name': 'msd', 'user_based': True})\n",
        "algo.fit(trainset)"
      ],
      "execution_count": 16,
      "outputs": [
        {
          "output_type": "stream",
          "text": [
            "Computing the msd similarity matrix...\n",
            "Done computing similarity matrix.\n"
          ],
          "name": "stdout"
        },
        {
          "output_type": "execute_result",
          "data": {
            "text/plain": [
              "<surprise.prediction_algorithms.knns.KNNWithMeans at 0x7f5c61df5860>"
            ]
          },
          "metadata": {
            "tags": []
          },
          "execution_count": 16
        }
      ]
    },
    {
      "cell_type": "markdown",
      "metadata": {
        "id": "nX23guko3JkP",
        "colab_type": "text"
      },
      "source": [
        "Run the trained model against the testset"
      ]
    },
    {
      "cell_type": "code",
      "metadata": {
        "id": "lXRXRZWKxfi8",
        "colab_type": "code",
        "colab": {}
      },
      "source": [
        "user_msd_test_pred = algo.test(testset)"
      ],
      "execution_count": 0,
      "outputs": []
    },
    {
      "cell_type": "markdown",
      "metadata": {
        "id": "yEDta9ZF3Rz0",
        "colab_type": "text"
      },
      "source": [
        "Get RMSE of User-based Model using Mean Squared Difference Similarity"
      ]
    },
    {
      "cell_type": "code",
      "metadata": {
        "id": "55IoUnBCxfmb",
        "colab_type": "code",
        "colab": {
          "base_uri": "https://localhost:8080/",
          "height": 70
        },
        "outputId": "50a8bc32-2a95-4e2d-f7c9-0bbe26c318ea"
      },
      "source": [
        "print(\"RMSE of User-based Model using Mean Squared Difference: Test Set\")\n",
        "user_msd_rmse = accuracy.rmse(user_msd_test_pred)\n",
        "user_msd_rmse"
      ],
      "execution_count": 18,
      "outputs": [
        {
          "output_type": "stream",
          "text": [
            "RMSE of User-based Model using Mean Squared Difference: Test Set\n",
            "RMSE: 1.2080\n"
          ],
          "name": "stdout"
        },
        {
          "output_type": "execute_result",
          "data": {
            "text/plain": [
              "1.2080426835721234"
            ]
          },
          "metadata": {
            "tags": []
          },
          "execution_count": 18
        }
      ]
    },
    {
      "cell_type": "markdown",
      "metadata": {
        "id": "E4Ogyy1VwDIh",
        "colab_type": "text"
      },
      "source": [
        "##### Using Pearson Baseline Correlation:\n"
      ]
    },
    {
      "cell_type": "code",
      "metadata": {
        "id": "2Z2RNWXJ4G57",
        "colab_type": "code",
        "outputId": "69c511b1-193a-4e94-c83e-430f42813b0e",
        "colab": {
          "base_uri": "https://localhost:8080/",
          "height": 87
        }
      },
      "source": [
        "algo = KNNWithMeans(k=5, sim_options={'name': 'pearson_baseline', 'user_based': True})\n",
        "algo.fit(trainset)"
      ],
      "execution_count": 19,
      "outputs": [
        {
          "output_type": "stream",
          "text": [
            "Estimating biases using als...\n",
            "Computing the pearson_baseline similarity matrix...\n",
            "Done computing similarity matrix.\n"
          ],
          "name": "stdout"
        },
        {
          "output_type": "execute_result",
          "data": {
            "text/plain": [
              "<surprise.prediction_algorithms.knns.KNNWithMeans at 0x7f5c5b49ef98>"
            ]
          },
          "metadata": {
            "tags": []
          },
          "execution_count": 19
        }
      ]
    },
    {
      "cell_type": "markdown",
      "metadata": {
        "id": "JynGc-M63e2x",
        "colab_type": "text"
      },
      "source": [
        "Run the trained model against the testset"
      ]
    },
    {
      "cell_type": "code",
      "metadata": {
        "id": "_sPPNRkEBFVD",
        "colab_type": "code",
        "colab": {}
      },
      "source": [
        "user_pb_test_pred = algo.test(testset)"
      ],
      "execution_count": 0,
      "outputs": []
    },
    {
      "cell_type": "markdown",
      "metadata": {
        "id": "s-ApJHy04AHU",
        "colab_type": "text"
      },
      "source": [
        "Get RMSE of User-based Model using Pearson Baseline"
      ]
    },
    {
      "cell_type": "code",
      "metadata": {
        "id": "UNZ0ihe4BJh9",
        "colab_type": "code",
        "outputId": "de55de5f-e76a-43ed-9306-06871ef44752",
        "colab": {
          "base_uri": "https://localhost:8080/",
          "height": 70
        }
      },
      "source": [
        "print(\"RMSE of User-based Model using Pearson Baseline : Test Set\")\n",
        "user_pb_rmse = accuracy.rmse(user_pb_test_pred)\n",
        "user_pb_rmse"
      ],
      "execution_count": 21,
      "outputs": [
        {
          "output_type": "stream",
          "text": [
            "RMSE of User-based Model using Pearson Baseline : Test Set\n",
            "RMSE: 1.1782\n"
          ],
          "name": "stdout"
        },
        {
          "output_type": "execute_result",
          "data": {
            "text/plain": [
              "1.1782235257370004"
            ]
          },
          "metadata": {
            "tags": []
          },
          "execution_count": 21
        }
      ]
    },
    {
      "cell_type": "markdown",
      "metadata": {
        "colab_type": "text",
        "id": "BMEurk225fwR"
      },
      "source": [
        "## Item based Collaborative Filtering"
      ]
    },
    {
      "cell_type": "markdown",
      "metadata": {
        "colab_type": "text",
        "id": "2WFRvx135fwm"
      },
      "source": [
        "##### Using Cosine Similarity:\n"
      ]
    },
    {
      "cell_type": "code",
      "metadata": {
        "colab_type": "code",
        "outputId": "0772c7b3-ef9c-409f-e756-8877ed245391",
        "id": "PMy4aWOf5fwo",
        "colab": {
          "base_uri": "https://localhost:8080/",
          "height": 70
        }
      },
      "source": [
        "algo = KNNWithMeans(k=5, sim_options={'name': 'cosine', 'user_based': False})\n",
        "algo.fit(trainset)"
      ],
      "execution_count": 22,
      "outputs": [
        {
          "output_type": "stream",
          "text": [
            "Computing the cosine similarity matrix...\n",
            "Done computing similarity matrix.\n"
          ],
          "name": "stdout"
        },
        {
          "output_type": "execute_result",
          "data": {
            "text/plain": [
              "<surprise.prediction_algorithms.knns.KNNWithMeans at 0x7f5c5b49eef0>"
            ]
          },
          "metadata": {
            "tags": []
          },
          "execution_count": 22
        }
      ]
    },
    {
      "cell_type": "markdown",
      "metadata": {
        "colab_type": "text",
        "id": "vYMNQ9O95fwx"
      },
      "source": [
        "\n",
        "Run the trained model against the testset\n",
        "\n"
      ]
    },
    {
      "cell_type": "code",
      "metadata": {
        "colab_type": "code",
        "id": "efQ7M0BF5fwx",
        "colab": {}
      },
      "source": [
        "item_cosine_test_pred = algo.test(testset)"
      ],
      "execution_count": 0,
      "outputs": []
    },
    {
      "cell_type": "markdown",
      "metadata": {
        "colab_type": "text",
        "id": "7H2QFN-D5fw1"
      },
      "source": [
        "Get RMSE of Item-based Model using Cosine Similarity"
      ]
    },
    {
      "cell_type": "code",
      "metadata": {
        "colab_type": "code",
        "outputId": "e335192e-fd15-435f-83b3-1dffb9112792",
        "id": "d4YV5seG5fw2",
        "colab": {
          "base_uri": "https://localhost:8080/",
          "height": 52
        }
      },
      "source": [
        "print(\"RMSE of Item-based Model using Cosine Similarity: Test Set\")\n",
        "item_cosine_rmse = accuracy.rmse(item_cosine_test_pred)"
      ],
      "execution_count": 24,
      "outputs": [
        {
          "output_type": "stream",
          "text": [
            "RMSE of Item-based Model using Cosine Similarity: Test Set\n",
            "RMSE: 1.2101\n"
          ],
          "name": "stdout"
        }
      ]
    },
    {
      "cell_type": "markdown",
      "metadata": {
        "colab_type": "text",
        "id": "gw_nh0Ic5fw5"
      },
      "source": [
        "##### Using Mean Squared Difference Similarity:"
      ]
    },
    {
      "cell_type": "code",
      "metadata": {
        "colab_type": "code",
        "outputId": "1701d2af-845a-47ee-b80b-f7cd4944118f",
        "id": "2KO6ua0K5fw5",
        "colab": {
          "base_uri": "https://localhost:8080/",
          "height": 70
        }
      },
      "source": [
        "algo = KNNWithMeans(k=5, sim_options={'name': 'msd', 'user_based': False})\n",
        "algo.fit(trainset)"
      ],
      "execution_count": 25,
      "outputs": [
        {
          "output_type": "stream",
          "text": [
            "Computing the msd similarity matrix...\n",
            "Done computing similarity matrix.\n"
          ],
          "name": "stdout"
        },
        {
          "output_type": "execute_result",
          "data": {
            "text/plain": [
              "<surprise.prediction_algorithms.knns.KNNWithMeans at 0x7f5c5b49e278>"
            ]
          },
          "metadata": {
            "tags": []
          },
          "execution_count": 25
        }
      ]
    },
    {
      "cell_type": "markdown",
      "metadata": {
        "colab_type": "text",
        "id": "l2_o4n6R5fw8"
      },
      "source": [
        "Run the trained model against the testset"
      ]
    },
    {
      "cell_type": "code",
      "metadata": {
        "colab_type": "code",
        "id": "O7bO7XoM5fw9",
        "colab": {}
      },
      "source": [
        "item_msd_test_pred = algo.test(testset)"
      ],
      "execution_count": 0,
      "outputs": []
    },
    {
      "cell_type": "markdown",
      "metadata": {
        "colab_type": "text",
        "id": "uL4YL_hI5fxA"
      },
      "source": [
        "Get RMSE of Item-based Model using Mean Squared Difference Similarity"
      ]
    },
    {
      "cell_type": "code",
      "metadata": {
        "colab_type": "code",
        "id": "Cj12DtaR5fxA",
        "colab": {
          "base_uri": "https://localhost:8080/",
          "height": 70
        },
        "outputId": "8ea3e77e-ae41-498a-a113-14a84bbed925"
      },
      "source": [
        "print(\"RMSE of Item-based Model using Mean Squared Difference: Test Set\")\n",
        "user_msd_rmse = accuracy.rmse(item_msd_test_pred)\n",
        "user_msd_rmse"
      ],
      "execution_count": 27,
      "outputs": [
        {
          "output_type": "stream",
          "text": [
            "RMSE of Item-based Model using Mean Squared Difference: Test Set\n",
            "RMSE: 1.2139\n"
          ],
          "name": "stdout"
        },
        {
          "output_type": "execute_result",
          "data": {
            "text/plain": [
              "1.2139296967207853"
            ]
          },
          "metadata": {
            "tags": []
          },
          "execution_count": 27
        }
      ]
    },
    {
      "cell_type": "markdown",
      "metadata": {
        "colab_type": "text",
        "id": "sKUhwm-o5fxC"
      },
      "source": [
        "##### Using Pearson Baseline Correlation:\n"
      ]
    },
    {
      "cell_type": "code",
      "metadata": {
        "colab_type": "code",
        "outputId": "6b5ffd57-9e6a-469a-e45d-d9c009a08069",
        "id": "lk6cQ_lM5fxD",
        "colab": {
          "base_uri": "https://localhost:8080/",
          "height": 87
        }
      },
      "source": [
        "algo = KNNWithMeans(k=5, sim_options={'name': 'pearson_baseline', 'user_based': False})\n",
        "algo.fit(trainset)"
      ],
      "execution_count": 29,
      "outputs": [
        {
          "output_type": "stream",
          "text": [
            "Estimating biases using als...\n",
            "Computing the pearson_baseline similarity matrix...\n",
            "Done computing similarity matrix.\n"
          ],
          "name": "stdout"
        },
        {
          "output_type": "execute_result",
          "data": {
            "text/plain": [
              "<surprise.prediction_algorithms.knns.KNNWithMeans at 0x7f5c5b49e198>"
            ]
          },
          "metadata": {
            "tags": []
          },
          "execution_count": 29
        }
      ]
    },
    {
      "cell_type": "markdown",
      "metadata": {
        "colab_type": "text",
        "id": "WJ0wBT-a5fxF"
      },
      "source": [
        "Run the trained model against the testset"
      ]
    },
    {
      "cell_type": "code",
      "metadata": {
        "colab_type": "code",
        "id": "M2iPgCMi5fxF",
        "colab": {}
      },
      "source": [
        "item_pb_test_pred = algo.test(testset)"
      ],
      "execution_count": 0,
      "outputs": []
    },
    {
      "cell_type": "markdown",
      "metadata": {
        "colab_type": "text",
        "id": "2EYB4W7Y5fxH"
      },
      "source": [
        "Get RMSE of Item-based Model using Pearson Baseline"
      ]
    },
    {
      "cell_type": "code",
      "metadata": {
        "colab_type": "code",
        "outputId": "390ea41d-0534-426c-e60b-de683a7e6919",
        "id": "ZibVnv4R5fxI",
        "colab": {
          "base_uri": "https://localhost:8080/",
          "height": 70
        }
      },
      "source": [
        "print(\"RMSE of Item-based Model using Pearson Baseline : Test Set\")\n",
        "item_pb_rmse = accuracy.rmse(item_pb_test_pred)\n",
        "item_pb_rmse"
      ],
      "execution_count": 31,
      "outputs": [
        {
          "output_type": "stream",
          "text": [
            "RMSE of Item-based Model using Pearson Baseline : Test Set\n",
            "RMSE: 1.1883\n"
          ],
          "name": "stdout"
        },
        {
          "output_type": "execute_result",
          "data": {
            "text/plain": [
              "1.1883096647877711"
            ]
          },
          "metadata": {
            "tags": []
          },
          "execution_count": 31
        }
      ]
    },
    {
      "cell_type": "code",
      "metadata": {
        "colab_type": "code",
        "id": "fSP5kCvH5fxK",
        "colab": {}
      },
      "source": [
        ""
      ],
      "execution_count": 0,
      "outputs": []
    }
  ]
}