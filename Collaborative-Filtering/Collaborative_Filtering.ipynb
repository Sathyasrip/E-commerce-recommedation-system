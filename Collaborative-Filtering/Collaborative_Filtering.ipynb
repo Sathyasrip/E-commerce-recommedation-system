{
  "nbformat": 4,
  "nbformat_minor": 0,
  "metadata": {
    "colab": {
      "name": "Collaborative Filtering",
      "provenance": [],
      "machine_shape": "hm",
      "include_colab_link": true
    },
    "kernelspec": {
      "name": "python3",
      "display_name": "Python 3"
    }
  },
  "cells": [
    {
      "cell_type": "markdown",
      "metadata": {
        "id": "view-in-github",
        "colab_type": "text"
      },
      "source": [
        "<a href=\"https://colab.research.google.com/github/kapilmulchandani/E-commerce-recommedation-system/blob/master/Collaborative-Filtering/Collaborative_Filtering.ipynb\" target=\"_parent\"><img src=\"https://colab.research.google.com/assets/colab-badge.svg\" alt=\"Open In Colab\"/></a>"
      ]
    },
    {
      "cell_type": "markdown",
      "metadata": {
        "id": "VqIx0RzSsJmw",
        "colab_type": "text"
      },
      "source": [
        "# Collaborative Filtering\n",
        "\n"
      ]
    },
    {
      "cell_type": "markdown",
      "metadata": {
        "id": "_hrfBJ8-sixp",
        "colab_type": "text"
      },
      "source": [
        "Installing required packages:"
      ]
    },
    {
      "cell_type": "code",
      "metadata": {
        "id": "QISN4GOpxlXa",
        "colab_type": "code",
        "outputId": "880c9580-a9a8-40fb-c148-9c8ce69d7a2c",
        "colab": {
          "base_uri": "https://localhost:8080/",
          "height": 122
        }
      },
      "source": [
        "!pip install surprise"
      ],
      "execution_count": 0,
      "outputs": [
        {
          "output_type": "stream",
          "text": [
            "Requirement already satisfied: surprise in /usr/local/lib/python3.6/dist-packages (0.1)\n",
            "Requirement already satisfied: scikit-surprise in /usr/local/lib/python3.6/dist-packages (from surprise) (1.1.0)\n",
            "Requirement already satisfied: joblib>=0.11 in /usr/local/lib/python3.6/dist-packages (from scikit-surprise->surprise) (0.14.1)\n",
            "Requirement already satisfied: six>=1.10.0 in /usr/local/lib/python3.6/dist-packages (from scikit-surprise->surprise) (1.12.0)\n",
            "Requirement already satisfied: numpy>=1.11.2 in /usr/local/lib/python3.6/dist-packages (from scikit-surprise->surprise) (1.18.3)\n",
            "Requirement already satisfied: scipy>=1.0.0 in /usr/local/lib/python3.6/dist-packages (from scikit-surprise->surprise) (1.4.1)\n"
          ],
          "name": "stdout"
        }
      ]
    },
    {
      "cell_type": "markdown",
      "metadata": {
        "id": "3-kMTu4pscIy",
        "colab_type": "text"
      },
      "source": [
        "Importing all the libraries:"
      ]
    },
    {
      "cell_type": "code",
      "metadata": {
        "id": "PjpsB_j4wiIJ",
        "colab_type": "code",
        "colab": {}
      },
      "source": [
        "from surprise.model_selection import train_test_split\n",
        "from surprise import KNNWithMeans\n",
        "from surprise import Dataset\n",
        "from surprise import accuracy\n",
        "from surprise import Reader\n",
        "from collections import defaultdict\n",
        "import pandas as pd\n",
        "import numpy as np\n",
        "import os"
      ],
      "execution_count": 0,
      "outputs": []
    },
    {
      "cell_type": "markdown",
      "metadata": {
        "id": "QYVCJuoMtOcc",
        "colab_type": "text"
      },
      "source": [
        "Loading Data:"
      ]
    },
    {
      "cell_type": "code",
      "metadata": {
        "id": "0ZSPIjod15Y8",
        "colab_type": "code",
        "outputId": "9ca9f472-1080-4562-eb7e-b0ba438ef959",
        "colab": {
          "base_uri": "https://localhost:8080/",
          "height": 195
        }
      },
      "source": [
        "data = pd.read_csv('reviews.csv')\n",
        "data.head()"
      ],
      "execution_count": 2,
      "outputs": [
        {
          "output_type": "execute_result",
          "data": {
            "text/html": [
              "<div>\n",
              "<style scoped>\n",
              "    .dataframe tbody tr th:only-of-type {\n",
              "        vertical-align: middle;\n",
              "    }\n",
              "\n",
              "    .dataframe tbody tr th {\n",
              "        vertical-align: top;\n",
              "    }\n",
              "\n",
              "    .dataframe thead th {\n",
              "        text-align: right;\n",
              "    }\n",
              "</style>\n",
              "<table border=\"1\" class=\"dataframe\">\n",
              "  <thead>\n",
              "    <tr style=\"text-align: right;\">\n",
              "      <th></th>\n",
              "      <th>reviewerID</th>\n",
              "      <th>asin</th>\n",
              "      <th>reviewerName</th>\n",
              "      <th>helpful</th>\n",
              "      <th>reviewText</th>\n",
              "      <th>overall</th>\n",
              "      <th>summary</th>\n",
              "      <th>unixReviewTime</th>\n",
              "      <th>reviewTime</th>\n",
              "    </tr>\n",
              "  </thead>\n",
              "  <tbody>\n",
              "    <tr>\n",
              "      <th>0</th>\n",
              "      <td>A1YJEY40YUW4SE</td>\n",
              "      <td>7806397051</td>\n",
              "      <td>Andrea</td>\n",
              "      <td>[3, 4]</td>\n",
              "      <td>Very oily and creamy. Not at all what I expect...</td>\n",
              "      <td>1.0</td>\n",
              "      <td>Don't waste your money</td>\n",
              "      <td>1391040000</td>\n",
              "      <td>01 30, 2014</td>\n",
              "    </tr>\n",
              "    <tr>\n",
              "      <th>1</th>\n",
              "      <td>A60XNB876KYML</td>\n",
              "      <td>7806397051</td>\n",
              "      <td>Jessica H.</td>\n",
              "      <td>[1, 1]</td>\n",
              "      <td>This palette was a decent price and I was look...</td>\n",
              "      <td>3.0</td>\n",
              "      <td>OK Palette!</td>\n",
              "      <td>1397779200</td>\n",
              "      <td>04 18, 2014</td>\n",
              "    </tr>\n",
              "    <tr>\n",
              "      <th>2</th>\n",
              "      <td>A3G6XNM240RMWA</td>\n",
              "      <td>7806397051</td>\n",
              "      <td>Karen</td>\n",
              "      <td>[0, 1]</td>\n",
              "      <td>The texture of this concealer pallet is fantas...</td>\n",
              "      <td>4.0</td>\n",
              "      <td>great quality</td>\n",
              "      <td>1378425600</td>\n",
              "      <td>09 6, 2013</td>\n",
              "    </tr>\n",
              "    <tr>\n",
              "      <th>3</th>\n",
              "      <td>A1PQFP6SAJ6D80</td>\n",
              "      <td>7806397051</td>\n",
              "      <td>Norah</td>\n",
              "      <td>[2, 2]</td>\n",
              "      <td>I really can't tell what exactly this thing is...</td>\n",
              "      <td>2.0</td>\n",
              "      <td>Do not work on my face</td>\n",
              "      <td>1386460800</td>\n",
              "      <td>12 8, 2013</td>\n",
              "    </tr>\n",
              "    <tr>\n",
              "      <th>4</th>\n",
              "      <td>A38FVHZTNQ271F</td>\n",
              "      <td>7806397051</td>\n",
              "      <td>Nova Amor</td>\n",
              "      <td>[0, 0]</td>\n",
              "      <td>It was a little smaller than I expected, but t...</td>\n",
              "      <td>3.0</td>\n",
              "      <td>It's okay.</td>\n",
              "      <td>1382140800</td>\n",
              "      <td>10 19, 2013</td>\n",
              "    </tr>\n",
              "  </tbody>\n",
              "</table>\n",
              "</div>"
            ],
            "text/plain": [
              "       reviewerID        asin  ... unixReviewTime   reviewTime\n",
              "0  A1YJEY40YUW4SE  7806397051  ...     1391040000  01 30, 2014\n",
              "1   A60XNB876KYML  7806397051  ...     1397779200  04 18, 2014\n",
              "2  A3G6XNM240RMWA  7806397051  ...     1378425600   09 6, 2013\n",
              "3  A1PQFP6SAJ6D80  7806397051  ...     1386460800   12 8, 2013\n",
              "4  A38FVHZTNQ271F  7806397051  ...     1382140800  10 19, 2013\n",
              "\n",
              "[5 rows x 9 columns]"
            ]
          },
          "metadata": {
            "tags": []
          },
          "execution_count": 2
        }
      ]
    },
    {
      "cell_type": "markdown",
      "metadata": {
        "id": "N3MO5BortiI6",
        "colab_type": "text"
      },
      "source": [
        "Reading the dataset using reader"
      ]
    },
    {
      "cell_type": "code",
      "metadata": {
        "id": "zaBPIjrU1Xa8",
        "colab_type": "code",
        "colab": {}
      },
      "source": [
        "reader = Reader(rating_scale=(1, 5))\n",
        "data = Dataset.load_from_df(data[['reviewerID', 'asin', 'overall']], reader)"
      ],
      "execution_count": 0,
      "outputs": []
    },
    {
      "cell_type": "markdown",
      "metadata": {
        "id": "KCNGkrlZtwGA",
        "colab_type": "text"
      },
      "source": [
        "Splitting the dataset into training and testing set"
      ]
    },
    {
      "cell_type": "code",
      "metadata": {
        "id": "_0UTNfqp2Efb",
        "colab_type": "code",
        "colab": {}
      },
      "source": [
        "trainset, testset = train_test_split(data, test_size=0.3, random_state=10)"
      ],
      "execution_count": 0,
      "outputs": []
    },
    {
      "cell_type": "markdown",
      "metadata": {
        "id": "-ACrTKZEt8TZ",
        "colab_type": "text"
      },
      "source": [
        "## User based Collaborative Filtering"
      ]
    },
    {
      "cell_type": "markdown",
      "metadata": {
        "id": "LpsB2y9buvq3",
        "colab_type": "text"
      },
      "source": [
        "##### Using Cosine Similarity:\n"
      ]
    },
    {
      "cell_type": "code",
      "metadata": {
        "id": "r7624juJ3gvT",
        "colab_type": "code",
        "outputId": "8fc14679-01fb-4379-d449-225edc08f88b",
        "colab": {
          "base_uri": "https://localhost:8080/",
          "height": 70
        }
      },
      "source": [
        "algo = KNNWithMeans(k=5, sim_options={'name': 'cosine', 'user_based': True})\n",
        "algo.fit(trainset)"
      ],
      "execution_count": 5,
      "outputs": [
        {
          "output_type": "stream",
          "text": [
            "Computing the cosine similarity matrix...\n",
            "Done computing similarity matrix.\n"
          ],
          "name": "stdout"
        },
        {
          "output_type": "execute_result",
          "data": {
            "text/plain": [
              "<surprise.prediction_algorithms.knns.KNNWithMeans at 0x7f1ca5036390>"
            ]
          },
          "metadata": {
            "tags": []
          },
          "execution_count": 5
        }
      ]
    },
    {
      "cell_type": "markdown",
      "metadata": {
        "id": "EaSSst05tulf",
        "colab_type": "text"
      },
      "source": [
        "\n",
        "Run the trained model against the testset\n",
        "\n"
      ]
    },
    {
      "cell_type": "code",
      "metadata": {
        "id": "CwkLVIEn3jYc",
        "colab_type": "code",
        "colab": {}
      },
      "source": [
        "user_cosine_test_pred = algo.test(testset)"
      ],
      "execution_count": 0,
      "outputs": []
    },
    {
      "cell_type": "markdown",
      "metadata": {
        "id": "XAS_EM3sv4Ip",
        "colab_type": "text"
      },
      "source": [
        "Get RMSE and MSE of User-based Model using Cosine Similarity"
      ]
    },
    {
      "cell_type": "code",
      "metadata": {
        "id": "n1AA4Flq3v1D",
        "colab_type": "code",
        "outputId": "5c7a8e99-622c-4845-9090-a0ecd713c0b8",
        "colab": {
          "base_uri": "https://localhost:8080/",
          "height": 87
        }
      },
      "source": [
        "print(\"RMSE of User-based Model using Cosine Similarity: Test Set\")\n",
        "user_cosine_rmse = accuracy.rmse(user_cosine_test_pred)\n",
        "print(\"MSE of User-based Model using Cosine Similarity: Test Set\")\n",
        "user_cosine_mse = accuracy.mse(user_cosine_test_pred)"
      ],
      "execution_count": 7,
      "outputs": [
        {
          "output_type": "stream",
          "text": [
            "RMSE of User-based Model using Cosine Similarity: Test Set\n",
            "RMSE: 1.2051\n",
            "MSE of User-based Model using Cosine Similarity: Test Set\n",
            "MSE: 1.4523\n"
          ],
          "name": "stdout"
        }
      ]
    },
    {
      "cell_type": "markdown",
      "metadata": {
        "id": "K0-k2W0u2ljn",
        "colab_type": "text"
      },
      "source": [
        "##### Using Mean Squared Difference Similarity:"
      ]
    },
    {
      "cell_type": "code",
      "metadata": {
        "id": "Vnr7vB7KxffC",
        "colab_type": "code",
        "outputId": "d95820b4-416b-4457-bd98-45d64815220d",
        "colab": {
          "base_uri": "https://localhost:8080/",
          "height": 70
        }
      },
      "source": [
        "algo = KNNWithMeans(k=5, sim_options={'name': 'msd', 'user_based': True})\n",
        "algo.fit(trainset)"
      ],
      "execution_count": 8,
      "outputs": [
        {
          "output_type": "stream",
          "text": [
            "Computing the msd similarity matrix...\n",
            "Done computing similarity matrix.\n"
          ],
          "name": "stdout"
        },
        {
          "output_type": "execute_result",
          "data": {
            "text/plain": [
              "<surprise.prediction_algorithms.knns.KNNWithMeans at 0x7f1c8e71dc50>"
            ]
          },
          "metadata": {
            "tags": []
          },
          "execution_count": 8
        }
      ]
    },
    {
      "cell_type": "markdown",
      "metadata": {
        "id": "nX23guko3JkP",
        "colab_type": "text"
      },
      "source": [
        "Run the trained model against the testset"
      ]
    },
    {
      "cell_type": "code",
      "metadata": {
        "id": "lXRXRZWKxfi8",
        "colab_type": "code",
        "colab": {}
      },
      "source": [
        "user_msd_test_pred = algo.test(testset)"
      ],
      "execution_count": 0,
      "outputs": []
    },
    {
      "cell_type": "markdown",
      "metadata": {
        "id": "yEDta9ZF3Rz0",
        "colab_type": "text"
      },
      "source": [
        "Get RMSE and MSE of User-based Model using Mean Squared Difference Similarity"
      ]
    },
    {
      "cell_type": "code",
      "metadata": {
        "id": "55IoUnBCxfmb",
        "colab_type": "code",
        "outputId": "8883a557-709a-45e9-b5d3-7ca0c0878cac",
        "colab": {
          "base_uri": "https://localhost:8080/",
          "height": 87
        }
      },
      "source": [
        "print(\"RMSE of User-based Model using Mean Squared Difference: Test Set\")\n",
        "user_msd_rmse = accuracy.rmse(user_msd_test_pred)\n",
        "print(\"MSE of User-based Model using Mean Squared Difference: Test Set\")\n",
        "user_msd_mse = accuracy.mse(user_msd_test_pred)"
      ],
      "execution_count": 10,
      "outputs": [
        {
          "output_type": "stream",
          "text": [
            "RMSE of User-based Model using Mean Squared Difference: Test Set\n",
            "RMSE: 1.2080\n",
            "MSE of User-based Model using Mean Squared Difference: Test Set\n",
            "MSE: 1.4594\n"
          ],
          "name": "stdout"
        }
      ]
    },
    {
      "cell_type": "markdown",
      "metadata": {
        "id": "E4Ogyy1VwDIh",
        "colab_type": "text"
      },
      "source": [
        "##### Using Pearson Baseline Correlation:\n"
      ]
    },
    {
      "cell_type": "code",
      "metadata": {
        "id": "2Z2RNWXJ4G57",
        "colab_type": "code",
        "outputId": "b04877b5-14a0-44df-a4e3-b2f2eab6bbc2",
        "colab": {
          "base_uri": "https://localhost:8080/",
          "height": 87
        }
      },
      "source": [
        "algo = KNNWithMeans(k=5, sim_options={'name': 'pearson_baseline', 'user_based': True})\n",
        "algo.fit(trainset)"
      ],
      "execution_count": 5,
      "outputs": [
        {
          "output_type": "stream",
          "text": [
            "Estimating biases using als...\n",
            "Computing the pearson_baseline similarity matrix...\n",
            "Done computing similarity matrix.\n"
          ],
          "name": "stdout"
        },
        {
          "output_type": "execute_result",
          "data": {
            "text/plain": [
              "<surprise.prediction_algorithms.knns.KNNWithMeans at 0x7f50236c1780>"
            ]
          },
          "metadata": {
            "tags": []
          },
          "execution_count": 5
        }
      ]
    },
    {
      "cell_type": "markdown",
      "metadata": {
        "id": "JynGc-M63e2x",
        "colab_type": "text"
      },
      "source": [
        "Run the trained model against the testset"
      ]
    },
    {
      "cell_type": "code",
      "metadata": {
        "id": "_sPPNRkEBFVD",
        "colab_type": "code",
        "colab": {}
      },
      "source": [
        "user_pb_test_pred = algo.test(testset)"
      ],
      "execution_count": 0,
      "outputs": []
    },
    {
      "cell_type": "markdown",
      "metadata": {
        "id": "s-ApJHy04AHU",
        "colab_type": "text"
      },
      "source": [
        "Get RMSE of User-based Model using Pearson Baseline"
      ]
    },
    {
      "cell_type": "code",
      "metadata": {
        "id": "UNZ0ihe4BJh9",
        "colab_type": "code",
        "outputId": "149fa3f4-8933-4278-8963-9aead992b2c4",
        "colab": {
          "base_uri": "https://localhost:8080/",
          "height": 87
        }
      },
      "source": [
        "print(\"RMSE of User-based Model using Pearson Baseline : Test Set\")\n",
        "user_pb_rmse = accuracy.rmse(user_pb_test_pred)\n",
        "print(\"MSE of User-based Model using Pearson Baseline : Test Set\")\n",
        "user_pb_mse = accuracy.mse(user_pb_test_pred)"
      ],
      "execution_count": 8,
      "outputs": [
        {
          "output_type": "stream",
          "text": [
            "RMSE of User-based Model using Pearson Baseline : Test Set\n",
            "RMSE: 1.1782\n",
            "MSE of User-based Model using Pearson Baseline : Test Set\n",
            "MSE: 1.3882\n"
          ],
          "name": "stdout"
        }
      ]
    },
    {
      "cell_type": "markdown",
      "metadata": {
        "colab_type": "text",
        "id": "BMEurk225fwR"
      },
      "source": [
        "## Item based Collaborative Filtering"
      ]
    },
    {
      "cell_type": "markdown",
      "metadata": {
        "colab_type": "text",
        "id": "2WFRvx135fwm"
      },
      "source": [
        "##### Using Cosine Similarity:\n"
      ]
    },
    {
      "cell_type": "code",
      "metadata": {
        "colab_type": "code",
        "outputId": "7049ab1a-f23f-4ab9-eb3e-69dca7a93e56",
        "id": "PMy4aWOf5fwo",
        "colab": {
          "base_uri": "https://localhost:8080/",
          "height": 70
        }
      },
      "source": [
        "algo = KNNWithMeans(k=5, sim_options={'name': 'cosine', 'user_based': False})\n",
        "algo.fit(trainset)"
      ],
      "execution_count": 9,
      "outputs": [
        {
          "output_type": "stream",
          "text": [
            "Computing the cosine similarity matrix...\n",
            "Done computing similarity matrix.\n"
          ],
          "name": "stdout"
        },
        {
          "output_type": "execute_result",
          "data": {
            "text/plain": [
              "<surprise.prediction_algorithms.knns.KNNWithMeans at 0x7f501b8a7160>"
            ]
          },
          "metadata": {
            "tags": []
          },
          "execution_count": 9
        }
      ]
    },
    {
      "cell_type": "markdown",
      "metadata": {
        "colab_type": "text",
        "id": "vYMNQ9O95fwx"
      },
      "source": [
        "\n",
        "Run the trained model against the testset\n",
        "\n"
      ]
    },
    {
      "cell_type": "code",
      "metadata": {
        "colab_type": "code",
        "id": "efQ7M0BF5fwx",
        "colab": {}
      },
      "source": [
        "item_cosine_test_pred = algo.test(testset)"
      ],
      "execution_count": 0,
      "outputs": []
    },
    {
      "cell_type": "markdown",
      "metadata": {
        "colab_type": "text",
        "id": "7H2QFN-D5fw1"
      },
      "source": [
        "Get RMSE of Item-based Model using Cosine Similarity"
      ]
    },
    {
      "cell_type": "code",
      "metadata": {
        "colab_type": "code",
        "outputId": "7ec08d49-bf5b-435e-c7ba-3f4cebf83e76",
        "id": "d4YV5seG5fw2",
        "colab": {
          "base_uri": "https://localhost:8080/",
          "height": 87
        }
      },
      "source": [
        "print(\"RMSE of Item-based Model using Cosine Similarity: Test Set\")\n",
        "item_cosine_rmse = accuracy.rmse(item_cosine_test_pred)\n",
        "print(\"MSE of Item-based Model using Cosine Similarity: Test Set\")\n",
        "item_cosine_mse = accuracy.mse(item_cosine_test_pred)"
      ],
      "execution_count": 12,
      "outputs": [
        {
          "output_type": "stream",
          "text": [
            "RMSE of Item-based Model using Cosine Similarity: Test Set\n",
            "RMSE: 1.2101\n",
            "MSE of Item-based Model using Cosine Similarity: Test Set\n",
            "MSE: 1.4644\n"
          ],
          "name": "stdout"
        }
      ]
    },
    {
      "cell_type": "markdown",
      "metadata": {
        "colab_type": "text",
        "id": "gw_nh0Ic5fw5"
      },
      "source": [
        "##### Using Mean Squared Difference Similarity:"
      ]
    },
    {
      "cell_type": "code",
      "metadata": {
        "colab_type": "code",
        "outputId": "5269506f-a502-4092-c92d-ab69aaafd26e",
        "id": "2KO6ua0K5fw5",
        "colab": {
          "base_uri": "https://localhost:8080/",
          "height": 70
        }
      },
      "source": [
        "algo = KNNWithMeans(k=5, sim_options={'name': 'msd', 'user_based': False})\n",
        "algo.fit(trainset)"
      ],
      "execution_count": 13,
      "outputs": [
        {
          "output_type": "stream",
          "text": [
            "Computing the msd similarity matrix...\n",
            "Done computing similarity matrix.\n"
          ],
          "name": "stdout"
        },
        {
          "output_type": "execute_result",
          "data": {
            "text/plain": [
              "<surprise.prediction_algorithms.knns.KNNWithMeans at 0x7f501b8c80b8>"
            ]
          },
          "metadata": {
            "tags": []
          },
          "execution_count": 13
        }
      ]
    },
    {
      "cell_type": "markdown",
      "metadata": {
        "colab_type": "text",
        "id": "l2_o4n6R5fw8"
      },
      "source": [
        "Run the trained model against the testset"
      ]
    },
    {
      "cell_type": "code",
      "metadata": {
        "colab_type": "code",
        "id": "O7bO7XoM5fw9",
        "colab": {}
      },
      "source": [
        "item_msd_test_pred = algo.test(testset)"
      ],
      "execution_count": 0,
      "outputs": []
    },
    {
      "cell_type": "markdown",
      "metadata": {
        "colab_type": "text",
        "id": "uL4YL_hI5fxA"
      },
      "source": [
        "Get RMSE of Item-based Model using Mean Squared Difference Similarity"
      ]
    },
    {
      "cell_type": "code",
      "metadata": {
        "colab_type": "code",
        "id": "Cj12DtaR5fxA",
        "outputId": "0ef2d193-b404-4912-b024-85f3427c3c46",
        "colab": {
          "base_uri": "https://localhost:8080/",
          "height": 87
        }
      },
      "source": [
        "print(\"RMSE of Item-based Model using Mean Squared Difference: Test Set\")\n",
        "user_msd_rmse = accuracy.rmse(item_msd_test_pred)\n",
        "print(\"MSE of Item-based Model using Mean Squared Difference: Test Set\")\n",
        "user_msd_mse = accuracy.mse(item_msd_test_pred)"
      ],
      "execution_count": 17,
      "outputs": [
        {
          "output_type": "stream",
          "text": [
            "RMSE of Item-based Model using Mean Squared Difference: Test Set\n",
            "RMSE: 1.2139\n",
            "MSE of Item-based Model using Mean Squared Difference: Test Set\n",
            "MSE: 1.4736\n"
          ],
          "name": "stdout"
        }
      ]
    },
    {
      "cell_type": "markdown",
      "metadata": {
        "colab_type": "text",
        "id": "sKUhwm-o5fxC"
      },
      "source": [
        "##### Using Pearson Baseline Correlation:\n"
      ]
    },
    {
      "cell_type": "code",
      "metadata": {
        "colab_type": "code",
        "outputId": "a6faeb97-909f-4cdd-9342-3990800ec02f",
        "id": "lk6cQ_lM5fxD",
        "colab": {
          "base_uri": "https://localhost:8080/",
          "height": 87
        }
      },
      "source": [
        "algo = KNNWithMeans(k=5, sim_options={'name': 'pearson_baseline', 'user_based': False})\n",
        "algo.fit(trainset)"
      ],
      "execution_count": 18,
      "outputs": [
        {
          "output_type": "stream",
          "text": [
            "Estimating biases using als...\n",
            "Computing the pearson_baseline similarity matrix...\n",
            "Done computing similarity matrix.\n"
          ],
          "name": "stdout"
        },
        {
          "output_type": "execute_result",
          "data": {
            "text/plain": [
              "<surprise.prediction_algorithms.knns.KNNWithMeans at 0x7f501b8c8550>"
            ]
          },
          "metadata": {
            "tags": []
          },
          "execution_count": 18
        }
      ]
    },
    {
      "cell_type": "markdown",
      "metadata": {
        "colab_type": "text",
        "id": "WJ0wBT-a5fxF"
      },
      "source": [
        "Run the trained model against the testset"
      ]
    },
    {
      "cell_type": "code",
      "metadata": {
        "colab_type": "code",
        "id": "M2iPgCMi5fxF",
        "colab": {}
      },
      "source": [
        "item_pb_test_pred = algo.test(testset)"
      ],
      "execution_count": 0,
      "outputs": []
    },
    {
      "cell_type": "markdown",
      "metadata": {
        "colab_type": "text",
        "id": "2EYB4W7Y5fxH"
      },
      "source": [
        "Get RMSE of Item-based Model using Pearson Baseline"
      ]
    },
    {
      "cell_type": "code",
      "metadata": {
        "colab_type": "code",
        "outputId": "466df10f-f538-4bab-f157-fec8d97fabf0",
        "id": "ZibVnv4R5fxI",
        "colab": {
          "base_uri": "https://localhost:8080/",
          "height": 87
        }
      },
      "source": [
        "print(\"RMSE of Item-based Model using Pearson Baseline : Test Set\")\n",
        "item_pb_rmse = accuracy.rmse(item_pb_test_pred)\n",
        "print(\"MSE of Item-based Model using Pearson Baseline : Test Set\")\n",
        "item_pb_mse = accuracy.mse(item_pb_test_pred)"
      ],
      "execution_count": 21,
      "outputs": [
        {
          "output_type": "stream",
          "text": [
            "RMSE of Item-based Model using Pearson Baseline : Test Set\n",
            "RMSE: 1.1883\n",
            "MSE of Item-based Model using Pearson Baseline : Test Set\n",
            "MSE: 1.4121\n"
          ],
          "name": "stdout"
        }
      ]
    },
    {
      "cell_type": "code",
      "metadata": {
        "colab_type": "code",
        "id": "fSP5kCvH5fxK",
        "colab": {}
      },
      "source": [
        ""
      ],
      "execution_count": 0,
      "outputs": []
    },
    {
      "cell_type": "code",
      "metadata": {
        "id": "4b1qRlfZcI6o",
        "colab_type": "code",
        "colab": {}
      },
      "source": [
        "dataframe = pd.DataFrame()\n",
        "user_id_list = []\n",
        "true_ratings = []\n",
        "predicted_ratings = []\n",
        "for uid, iid, true_r, est, info in item_cosine_test_pred:\n",
        "  user_id_list.append(uid)\n",
        "  true_ratings.append(true_r)\n",
        "  predicted_ratings.append(est)\n",
        "  \n",
        "  \n",
        "\n",
        "dataframe['user_id'] = user_id_list\n",
        "dataframe['true_ratings'] = true_ratings\n",
        "dataframe['predicted_ratings'] = predicted_ratings\n"
      ],
      "execution_count": 0,
      "outputs": []
    },
    {
      "cell_type": "code",
      "metadata": {
        "id": "aOp44o4yciid",
        "colab_type": "code",
        "outputId": "c98039e6-03c7-48f9-93af-61646ef2b73e",
        "colab": {
          "base_uri": "https://localhost:8080/",
          "height": 263
        }
      },
      "source": [
        "print(dataframe)\n"
      ],
      "execution_count": 0,
      "outputs": [
        {
          "output_type": "stream",
          "text": [
            "              user_id  true_ratings  predicted_ratings\n",
            "0      A3DXSO87O68MGJ           3.0           4.397436\n",
            "1      A1Q8N5LKI9E85S           5.0           4.500000\n",
            "2      A36KTGM5NBBSX2           5.0           4.300000\n",
            "3      A2YPB8IOEU10XJ           4.0           3.575956\n",
            "4       AF0E5TGS52NRD           5.0           4.555556\n",
            "...               ...           ...                ...\n",
            "59546  A1F7YU6O5RU432           4.0           3.500000\n",
            "59547  A209OVPWRBXVQ6           4.0           1.625000\n",
            "59548  A3EF6FNX2G4FD3           5.0           4.377778\n",
            "59549  A3P7E4RXTT0YQR           2.0           2.750000\n",
            "59550   AITPVQ9TKUIZT           1.0           5.000000\n",
            "\n",
            "[59551 rows x 3 columns]\n"
          ],
          "name": "stdout"
        }
      ]
    },
    {
      "cell_type": "code",
      "metadata": {
        "id": "sS2X5ESHfWAy",
        "colab_type": "code",
        "colab": {}
      },
      "source": [
        ""
      ],
      "execution_count": 0,
      "outputs": []
    },
    {
      "cell_type": "markdown",
      "metadata": {
        "id": "zk3BLg_wPl_O",
        "colab_type": "text"
      },
      "source": [
        "## Getting Top N Recommendations for the Users:"
      ]
    },
    {
      "cell_type": "code",
      "metadata": {
        "id": "LfVy2wDf90gP",
        "colab_type": "code",
        "colab": {}
      },
      "source": [
        "def get_top_n(predictions, n=10):\n",
        "    '''Return the top-N recommendation for each user from a set of predictions.\n",
        "    '''\n",
        "\n",
        "    # First map the predictions to each user.\n",
        "    top_n = defaultdict(list)\n",
        "    for uid, iid, true_r, est, _ in predictions:\n",
        "        top_n[uid].append((iid, est))\n",
        "\n",
        "    # Then sort the predictions for given user and retrieve the k highest ones.\n",
        "    \n",
        "    for uid, user_ratings in top_n.items():\n",
        "        user_ratings.sort(key=lambda x: x[1], reverse=True)\n",
        "        top_n[uid] = user_ratings[:n]\n",
        "\n",
        "    return top_n\n",
        "    # top_n_items = top_n[user_id]\n",
        "    # top_n_items.sort(key=lambda x: x[1], reverse=True)\n",
        "    # return top_n_items[:n]\n",
        "\n",
        "    \n"
      ],
      "execution_count": 0,
      "outputs": []
    },
    {
      "cell_type": "code",
      "metadata": {
        "id": "RDgTFca9AsJO",
        "colab_type": "code",
        "colab": {}
      },
      "source": [
        "top_n = get_top_n(item_msd_test_pred)"
      ],
      "execution_count": 0,
      "outputs": []
    },
    {
      "cell_type": "code",
      "metadata": {
        "id": "n3f7AzBVO_XH",
        "colab_type": "code",
        "colab": {
          "base_uri": "https://localhost:8080/",
          "height": 175
        },
        "outputId": "45e8ce39-2be6-4c8b-ddd2-26b6f65e52a9"
      },
      "source": [
        "top_n['A1DQHS7MOVYYYA']"
      ],
      "execution_count": 27,
      "outputs": [
        {
          "output_type": "execute_result",
          "data": {
            "text/plain": [
              "[('B000NKL3D0', 4.5),\n",
              " ('B002PBESOQ', 4.4),\n",
              " ('B000PLUZL8', 4.264677863560432),\n",
              " ('B00KTLBEEQ', 3.9039265299764736),\n",
              " ('B0039UTO3M', 3.761555242380717),\n",
              " ('B008FZ562E', 3.6931476254169824),\n",
              " ('B00BB9WBC4', 3.138624176964143),\n",
              " ('B0095BWH5Q', 2.911479996533888),\n",
              " ('B001A3ML3K', 2.7222222222222223)]"
            ]
          },
          "metadata": {
            "tags": []
          },
          "execution_count": 27
        }
      ]
    },
    {
      "cell_type": "code",
      "metadata": {
        "id": "DD35j00VYvU6",
        "colab_type": "code",
        "colab": {}
      },
      "source": [
        ""
      ],
      "execution_count": 0,
      "outputs": []
    }
  ]
}