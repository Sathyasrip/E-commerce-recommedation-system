{
 "cells": [
  {
   "cell_type": "code",
   "execution_count": 1,
   "metadata": {
    "collapsed": true,
    "pycharm": {
     "is_executing": false
    }
   },
   "outputs": [],
   "source": [
    "import copy\n",
    "import os\n",
    "import pandas as pd\n",
    "import math\n",
    "import gzip\n",
    "import numpy as np\n",
    "import matplotlib.pyplot as plt\n",
    "from sklearn.metrics.pairwise import cosine_similarity\n",
    "import seaborn as sns; sns.set(style=\"white\", color_codes=True)\n",
    "import json\n",
    "from sklearn.metrics import mean_squared_error\n",
    "%matplotlib inline\n",
    "\n"
   ]
  },
  {
   "cell_type": "code",
   "execution_count": 2,
   "outputs": [],
   "source": [
    "def parse(path):\n",
    "    g = open(path, 'rb')\n",
    "    for l in g:\n",
    "        yield eval(l)\n",
    "\n",
    "def getDF(path):\n",
    "    i = 0\n",
    "    df = {}\n",
    "    for d in parse(path):\n",
    "        df[i] = d\n",
    "        i += 1\n",
    "    return pd.DataFrame.from_dict(df, orient='index')\n",
    "\n",
    "df_original = getDF('/home/kapil/SJSU Acad/SJSU 2nd Sem/256 Wu/CMPE-256/E-commerce-recommedation-system/Data/Beauty_5.json')"
   ],
   "metadata": {
    "collapsed": false,
    "pycharm": {
     "name": "#%%\n",
     "is_executing": false
    }
   }
  },
  {
   "cell_type": "code",
   "execution_count": 3,
   "outputs": [],
   "source": [
    "df=copy.deepcopy(df_original)\n",
    "df['unixReviewTime']=pd.to_datetime(df['unixReviewTime'],unit='s')\n",
    "df.drop(['reviewTime'],axis=1,inplace=True)\n",
    "# set unique ID for each review\n",
    "df['ReviewID']=df.index+1"
   ],
   "metadata": {
    "collapsed": false,
    "pycharm": {
     "name": "#%%\n",
     "is_executing": false
    }
   }
  },
  {
   "cell_type": "code",
   "execution_count": 4,
   "outputs": [
    {
     "name": "stdout",
     "text": [
      "22363 users\n",
      "12101 items\n"
     ],
     "output_type": "stream"
    }
   ],
   "source": [
    "n_users = df.reviewerID.unique().shape[0]\n",
    "n_items = df.asin.unique().shape[0]\n",
    "print (str(n_users) + ' users')\n",
    "print (str(n_items) + ' items')\n"
   ],
   "metadata": {
    "collapsed": false,
    "pycharm": {
     "name": "#%%\n",
     "is_executing": false
    }
   }
  },
  {
   "cell_type": "code",
   "execution_count": 9,
   "outputs": [],
   "source": [
    "df = df.sort_values(['reviewerID', 'asin'], ascending = [True, True])\n",
    "\n",
    "df.asin=pd.Categorical(df.asin)\n",
    "df['asin_id']=df.asin.cat.codes\n",
    "df.reviewerID=pd.Categorical(df.reviewerID)\n",
    "df['reviewer_ID']=df.reviewerID.cat.codes"
   ],
   "metadata": {
    "collapsed": false,
    "pycharm": {
     "name": "#%%\n",
     "is_executing": false
    }
   }
  },
  {
   "cell_type": "code",
   "execution_count": 10,
   "outputs": [
    {
     "name": "stdout",
     "text": [
      "reviewer  22363\n",
      "item  12101\n"
     ],
     "output_type": "stream"
    }
   ],
   "source": [
    "print (\"reviewer \",pd.DataFrame(df.groupby(['reviewer_ID'])['reviewerID'].nunique()).sort_values(['reviewerID'],ascending=False).shape[0])\n",
    "print (\"item \", pd.DataFrame(df.groupby(['asin_id'])['asin'].nunique()).sort_values(['asin'],ascending=False).shape[0])"
   ],
   "metadata": {
    "collapsed": false,
    "pycharm": {
     "name": "#%%\n",
     "is_executing": false
    }
   }
  },
  {
   "cell_type": "code",
   "execution_count": 11,
   "outputs": [
    {
     "data": {
      "text/plain": "array([[0., 0., 0., ..., 0., 0., 0.],\n       [0., 0., 0., ..., 0., 0., 0.],\n       [0., 0., 0., ..., 0., 0., 0.],\n       ...,\n       [0., 0., 0., ..., 0., 0., 0.],\n       [0., 0., 0., ..., 0., 0., 0.],\n       [0., 0., 0., ..., 0., 0., 0.]])"
     },
     "metadata": {},
     "output_type": "execute_result",
     "execution_count": 11
    }
   ],
   "source": [
    "df.head()\n",
    "df_ratings=df[['reviewer_ID','asin_id','overall']]\n",
    "ratings = np.zeros((n_users, n_items))\n",
    "\n",
    "for row in df_ratings.itertuples():\n",
    "    #print (row[1],row[2],row[3])\n",
    "    ratings[row[1], row[2]] = row[3]\n",
    "    \n",
    "ratings"
   ],
   "metadata": {
    "collapsed": false,
    "pycharm": {
     "name": "#%%\n",
     "is_executing": false
    }
   }
  },
  {
   "cell_type": "code",
   "execution_count": 12,
   "outputs": [
    {
     "name": "stdout",
     "text": [
      "Sparsity: 0.07%\n"
     ],
     "output_type": "stream"
    }
   ],
   "source": [
    "sparsity = float(len(ratings.nonzero()[0]))\n",
    "sparsity = (sparsity/(ratings.shape[0] * ratings.shape[1]))*100\n",
    "print ('Sparsity: {:4.2f}%'.format(sparsity))\n",
    "\n"
   ],
   "metadata": {
    "collapsed": false,
    "pycharm": {
     "name": "#%%\n",
     "is_executing": false
    }
   }
  },
  {
   "cell_type": "code",
   "execution_count": 13,
   "outputs": [],
   "source": [
    "min_rated_items=ratings.nonzero()[0]\n",
    "min_rated_items_collection={}\n",
    "for i in min_rated_items:\n",
    "    if i in min_rated_items_collection:\n",
    "        min_rated_items_collection[i]=min_rated_items_collection[i]+1\n",
    "    else:\n",
    "        min_rated_items_collection[i]=1"
   ],
   "metadata": {
    "collapsed": false,
    "pycharm": {
     "name": "#%%\n",
     "is_executing": false
    }
   }
  },
  {
   "cell_type": "code",
   "execution_count": 14,
   "outputs": [
    {
     "name": "stdout",
     "text": [
      "User rated  204 items at the most\n",
      "User rated  5 items at the least\n"
     ],
     "output_type": "stream"
    }
   ],
   "source": [
    "user_rate_count=sorted(min_rated_items_collection.items(),key=lambda x:x[1])\n",
    "print ('User rated ',user_rate_count[-1][1], 'items at the most')\n",
    "print ('User rated ',user_rate_count[0][1], 'items at the least')"
   ],
   "metadata": {
    "collapsed": false,
    "pycharm": {
     "name": "#%%\n",
     "is_executing": false
    }
   }
  },
  {
   "cell_type": "code",
   "execution_count": 15,
   "outputs": [],
   "source": [
    "min_rate_by_users=ratings.nonzero()[1]\n",
    "min_rate_by_users_collection={}\n",
    "for i in min_rate_by_users:\n",
    "    if i in min_rate_by_users_collection:\n",
    "        min_rate_by_users_collection[i]=min_rate_by_users_collection[i]+1\n",
    "    else:\n",
    "        min_rate_by_users_collection[i]=1"
   ],
   "metadata": {
    "collapsed": false,
    "pycharm": {
     "name": "#%%\n",
     "is_executing": false
    }
   }
  },
  {
   "cell_type": "code",
   "execution_count": 16,
   "outputs": [
    {
     "name": "stdout",
     "text": [
      "Item rated by  431  users at the most\n",
      "Item rated by  5  users at the least\n"
     ],
     "output_type": "stream"
    }
   ],
   "source": [
    "item_rate_count=sorted(min_rate_by_users_collection.items(),key=lambda x:x[1])\n",
    "print ('Item rated by ',item_rate_count[-1][1], ' users at the most')\n",
    "print ('Item rated by ',item_rate_count[0][1], ' users at the least')"
   ],
   "metadata": {
    "collapsed": false,
    "pycharm": {
     "name": "#%%\n",
     "is_executing": false
    }
   }
  },
  {
   "cell_type": "code",
   "execution_count": 17,
   "outputs": [],
   "source": [
    "count_bin=np.linspace(10,100,10).tolist()\n",
    "count_bin.extend([5,300,500])\n",
    "array_rate_count=np.array(count_bin)\n",
    "array_rate_count=np.sort(array_rate_count)"
   ],
   "metadata": {
    "collapsed": false,
    "pycharm": {
     "name": "#%%\n",
     "is_executing": false
    }
   }
  },
  {
   "cell_type": "code",
   "execution_count": 18,
   "outputs": [
    {
     "data": {
      "text/plain": "   rated_items_cat  userID\n0            (, 5]    7162\n1         (10, 20]    3106\n2       (100, 300]      17\n3         (20, 30]     655\n4         (30, 40]     231\n5         (40, 50]      97\n6          (5, 10]   10959\n7         (50, 60]      62\n8         (60, 70]      23\n9         (70, 80]      26\n10        (80, 90]      14\n11       (90, 100]      11",
      "text/html": "<div>\n<style scoped>\n    .dataframe tbody tr th:only-of-type {\n        vertical-align: middle;\n    }\n\n    .dataframe tbody tr th {\n        vertical-align: top;\n    }\n\n    .dataframe thead th {\n        text-align: right;\n    }\n</style>\n<table border=\"1\" class=\"dataframe\">\n  <thead>\n    <tr style=\"text-align: right;\">\n      <th></th>\n      <th>rated_items_cat</th>\n      <th>userID</th>\n    </tr>\n  </thead>\n  <tbody>\n    <tr>\n      <th>0</th>\n      <td>(, 5]</td>\n      <td>7162</td>\n    </tr>\n    <tr>\n      <th>1</th>\n      <td>(10, 20]</td>\n      <td>3106</td>\n    </tr>\n    <tr>\n      <th>2</th>\n      <td>(100, 300]</td>\n      <td>17</td>\n    </tr>\n    <tr>\n      <th>3</th>\n      <td>(20, 30]</td>\n      <td>655</td>\n    </tr>\n    <tr>\n      <th>4</th>\n      <td>(30, 40]</td>\n      <td>231</td>\n    </tr>\n    <tr>\n      <th>5</th>\n      <td>(40, 50]</td>\n      <td>97</td>\n    </tr>\n    <tr>\n      <th>6</th>\n      <td>(5, 10]</td>\n      <td>10959</td>\n    </tr>\n    <tr>\n      <th>7</th>\n      <td>(50, 60]</td>\n      <td>62</td>\n    </tr>\n    <tr>\n      <th>8</th>\n      <td>(60, 70]</td>\n      <td>23</td>\n    </tr>\n    <tr>\n      <th>9</th>\n      <td>(70, 80]</td>\n      <td>26</td>\n    </tr>\n    <tr>\n      <th>10</th>\n      <td>(80, 90]</td>\n      <td>14</td>\n    </tr>\n    <tr>\n      <th>11</th>\n      <td>(90, 100]</td>\n      <td>11</td>\n    </tr>\n  </tbody>\n</table>\n</div>"
     },
     "metadata": {},
     "output_type": "execute_result",
     "execution_count": 18
    }
   ],
   "source": [
    "# get the user-rated item number distribution table\n",
    "def to_category(row,colname='rated_items',cate=array_rate_count):\n",
    "    first_arg=np.where(cate>=row[colname])[0][0]\n",
    "    if first_arg!=0:\n",
    "        return \"(\"+str(int(cate[first_arg-1]))+\", \"+str(int(cate[first_arg]))+\"]\", cate[first_arg]\n",
    "    else:\n",
    "        return \"(, \"+str(int(cate[first_arg]))+\"]\", cate[first_arg]\n",
    "\n",
    "item_count=pd.DataFrame.from_dict(min_rated_items_collection,orient='index')\\\n",
    ".reset_index().rename(columns={'index':'userID',0: 'rated_items'})\n",
    "item_count['rated_items_cat'],item_count['rated_items_num']=zip(*item_count\\\n",
    "                                                                .apply(to_category,cate=array_rate_count,axis=1))\n",
    "pd.DataFrame(item_count.groupby(['rated_items_cat'])['userID'].count()).reset_index()"
   ],
   "metadata": {
    "collapsed": false,
    "pycharm": {
     "name": "#%%\n",
     "is_executing": false
    }
   }
  },
  {
   "cell_type": "code",
   "execution_count": 19,
   "outputs": [
    {
     "data": {
      "text/plain": "<Figure size 432x288 with 1 Axes>",
      "image/png": "[encoded data removed]"
     },
     "metadata": {
      "needs_background": "light"
     },
     "output_type": "display_data"
    }
   ],
   "source": [
    "plt.hist(item_count['rated_items_num'],array_rate_count)\n",
    "plt.title('number of items rated by each users', fontsize=15)\n",
    "plt.show()"
   ],
   "metadata": {
    "collapsed": false,
    "pycharm": {
     "name": "#%%\n",
     "is_executing": false
    }
   }
  },
  {
   "cell_type": "code",
   "execution_count": 20,
   "outputs": [
    {
     "data": {
      "text/plain": "   rated_by_user_cat  itemID\n0              (, 5]    2181\n1           (10, 20]    2632\n2         (100, 300]     159\n3           (20, 30]     870\n4           (30, 40]     422\n5         (300, 500]      10\n6           (40, 50]     240\n7            (5, 10]    5031\n8           (50, 60]     181\n9           (60, 70]     138\n10          (70, 80]      89\n11          (80, 90]      80\n12         (90, 100]      68",
      "text/html": "<div>\n<style scoped>\n    .dataframe tbody tr th:only-of-type {\n        vertical-align: middle;\n    }\n\n    .dataframe tbody tr th {\n        vertical-align: top;\n    }\n\n    .dataframe thead th {\n        text-align: right;\n    }\n</style>\n<table border=\"1\" class=\"dataframe\">\n  <thead>\n    <tr style=\"text-align: right;\">\n      <th></th>\n      <th>rated_by_user_cat</th>\n      <th>itemID</th>\n    </tr>\n  </thead>\n  <tbody>\n    <tr>\n      <th>0</th>\n      <td>(, 5]</td>\n      <td>2181</td>\n    </tr>\n    <tr>\n      <th>1</th>\n      <td>(10, 20]</td>\n      <td>2632</td>\n    </tr>\n    <tr>\n      <th>2</th>\n      <td>(100, 300]</td>\n      <td>159</td>\n    </tr>\n    <tr>\n      <th>3</th>\n      <td>(20, 30]</td>\n      <td>870</td>\n    </tr>\n    <tr>\n      <th>4</th>\n      <td>(30, 40]</td>\n      <td>422</td>\n    </tr>\n    <tr>\n      <th>5</th>\n      <td>(300, 500]</td>\n      <td>10</td>\n    </tr>\n    <tr>\n      <th>6</th>\n      <td>(40, 50]</td>\n      <td>240</td>\n    </tr>\n    <tr>\n      <th>7</th>\n      <td>(5, 10]</td>\n      <td>5031</td>\n    </tr>\n    <tr>\n      <th>8</th>\n      <td>(50, 60]</td>\n      <td>181</td>\n    </tr>\n    <tr>\n      <th>9</th>\n      <td>(60, 70]</td>\n      <td>138</td>\n    </tr>\n    <tr>\n      <th>10</th>\n      <td>(70, 80]</td>\n      <td>89</td>\n    </tr>\n    <tr>\n      <th>11</th>\n      <td>(80, 90]</td>\n      <td>80</td>\n    </tr>\n    <tr>\n      <th>12</th>\n      <td>(90, 100]</td>\n      <td>68</td>\n    </tr>\n  </tbody>\n</table>\n</div>"
     },
     "metadata": {},
     "output_type": "execute_result",
     "execution_count": 20
    }
   ],
   "source": [
    "# get the item rated by the number of users distribution table\n",
    "user_count=pd.DataFrame.from_dict(min_rate_by_users_collection,orient='index')\\\n",
    ".reset_index().rename(columns={'index':'itemID',0: 'rated_by_users'})\n",
    "user_count['rated_by_user_cat'],user_count['rated_by_user_num']=zip(*user_count.apply(to_category,colname='rated_by_users',cate=array_rate_count,axis=1))\n",
    "pd.DataFrame(user_count.groupby(['rated_by_user_cat'])['itemID'].count()).reset_index()\n",
    "\n"
   ],
   "metadata": {
    "collapsed": false,
    "pycharm": {
     "name": "#%%\n",
     "is_executing": false
    }
   }
  },
  {
   "cell_type": "code",
   "execution_count": 21,
   "outputs": [
    {
     "data": {
      "text/plain": "<Figure size 432x288 with 1 Axes>",
      "image/png": "[encoded data removed]"
     },
     "metadata": {
      "needs_background": "light"
     },
     "output_type": "display_data"
    }
   ],
   "source": [
    "plt.hist(user_count['rated_by_user_num'],array_rate_count)\n",
    "plt.title('each item rated by X number of users', fontsize=15)\n",
    "plt.show()"
   ],
   "metadata": {
    "collapsed": false,
    "pycharm": {
     "name": "#%%\n",
     "is_executing": false
    }
   }
  },
  {
   "cell_type": "code",
   "execution_count": 22,
   "outputs": [],
   "source": [
    "# modify N-core to add the map between new position to old position\n",
    "def apply_Ncore(ratings, N_core):\n",
    "    n_users = ratings.shape[0]\n",
    "    n_items = ratings.shape[1]\n",
    "    items_id = [x for x in range(n_items) if len(ratings[:, x].nonzero()[0]) >= N_core]\n",
    "    ratings = ratings[:, items_id]\n",
    "    # map the new items position to the old\n",
    "    item_link=list(zip(items_id,range(ratings.shape[1])))\n",
    "    users_id = [x for x in range(n_users) if len(ratings[x, :].nonzero()[0]) >= N_core]\n",
    "    # map the new user posistion to the old\n",
    "    ratings = ratings[users_id, :]\n",
    "    user_link=list(zip(users_id,range(ratings.shape[0])))\n",
    "    return ratings,item_link,user_link\n",
    "\n"
   ],
   "metadata": {
    "collapsed": false,
    "pycharm": {
     "name": "#%%\n",
     "is_executing": false
    }
   }
  },
  {
   "cell_type": "code",
   "execution_count": 23,
   "outputs": [],
   "source": [
    "ratings_Ncore,items_link_Ncore,users_link_Ncore = apply_Ncore(ratings, 8)"
   ],
   "metadata": {
    "collapsed": false,
    "pycharm": {
     "name": "#%%\n",
     "is_executing": false
    }
   }
  },
  {
   "cell_type": "code",
   "execution_count": 24,
   "outputs": [
    {
     "name": "stdout",
     "text": [
      "After applying the 10-core, there are 6172 users left\n",
      "After applying the 10-core, there are 7129 items left\n",
      "Sparsity: 0.20%\n"
     ],
     "output_type": "stream"
    }
   ],
   "source": [
    "print(\"After applying the 10-core, there are\", ratings_Ncore.shape[0], \"users left\")\n",
    "print(\"After applying the 10-core, there are\", ratings_Ncore.shape[1], \"items left\")\n",
    "sparsity = float(len(ratings_Ncore.nonzero()[0]))\n",
    "sparsity = (sparsity/(ratings_Ncore.shape[0] * ratings_Ncore.shape[1]))*100\n",
    "print ('Sparsity: {:4.2f}%'.format(sparsity))\n"
   ],
   "metadata": {
    "collapsed": false,
    "pycharm": {
     "name": "#%%\n",
     "is_executing": false
    }
   }
  },
  {
   "cell_type": "code",
   "execution_count": 25,
   "outputs": [
    {
     "data": {
      "text/plain": "                   reviewerID        asin reviewerName helpful  \\\n145572  A00414041RD0BXM6WK0GX  B007IY97U0   Sarah Hale  [0, 0]   \n152551  A00414041RD0BXM6WK0GX  B00870XLDS   Sarah Hale  [0, 0]   \n155883  A00414041RD0BXM6WK0GX  B008MIRO88   Sarah Hale  [0, 0]   \n178477  A00414041RD0BXM6WK0GX  B00BQYYMN0   Sarah Hale  [0, 0]   \n188781  A00414041RD0BXM6WK0GX  B00GRTQBTM   Sarah Hale  [0, 0]   \n\n                                               reviewText  overall  \\\n145572  Good quality wig, but the blonde is much more ...      3.0   \n152551  Very thin and not as long as the photos :( Aft...      2.0   \n155883  Very thin and not as long as the photos :( Aft...      1.0   \n178477  This is a great quality wig, however it is a m...      3.0   \n188781  This is my absolute favorite wig! I have purch...      5.0   \n\n                                                  summary unixReviewTime  \\\n145572                                        Three Stars     2014-07-14   \n152551  ( After waiting over a month to receive this w...     2014-07-14   \n155883  ( After waiting over a month to receive this w...     2014-07-14   \n178477                        This is a great quality wig     2014-07-14   \n188781  This is my absolute favorite wig! I have purch...     2014-07-14   \n\n        ReviewID  asin_id  reviewer_ID  \n145572    145573     9449            0  \n152551    152552     9839            0  \n155883    155884    10076            0  \n178477    178478    11155            0  \n188781    188782    11752            0  ",
      "text/html": "<div>\n<style scoped>\n    .dataframe tbody tr th:only-of-type {\n        vertical-align: middle;\n    }\n\n    .dataframe tbody tr th {\n        vertical-align: top;\n    }\n\n    .dataframe thead th {\n        text-align: right;\n    }\n</style>\n<table border=\"1\" class=\"dataframe\">\n  <thead>\n    <tr style=\"text-align: right;\">\n      <th></th>\n      <th>reviewerID</th>\n      <th>asin</th>\n      <th>reviewerName</th>\n      <th>helpful</th>\n      <th>reviewText</th>\n      <th>overall</th>\n      <th>summary</th>\n      <th>unixReviewTime</th>\n      <th>ReviewID</th>\n      <th>asin_id</th>\n      <th>reviewer_ID</th>\n    </tr>\n  </thead>\n  <tbody>\n    <tr>\n      <th>145572</th>\n      <td>A00414041RD0BXM6WK0GX</td>\n      <td>B007IY97U0</td>\n      <td>Sarah Hale</td>\n      <td>[0, 0]</td>\n      <td>Good quality wig, but the blonde is much more ...</td>\n      <td>3.0</td>\n      <td>Three Stars</td>\n      <td>2014-07-14</td>\n      <td>145573</td>\n      <td>9449</td>\n      <td>0</td>\n    </tr>\n    <tr>\n      <th>152551</th>\n      <td>A00414041RD0BXM6WK0GX</td>\n      <td>B00870XLDS</td>\n      <td>Sarah Hale</td>\n      <td>[0, 0]</td>\n      <td>Very thin and not as long as the photos :( Aft...</td>\n      <td>2.0</td>\n      <td>( After waiting over a month to receive this w...</td>\n      <td>2014-07-14</td>\n      <td>152552</td>\n      <td>9839</td>\n      <td>0</td>\n    </tr>\n    <tr>\n      <th>155883</th>\n      <td>A00414041RD0BXM6WK0GX</td>\n      <td>B008MIRO88</td>\n      <td>Sarah Hale</td>\n      <td>[0, 0]</td>\n      <td>Very thin and not as long as the photos :( Aft...</td>\n      <td>1.0</td>\n      <td>( After waiting over a month to receive this w...</td>\n      <td>2014-07-14</td>\n      <td>155884</td>\n      <td>10076</td>\n      <td>0</td>\n    </tr>\n    <tr>\n      <th>178477</th>\n      <td>A00414041RD0BXM6WK0GX</td>\n      <td>B00BQYYMN0</td>\n      <td>Sarah Hale</td>\n      <td>[0, 0]</td>\n      <td>This is a great quality wig, however it is a m...</td>\n      <td>3.0</td>\n      <td>This is a great quality wig</td>\n      <td>2014-07-14</td>\n      <td>178478</td>\n      <td>11155</td>\n      <td>0</td>\n    </tr>\n    <tr>\n      <th>188781</th>\n      <td>A00414041RD0BXM6WK0GX</td>\n      <td>B00GRTQBTM</td>\n      <td>Sarah Hale</td>\n      <td>[0, 0]</td>\n      <td>This is my absolute favorite wig! I have purch...</td>\n      <td>5.0</td>\n      <td>This is my absolute favorite wig! I have purch...</td>\n      <td>2014-07-14</td>\n      <td>188782</td>\n      <td>11752</td>\n      <td>0</td>\n    </tr>\n  </tbody>\n</table>\n</div>"
     },
     "metadata": {},
     "output_type": "execute_result",
     "execution_count": 25
    }
   ],
   "source": [
    "df.head()"
   ],
   "metadata": {
    "collapsed": false,
    "pycharm": {
     "name": "#%%\n",
     "is_executing": false
    }
   }
  },
  {
   "cell_type": "code",
   "execution_count": 26,
   "outputs": [],
   "source": [
    "df['reviewerID_Ncore']=df['reviewer_ID'].map(dict(users_link_Ncore))\n",
    "df['asinID_Ncore']=df['asin_id'].map(dict(items_link_Ncore))\n",
    "item_map_afterNcore=df[['asinID_Ncore','asin']].drop_duplicates(keep='first')\n",
    "user_map_afterNcore=df[['reviewerID_Ncore','reviewerID']].drop_duplicates(keep='first')"
   ],
   "metadata": {
    "collapsed": false,
    "pycharm": {
     "name": "#%%\n",
     "is_executing": false
    }
   }
  },
  {
   "cell_type": "code",
   "execution_count": 27,
   "outputs": [
    {
     "data": {
      "text/plain": "       reviewerID_Ncore             reviewerID\n22693               1.0  A03364251DGXSGA9PSR99",
      "text/html": "<div>\n<style scoped>\n    .dataframe tbody tr th:only-of-type {\n        vertical-align: middle;\n    }\n\n    .dataframe tbody tr th {\n        vertical-align: top;\n    }\n\n    .dataframe thead th {\n        text-align: right;\n    }\n</style>\n<table border=\"1\" class=\"dataframe\">\n  <thead>\n    <tr style=\"text-align: right;\">\n      <th></th>\n      <th>reviewerID_Ncore</th>\n      <th>reviewerID</th>\n    </tr>\n  </thead>\n  <tbody>\n    <tr>\n      <th>22693</th>\n      <td>1.0</td>\n      <td>A03364251DGXSGA9PSR99</td>\n    </tr>\n  </tbody>\n</table>\n</div>"
     },
     "metadata": {},
     "output_type": "execute_result",
     "execution_count": 27
    }
   ],
   "source": [
    "user_map_afterNcore.loc[user_map_afterNcore['reviewerID_Ncore']==1]\n"
   ],
   "metadata": {
    "collapsed": false,
    "pycharm": {
     "name": "#%%\n",
     "is_executing": false
    }
   }
  },
  {
   "cell_type": "code",
   "execution_count": 28,
   "outputs": [
    {
     "data": {
      "text/plain": "                   reviewerID        asin  reviewer_ID  reviewerID_Ncore  \\\n3539    A099766128UI0NCS98N1E  B00008MOQE           29               4.0   \n6806    A099766128UI0NCS98N1E  B0001TOH8G           29               4.0   \n11638   A099766128UI0NCS98N1E  B0007W1R58           29               4.0   \n42136   A099766128UI0NCS98N1E  B0012UEJ1S           29               4.0   \n66990   A099766128UI0NCS98N1E  B001YTD3G4           29               4.0   \n92722   A099766128UI0NCS98N1E  B003OIPJZ6           29               4.0   \n93742   A099766128UI0NCS98N1E  B003RF82UK           29               4.0   \n103137  A099766128UI0NCS98N1E  B0048KSGZO           29               4.0   \n103757  A099766128UI0NCS98N1E  B004AGM47C           29               4.0   \n104465  A099766128UI0NCS98N1E  B004BCX8B6           29               4.0   \n106531  A099766128UI0NCS98N1E  B004DIUWAI           29               4.0   \n122013  A099766128UI0NCS98N1E  B005BDO4TY           29               4.0   \n127276  A099766128UI0NCS98N1E  B005OU2Y1E           29               4.0   \n138692  A099766128UI0NCS98N1E  B006OHM542           29               4.0   \n154090  A099766128UI0NCS98N1E  B008CEDY5O           29               4.0   \n164953  A099766128UI0NCS98N1E  B009YVCSYM           29               4.0   \n\n        asin_id  asinID_Ncore  \n3539        184         123.0  \n6806        359         237.0  \n11638       687         440.0  \n42136      2846        1644.0  \n66990      4562        2622.0  \n92722      6250        3599.0  \n93742      6310        3636.0  \n103137     6902        4001.0  \n103757     6943           NaN  \n104465     6992        4056.0  \n106531     7116        4134.0  \n122013     8121        4701.0  \n127276     8470           NaN  \n138692     9030        5239.0  \n154090     9946        5770.0  \n164953    10544        6127.0  ",
      "text/html": "<div>\n<style scoped>\n    .dataframe tbody tr th:only-of-type {\n        vertical-align: middle;\n    }\n\n    .dataframe tbody tr th {\n        vertical-align: top;\n    }\n\n    .dataframe thead th {\n        text-align: right;\n    }\n</style>\n<table border=\"1\" class=\"dataframe\">\n  <thead>\n    <tr style=\"text-align: right;\">\n      <th></th>\n      <th>reviewerID</th>\n      <th>asin</th>\n      <th>reviewer_ID</th>\n      <th>reviewerID_Ncore</th>\n      <th>asin_id</th>\n      <th>asinID_Ncore</th>\n    </tr>\n  </thead>\n  <tbody>\n    <tr>\n      <th>3539</th>\n      <td>A099766128UI0NCS98N1E</td>\n      <td>B00008MOQE</td>\n      <td>29</td>\n      <td>4.0</td>\n      <td>184</td>\n      <td>123.0</td>\n    </tr>\n    <tr>\n      <th>6806</th>\n      <td>A099766128UI0NCS98N1E</td>\n      <td>B0001TOH8G</td>\n      <td>29</td>\n      <td>4.0</td>\n      <td>359</td>\n      <td>237.0</td>\n    </tr>\n    <tr>\n      <th>11638</th>\n      <td>A099766128UI0NCS98N1E</td>\n      <td>B0007W1R58</td>\n      <td>29</td>\n      <td>4.0</td>\n      <td>687</td>\n      <td>440.0</td>\n    </tr>\n    <tr>\n      <th>42136</th>\n      <td>A099766128UI0NCS98N1E</td>\n      <td>B0012UEJ1S</td>\n      <td>29</td>\n      <td>4.0</td>\n      <td>2846</td>\n      <td>1644.0</td>\n    </tr>\n    <tr>\n      <th>66990</th>\n      <td>A099766128UI0NCS98N1E</td>\n      <td>B001YTD3G4</td>\n      <td>29</td>\n      <td>4.0</td>\n      <td>4562</td>\n      <td>2622.0</td>\n    </tr>\n    <tr>\n      <th>92722</th>\n      <td>A099766128UI0NCS98N1E</td>\n      <td>B003OIPJZ6</td>\n      <td>29</td>\n      <td>4.0</td>\n      <td>6250</td>\n      <td>3599.0</td>\n    </tr>\n    <tr>\n      <th>93742</th>\n      <td>A099766128UI0NCS98N1E</td>\n      <td>B003RF82UK</td>\n      <td>29</td>\n      <td>4.0</td>\n      <td>6310</td>\n      <td>3636.0</td>\n    </tr>\n    <tr>\n      <th>103137</th>\n      <td>A099766128UI0NCS98N1E</td>\n      <td>B0048KSGZO</td>\n      <td>29</td>\n      <td>4.0</td>\n      <td>6902</td>\n      <td>4001.0</td>\n    </tr>\n    <tr>\n      <th>103757</th>\n      <td>A099766128UI0NCS98N1E</td>\n      <td>B004AGM47C</td>\n      <td>29</td>\n      <td>4.0</td>\n      <td>6943</td>\n      <td>NaN</td>\n    </tr>\n    <tr>\n      <th>104465</th>\n      <td>A099766128UI0NCS98N1E</td>\n      <td>B004BCX8B6</td>\n      <td>29</td>\n      <td>4.0</td>\n      <td>6992</td>\n      <td>4056.0</td>\n    </tr>\n    <tr>\n      <th>106531</th>\n      <td>A099766128UI0NCS98N1E</td>\n      <td>B004DIUWAI</td>\n      <td>29</td>\n      <td>4.0</td>\n      <td>7116</td>\n      <td>4134.0</td>\n    </tr>\n    <tr>\n      <th>122013</th>\n      <td>A099766128UI0NCS98N1E</td>\n      <td>B005BDO4TY</td>\n      <td>29</td>\n      <td>4.0</td>\n      <td>8121</td>\n      <td>4701.0</td>\n    </tr>\n    <tr>\n      <th>127276</th>\n      <td>A099766128UI0NCS98N1E</td>\n      <td>B005OU2Y1E</td>\n      <td>29</td>\n      <td>4.0</td>\n      <td>8470</td>\n      <td>NaN</td>\n    </tr>\n    <tr>\n      <th>138692</th>\n      <td>A099766128UI0NCS98N1E</td>\n      <td>B006OHM542</td>\n      <td>29</td>\n      <td>4.0</td>\n      <td>9030</td>\n      <td>5239.0</td>\n    </tr>\n    <tr>\n      <th>154090</th>\n      <td>A099766128UI0NCS98N1E</td>\n      <td>B008CEDY5O</td>\n      <td>29</td>\n      <td>4.0</td>\n      <td>9946</td>\n      <td>5770.0</td>\n    </tr>\n    <tr>\n      <th>164953</th>\n      <td>A099766128UI0NCS98N1E</td>\n      <td>B009YVCSYM</td>\n      <td>29</td>\n      <td>4.0</td>\n      <td>10544</td>\n      <td>6127.0</td>\n    </tr>\n  </tbody>\n</table>\n</div>"
     },
     "metadata": {},
     "output_type": "execute_result",
     "execution_count": 28
    }
   ],
   "source": [
    "df.loc[df['reviewerID']=='A099766128UI0NCS98N1E',['reviewerID','asin','reviewer_ID','reviewerID_Ncore','asin_id','asinID_Ncore']]"
   ],
   "metadata": {
    "collapsed": false,
    "pycharm": {
     "name": "#%%\n",
     "is_executing": false
    }
   }
  },
  {
   "cell_type": "code",
   "execution_count": 29,
   "outputs": [],
   "source": [
    "def train_test_split_userwise(ratings,num_test=5):\n",
    "    test = np.zeros(ratings.shape)\n",
    "    train = ratings.copy()\n",
    "    nonzero_id=np.transpose(np.array([ratings.nonzero()[0].tolist(),ratings.nonzero()[1].tolist()]))\n",
    "    index=pd.DataFrame(nonzero_id,columns=['row','col'])\n",
    "    gps =index.groupby(['row'])\n",
    "    randx = lambda obj: obj.loc[np.random.choice(obj.index, num_test, False),:]\n",
    "    test_ratings=gps.apply(randx).values.transpose()\n",
    "    test_ratings_row=test_ratings[0].tolist()\n",
    "    test_ratings_col=test_ratings[1].tolist()\n",
    "    train[test_ratings_row,test_ratings_col] = 0.\n",
    "    test[test_ratings_row,test_ratings_col] = ratings[test_ratings_row,test_ratings_col]   \n",
    "    assert(np.all((train * test) == 0)) \n",
    "    return train, test"
   ],
   "metadata": {
    "collapsed": false,
    "pycharm": {
     "name": "#%%\n",
     "is_executing": false
    }
   }
  },
  {
   "cell_type": "code",
   "execution_count": 30,
   "outputs": [
    {
     "name": "stdout",
     "text": [
      "training dimension:  (6172, 7129)\n",
      "test dimension:  (6172, 7129)\n"
     ],
     "output_type": "stream"
    }
   ],
   "source": [
    "train_Ncore_user, test_Ncore_user = train_test_split_userwise(ratings_Ncore,num_test=3)\n",
    "# check whether the test dataset has the same shape as the training\n",
    "print('training dimension: ', train_Ncore_user.shape)\n",
    "print('test dimension: ',test_Ncore_user.shape)"
   ],
   "metadata": {
    "collapsed": false,
    "pycharm": {
     "name": "#%%\n",
     "is_executing": false
    }
   }
  },
  {
   "cell_type": "code",
   "execution_count": 31,
   "outputs": [],
   "source": [
    "#user-wise\n",
    "def normalize_userwise(train,test):\n",
    "    user=0\n",
    "    train_new=copy.deepcopy(train)\n",
    "    test_new=copy.deepcopy(test)\n",
    "    for i in range(train_new.shape[0]):\n",
    "        items=np.nonzero(train_new[i,:])[0].tolist()\n",
    "        user_avg=np.sum(train_new[i,items])/len(items)\n",
    "        items_test=np.nonzero(test_new[i,:])[0].tolist()\n",
    "        train_new[i,items]=(train_new[i,items]-user_avg)\n",
    "        test_new[i,items_test]=(test_new[i,items_test]-user_avg)\n",
    "    return train_new, test_new"
   ],
   "metadata": {
    "collapsed": false,
    "pycharm": {
     "name": "#%%\n",
     "is_executing": false
    }
   }
  },
  {
   "cell_type": "code",
   "execution_count": 32,
   "outputs": [],
   "source": [
    "train_Ncore_user_normalized,test_Ncore_user_normalized=normalize_userwise(train_Ncore_user,test_Ncore_user)\n"
   ],
   "metadata": {
    "collapsed": false,
    "pycharm": {
     "name": "#%%\n",
     "is_executing": false
    }
   }
  },
  {
   "cell_type": "code",
   "execution_count": 33,
   "outputs": [
    {
     "name": "stdout",
     "text": [
      "average ratings for user 0 in training after normalization:  -3.552713678800501e-15\n",
      "average ratings for user 0 in test after normalization:  1.1499999999999995\n"
     ],
     "output_type": "stream"
    }
   ],
   "source": [
    "# check for the output of normaization\n",
    "# user for 0 in training set\n",
    "user_0_trainting_sum=np.sum(train_Ncore_user_normalized[1,[x[1] for x in \\\n",
    "                                       list(zip(np.nonzero(train_Ncore_user_normalized)[0],\\\n",
    "                                            np.nonzero(train_Ncore_user_normalized)[1])) if x[0]==1]])\n",
    "print ('average ratings for user 0 in training after normalization: ', user_0_trainting_sum)\n",
    "\n",
    "# user for 0 in test set\n",
    "user_0_test_sum=np.sum(test_Ncore_user_normalized[1,[x[1] for x in \\\n",
    "                                       list(zip(np.nonzero(test_Ncore_user_normalized)[0],\\\n",
    "                                            np.nonzero(test_Ncore_user_normalized)[1])) if x[0]==1]])\n",
    "print ('average ratings for user 0 in test after normalization: ',user_0_test_sum)\n",
    "\n"
   ],
   "metadata": {
    "collapsed": false,
    "pycharm": {
     "name": "#%%\n",
     "is_executing": false
    }
   }
  },
  {
   "cell_type": "code",
   "execution_count": 34,
   "outputs": [],
   "source": [
    "def get_mse(pred, actual):\n",
    "    pred = pred[actual.nonzero()[0].tolist(),actual.nonzero()[1].tolist()].flatten()\n",
    "    actual = actual[actual.nonzero()[0].tolist(),actual.nonzero()[1].tolist()].flatten()\n",
    "    mse = mean_squared_error(pred, actual)\n",
    "    return mse\n",
    "\n"
   ],
   "metadata": {
    "collapsed": false,
    "pycharm": {
     "name": "#%%\n",
     "is_executing": false
    }
   }
  },
  {
   "cell_type": "code",
   "execution_count": 35,
   "outputs": [],
   "source": [
    "def user_baseline(train,test):\n",
    "    user=0\n",
    "    item_sum=0\n",
    "    item_count=0\n",
    "    pred=np.zeros(test.shape)\n",
    "    for i in zip(np.nonzero(train)[0],np.nonzero(train)[1]):\n",
    "        if i[0]==user:\n",
    "            item_sum=train[i[0],i[1]]+item_sum\n",
    "            item_count=item_count+1\n",
    "        if i[0]>user:\n",
    "            item_pos=np.nonzero(test[user,:])[0].tolist()\n",
    "            pred[user,item_pos]=item_sum/item_count\n",
    "            user=user+1\n",
    "            item_sum=0\n",
    "            item_count=0\n",
    "            item_sum=train[i[0],i[1]]+item_sum\n",
    "            item_count=item_count+1\n",
    "    item_pos=np.nonzero(test[user,:])[0].tolist()\n",
    "    pred[user,item_pos]=item_sum/item_count\n",
    "    return pred\n",
    "\n"
   ],
   "metadata": {
    "collapsed": false,
    "pycharm": {
     "name": "#%%\n",
     "is_executing": false
    }
   }
  },
  {
   "cell_type": "code",
   "execution_count": 36,
   "outputs": [
    {
     "name": "stdout",
     "text": [
      "baseline MSE without normalization:  1.2166400132052315\n"
     ],
     "output_type": "stream"
    }
   ],
   "source": [
    "# baseline without normalization\n",
    "# baseline MSE for Stochastic Gradient Descent\n",
    "user_baseline_withoutN=user_baseline(train_Ncore_user,test_Ncore_user)\n",
    "print ('baseline MSE without normalization: ', get_mse(user_baseline_withoutN,test_Ncore_user))\n",
    "\n"
   ],
   "metadata": {
    "collapsed": false,
    "pycharm": {
     "name": "#%%\n",
     "is_executing": false
    }
   }
  },
  {
   "cell_type": "code",
   "execution_count": 37,
   "outputs": [
    {
     "name": "stdout",
     "text": [
      "baseline MSE with normalization:  1.216640013205234\n"
     ],
     "output_type": "stream"
    }
   ],
   "source": [
    "# baseline with normalization\n",
    "# baseline MSE for Alternating Least Square\n",
    "user_baseline_normalized=np.sum(test_Ncore_user_normalized**2)/len(np.nonzero(test_Ncore_user)[0])\n",
    "print ('baseline MSE with normalization: ', user_baseline_normalized)\n",
    "\n"
   ],
   "metadata": {
    "collapsed": false,
    "pycharm": {
     "name": "#%%\n",
     "is_executing": false
    }
   }
  },
  {
   "cell_type": "code",
   "execution_count": 38,
   "outputs": [],
   "source": [
    "class RecommendationSGD_Random():\n",
    "    \n",
    "    def __init__(self, \n",
    "                 ratings, \n",
    "                 n_factors = 10, \n",
    "                 item_reg = 1.0, \n",
    "                 user_reg = 1.0,\n",
    "                 item_bias_reg = 1.0,\n",
    "                 user_bias_reg = 1.0,\n",
    "                 max_iter = 15,\n",
    "                 batch_size=3,\n",
    "                 learning_rate = 0.01,\n",
    "                 tolerance=0.0001,\n",
    "                 verbose = True):\n",
    "        \n",
    "        \n",
    "        self.ratings = ratings\n",
    "        self.n_users, self.n_items = ratings.shape\n",
    "        self.n_factors = n_factors\n",
    "        self.item_reg = item_reg\n",
    "        self.user_reg = user_reg\n",
    "        \n",
    "        self.item_bias_reg = item_bias_reg\n",
    "        self.user_bias_reg = user_bias_reg\n",
    "        self.learning_rate = learning_rate\n",
    "        self.sample_row, self.sample_col = self.ratings.nonzero()\n",
    "        self.n_samples = len(self.sample_row)\n",
    "        self.batch_size=batch_size\n",
    "        self._v = verbose\n",
    "        self.n_iter = max_iter\n",
    "        self.MSE=[]\n",
    "        self.tolerance=0-tolerance\n",
    "\n",
    "    \n",
    "    def fit(self):\n",
    "        \"\"\" \n",
    "        Train model\n",
    "        \"\"\"       \n",
    "        self.ratings_zero=np.zeros(self.ratings.shape)\n",
    "        self.user_vecs = np.random.random((self.n_users, self.n_factors))\n",
    "        self.item_vecs = np.random.random((self.n_items, self.n_factors))\n",
    "        \n",
    "        self.user_bias = np.zeros(self.n_users)\n",
    "        self.item_bias = np.zeros(self.n_items)\n",
    "        self.global_bias = np.mean(self.ratings[np.where(self.ratings != 0)])\n",
    "        \n",
    "        ctr = 1\n",
    "        while ctr <= self.n_iter:\n",
    "            if ctr % 10 == 0 :\n",
    "                print ('\\tcurrent iteration: {}'.format(ctr))\n",
    "            \n",
    "            if ctr>1:\n",
    "                # predict the ratings by applying the vectorized prediction forluma\n",
    "                ratings_pred=self.user_bias[:,np.newaxis]+self.item_bias[np.newaxis,:]+self.global_bias+self.user_vecs.dot(self.item_vecs.T)\n",
    "                ratings_pred=np.nan_to_num(ratings_pred)\n",
    "                \n",
    "                self.MSE.append(get_mse(ratings_pred, self.ratings))\n",
    "                if self._v:\n",
    "                    print (self.MSE[-1])\n",
    "            if len(self.MSE)>1:\n",
    "                # set the tolerance on the difference in MSE, cut-off the iteration when the difference is less than tolerance\n",
    "                if self.MSE[-1]<self.MSE[-2] and (self.MSE[-1]-self.MSE[-2])/self.MSE[-2]>self.tolerance:\n",
    "                    return (self.user_vecs, self.item_vecs, self.user_bias, self.item_bias, self.global_bias)\n",
    "            # one sample SGD\n",
    "            self.training_indices = np.arange(self.n_samples)\n",
    "            np.random.shuffle(self.training_indices)\n",
    "            \n",
    "            for start_idx in range(0, self.n_samples - self.batch_size + 1, self.batch_size):\n",
    "                idx = self.training_indices[start_idx:start_idx + self.batch_size]\n",
    "                u = self.sample_row[idx]\n",
    "                i = self.sample_col[idx]\n",
    "                \n",
    "                # error\n",
    "                e = [self.ratings[a,b] - self.predict(a,b) for a,b in zip(u,i)]\n",
    "                \n",
    "                # update biases\n",
    "                self.user_bias[u] += self.learning_rate * (e - self.user_bias_reg * self.user_bias[u])\n",
    "                self.item_bias[i] += self.learning_rate * (e - self.item_bias_reg * self.item_bias[i])\n",
    "                \n",
    "                # update latent factors\n",
    "                self.user_vecs[u, :] = [self.user_vecs[u, :][x] + self.learning_rate * (e[x] * self.item_vecs[i, :][x] - self.user_reg * self.user_vecs[u,:][x]) for x in range(self.batch_size)]          \n",
    "                self.item_vecs[i, :] = [self.item_vecs[i, :][x] + self.learning_rate * (e[x] * self.user_vecs[u, :][x] - self.item_reg * self.item_vecs[i,:][x]) for x in range(self.batch_size)]\n",
    "                \n",
    "            ctr += 1\n",
    "        \n",
    "        \n",
    "        return (self.user_vecs, self.item_vecs, self.user_bias, self.item_bias, self.global_bias)\n",
    "    \n",
    "    def predict(self, u, i):\n",
    "        prediction = self.global_bias + self.user_bias[u] + self.item_bias[i]\n",
    "        prediction += self.user_vecs[u, :].dot(self.item_vecs[i, :].T)\n",
    "        prediction=np.nan_to_num(prediction)\n",
    "        return prediction\n",
    "    \n",
    "    def get_prediction(self):\n",
    "        vecs = self.fit()\n",
    "        user_vecs = vecs[0]\n",
    "        item_vecs = vecs[1]\n",
    "        user_bias = vecs[2]\n",
    "        item_bias = vecs[3]\n",
    "        global_bias = vecs[4]\n",
    "        predictions=user_bias[:,np.newaxis]+item_bias[np.newaxis,:]+global_bias+user_vecs.dot(item_vecs.T)\n",
    "        return predictions\n",
    "\n"
   ],
   "metadata": {
    "collapsed": false,
    "pycharm": {
     "name": "#%%\n",
     "is_executing": false
    }
   }
  },
  {
   "cell_type": "code",
   "execution_count": 39,
   "outputs": [],
   "source": [
    "SGD1=[RecommendationSGD_Random(train_Ncore_user,n_factors = 10,max_iter= x,\n",
    "                 batch_size=50) for x in [10,20,30,40,50]]\n"
   ],
   "metadata": {
    "collapsed": false,
    "pycharm": {
     "name": "#%%\n",
     "is_executing": false
    }
   }
  },
  {
   "cell_type": "code",
   "execution_count": 40,
   "outputs": [
    {
     "name": "stdout",
     "text": [
      "1.7649307310458788\n",
      "1.22578689908623\n",
      "1.0463687037522393\n",
      "0.9650392296553739\n",
      "0.9232037086788879\n",
      "0.8980227453498324\n",
      "0.8828063473248833\n",
      "0.8722985990900859\n",
      "\tcurrent iteration: 10\n",
      "0.8655599054144669\n",
      "1.7752155424442275\n",
      "1.231303585182595\n",
      "1.048153474110066\n",
      "0.9659019208139372\n",
      "0.922991260715955\n",
      "0.898010525499197\n",
      "0.8828493833248424\n",
      "0.8728070408920973\n",
      "\tcurrent iteration: 10\n",
      "0.8666199992349882\n",
      "0.8605770817906676\n",
      "0.8579472723652661\n",
      "0.8551486408943573\n",
      "0.8528615360834552\n",
      "0.8509291000210945\n",
      "0.8498818002134031\n",
      "0.8490196353529945\n",
      "0.848609745150329\n",
      "0.8478909005631128\n",
      "\tcurrent iteration: 20\n",
      "0.8478394894096188\n",
      "1.7701421302847336\n",
      "1.2305945381970056\n",
      "1.0492991118537078\n",
      "0.967175177533651\n",
      "0.9243917381888425\n",
      "0.898847793162751\n",
      "0.883325818843416\n",
      "0.8729826472264643\n",
      "\tcurrent iteration: 10\n",
      "0.8662445152213184\n",
      "0.8614522267427418\n",
      "0.8576547813165238\n",
      "0.8551403879995476\n",
      "0.8531324160504199\n",
      "0.8515374244256061\n",
      "0.8504549862695014\n",
      "0.8491764251119691\n",
      "0.8482108004589014\n",
      "0.8480599146360986\n",
      "\tcurrent iteration: 20\n",
      "0.8478476465618966\n",
      "0.8473300489959333\n",
      "0.847188223031002\n",
      "0.8472111834284026\n",
      "0.8469310499156509\n",
      "0.8471497982794021\n",
      "0.8467530396788707\n",
      "0.8467507206027985\n",
      "1.7723320065194976\n",
      "1.230166409242523\n",
      "1.0479680481381262\n",
      "0.9657037108888431\n",
      "0.9224680807337815\n",
      "0.8973018803198014\n",
      "0.8824227641315584\n",
      "0.871787239184781\n",
      "\tcurrent iteration: 10\n",
      "0.8649592831500058\n",
      "0.8598566006431789\n",
      "0.8565259502898365\n",
      "0.8538588360754699\n",
      "0.8520677190378119\n",
      "0.8506923806745935\n",
      "0.8495258936293011\n",
      "0.8487033775645941\n",
      "0.8475235630553233\n",
      "0.8472458506668656\n",
      "\tcurrent iteration: 20\n",
      "0.8470800228376586\n",
      "0.8474169120819169\n",
      "0.8469082355836163\n",
      "0.8469097133267751\n",
      "0.846520763051933\n",
      "0.8464651811154799\n",
      "1.781245560071831\n",
      "1.2347178756342247\n",
      "1.0505342413565404\n",
      "0.9684387479995951\n",
      "0.9251953712693535\n",
      "0.8987997124301719\n",
      "0.883549364560723\n",
      "0.8729421933588052\n",
      "\tcurrent iteration: 10\n",
      "0.8663680187069759\n",
      "0.8610124155447554\n",
      "0.8575122188723046\n",
      "0.85526935373671\n",
      "0.8528971183804662\n",
      "0.8515013350283265\n",
      "0.8504050718378016\n",
      "0.8494524930495592\n",
      "0.8477264300648774\n",
      "0.847756687175975\n",
      "\tcurrent iteration: 20\n",
      "0.8470041792043828\n",
      "0.8472962189049351\n",
      "0.8469921460717997\n",
      "0.8467107131566753\n",
      "0.8469998530678469\n",
      "0.8471080235097029\n",
      "0.8465737477699059\n",
      "0.8467023524570066\n",
      "0.8468706778247905\n",
      "0.8473147766715622\n",
      "\tcurrent iteration: 30\n",
      "0.8471235017505528\n",
      "0.8469938958162748\n",
      "0.8471098616491051\n",
      "0.8468154591733102\n",
      "0.8474450185442389\n",
      "0.8480710294805511\n",
      "0.8474633532799452\n",
      "0.8476524756699327\n",
      "0.8475945270121577\n"
     ],
     "output_type": "stream"
    }
   ],
   "source": [
    "SGD_Pred1=[x.get_prediction() for x in SGD1]"
   ],
   "metadata": {
    "collapsed": false,
    "pycharm": {
     "name": "#%%\n",
     "is_executing": false
    }
   }
  },
  {
   "cell_type": "code",
   "execution_count": 41,
   "outputs": [
    {
     "name": "stdout",
     "text": [
      "MSE on Training with  10  Iterations: 0.859969\n",
      "MSE on Test with  10  Iterations: 1.185425\n",
      "MSE on Training with  20  Iterations: 0.847839\n",
      "MSE on Test with  20  Iterations: 1.147797\n",
      "MSE on Training with  30  Iterations: 0.846751\n",
      "MSE on Test with  30  Iterations: 1.142896\n",
      "MSE on Training with  40  Iterations: 0.846465\n",
      "MSE on Test with  40  Iterations: 1.145646\n",
      "MSE on Training with  50  Iterations: 0.847595\n",
      "MSE on Test with  50  Iterations: 1.143118\n"
     ],
     "output_type": "stream"
    }
   ],
   "source": [
    "for i,v in enumerate([10,20,30,40,50]):\n",
    "    print (\"MSE on Training with \", v, \" Iterations: {:4.6f}\".format(get_mse(SGD_Pred1[i],train_Ncore_user)))\n",
    "    print (\"MSE on Test with \", v, \" Iterations: {:4.6f}\".format(get_mse(SGD_Pred1[i],test_Ncore_user)))"
   ],
   "metadata": {
    "collapsed": false,
    "pycharm": {
     "name": "#%%\n",
     "is_executing": false
    }
   }
  },
  {
   "cell_type": "code",
   "execution_count": 42,
   "outputs": [
    {
     "data": {
      "text/plain": "<Figure size 432x288 with 1 Axes>",
      "image/png": "[encoded data removed]"
     },
     "metadata": {
      "needs_background": "light"
     },
     "output_type": "display_data"
    }
   ],
   "source": [
    "plt.plot([10,20,30,40,50], [get_mse(i,train_Ncore_user) for i in SGD_Pred1], \\\n",
    "             label = 'Training', linewidth=5)\n",
    "plt.plot([10,20,30,40,50], [get_mse(i,test_Ncore_user) for i in SGD_Pred1], \\\n",
    "             label = 'Test', linewidth=5)\n",
    "\n",
    "plt.xticks(fontsize = 12);\n",
    "plt.yticks(fontsize = 12);\n",
    "plt.xlabel('Iteration', fontsize = 12);\n",
    "plt.ylabel('MSE', fontsize = 12);\n",
    "plt.legend(loc = 'best', fontsize = 12);\n",
    "\n"
   ],
   "metadata": {
    "collapsed": false,
    "pycharm": {
     "name": "#%%\n",
     "is_executing": false
    }
   }
  },
  {
   "cell_type": "code",
   "execution_count": 43,
   "outputs": [],
   "source": [
    "SGD2=[RecommendationSGD_Random(train_Ncore_user,max_iter = 20,n_factors = x,\n",
    "                 batch_size=50) for x in [5,10,20,25,30]]\n",
    "\n"
   ],
   "metadata": {
    "collapsed": false,
    "pycharm": {
     "name": "#%%\n",
     "is_executing": false
    }
   }
  },
  {
   "cell_type": "code",
   "execution_count": 44,
   "outputs": [
    {
     "name": "stdout",
     "text": [
      "1.3242599926172334\n",
      "1.0951524876705845\n",
      "1.0047846222385746\n",
      "0.9583753117377342\n",
      "0.930406959214402\n",
      "0.9124826634994916\n",
      "0.9006052180032111\n",
      "0.8919170928555509\n",
      "\tcurrent iteration: 10\n",
      "0.8848952519386141\n",
      "0.8797321024969896\n",
      "0.8762227572558943\n",
      "0.8723477504402563\n",
      "0.8696955016402087\n",
      "0.867172556383041\n",
      "0.8658632562730623\n",
      "0.8638259178802492\n",
      "0.8624319053795714\n",
      "0.8610234168679636\n",
      "\tcurrent iteration: 20\n",
      "0.8602863882567571\n",
      "1.773628668012832\n",
      "1.2304963452857611\n",
      "1.0487643335318229\n",
      "0.9663291042887289\n",
      "0.9232155158269543\n",
      "0.8984042001902546\n",
      "0.8829972305711178\n",
      "0.8720986692492435\n",
      "\tcurrent iteration: 10\n",
      "0.8657453395357236\n",
      "0.8604109485431796\n",
      "0.8566760729265388\n",
      "0.8547285638793269\n",
      "0.852737509742774\n",
      "0.8508092058632462\n",
      "0.8496820293265566\n",
      "0.8488941528065141\n",
      "0.8485302953399785\n",
      "0.8473557246893811\n",
      "\tcurrent iteration: 20\n",
      "0.8473259591298574\n",
      "2.752874870509485\n",
      "1.4865656014607602\n",
      "1.122607340792057\n",
      "0.9774763715923419\n",
      "0.9080263769552203\n",
      "0.8724996627771555\n",
      "0.852586037338427\n",
      "0.8407600021318458\n",
      "\tcurrent iteration: 10\n",
      "0.8333768279478557\n",
      "0.8297102345062625\n",
      "0.8273059843817628\n",
      "0.8259596506676808\n",
      "0.824895006127081\n",
      "0.8248876101676886\n",
      "3.171310876216581\n",
      "1.5704484797977334\n",
      "1.137437087177177\n",
      "0.9712372767176106\n",
      "0.8954717970856356\n",
      "0.857034902850785\n",
      "0.836695909868694\n",
      "0.824669459472635\n",
      "\tcurrent iteration: 10\n",
      "0.8180338439108819\n",
      "0.8145212747225351\n",
      "0.8124487233457947\n",
      "0.8116002171818133\n",
      "0.8119846709704934\n",
      "0.8125506190056715\n",
      "0.8129199908692292\n",
      "0.8143465064377322\n",
      "0.8155804888089159\n",
      "0.8162667627062494\n",
      "\tcurrent iteration: 20\n",
      "0.8176524172244929\n",
      "3.5406190490297758\n",
      "1.6429724040731073\n",
      "1.149063022443999\n",
      "0.9646606995815886\n",
      "0.8835977905230896\n",
      "0.8425259089444717\n",
      "0.8217519971478127\n",
      "0.8101394530692001\n",
      "\tcurrent iteration: 10\n",
      "0.8047634825608965\n",
      "0.8009178213131347\n",
      "0.8001651848795409\n",
      "0.8003516807032635\n",
      "0.800051890791862\n",
      "0.801525481119704\n",
      "0.80262064068991\n",
      "0.803774369061125\n",
      "0.805470401450414\n",
      "0.8069972984983433\n",
      "\tcurrent iteration: 20\n",
      "0.8084928152959605\n"
     ],
     "output_type": "stream"
    }
   ],
   "source": [
    "SGD_Pred2=[x.get_prediction() for x in SGD2]\n",
    "\n"
   ],
   "metadata": {
    "collapsed": false,
    "pycharm": {
     "name": "#%%\n",
     "is_executing": false
    }
   }
  },
  {
   "cell_type": "code",
   "execution_count": 45,
   "outputs": [
    {
     "name": "stdout",
     "text": [
      "MSE on Training with  5  Latent Factors:  0.8597999838423942\n",
      "MSE on Test with  5  Latent Factors:  1.1412346180978317\n",
      "MSE on Training with  10  Latent Factors:  0.8473259591298574\n",
      "MSE on Test with  10  Latent Factors:  1.1478538847594293\n",
      "MSE on Training with  20  Latent Factors:  0.8248876101676886\n",
      "MSE on Test with  20  Latent Factors:  1.1955672718925558\n",
      "MSE on Training with  25  Latent Factors:  0.8188735769462382\n",
      "MSE on Test with  25  Latent Factors:  1.1738201507148993\n",
      "MSE on Training with  30  Latent Factors:  0.8103263023085251\n",
      "MSE on Test with  30  Latent Factors:  1.1846210253343925\n"
     ],
     "output_type": "stream"
    }
   ],
   "source": [
    "for i,v in enumerate([5,10,20,25,30]):\n",
    "    print (\"MSE on Training with \", v, \" Latent Factors: \",get_mse(SGD_Pred2[i],train_Ncore_user))\n",
    "    print (\"MSE on Test with \", v, \" Latent Factors: \",get_mse(SGD_Pred2[i],test_Ncore_user))\n",
    "\n"
   ],
   "metadata": {
    "collapsed": false,
    "pycharm": {
     "name": "#%%\n",
     "is_executing": false
    }
   }
  },
  {
   "cell_type": "code",
   "execution_count": 46,
   "outputs": [
    {
     "data": {
      "text/plain": "<Figure size 432x288 with 1 Axes>",
      "image/png": "[encoded data removed]"
     },
     "metadata": {
      "needs_background": "light"
     },
     "output_type": "display_data"
    }
   ],
   "source": [
    "plt.plot([5,10,20,25,30], [get_mse(i,train_Ncore_user) for i in SGD_Pred2], \\\n",
    "             label = 'Training', linewidth=5)\n",
    "plt.plot([5,10,20,25,30], [get_mse(i,test_Ncore_user) for i in SGD_Pred2], \\\n",
    "             label = 'Test', linewidth=5)\n",
    "\n",
    "plt.xticks(fontsize = 12);\n",
    "plt.yticks(fontsize = 12);\n",
    "plt.xlabel('latent factor', fontsize = 12);\n",
    "plt.ylabel('MSE', fontsize = 12);\n",
    "plt.legend(loc = 'best', fontsize = 12);\n",
    "\n"
   ],
   "metadata": {
    "collapsed": false,
    "pycharm": {
     "name": "#%%\n",
     "is_executing": false
    }
   }
  },
  {
   "cell_type": "code",
   "execution_count": 50,
   "outputs": [],
   "source": [
    "meta_original = getDF('/home/kapil/SJSU Acad/SJSU 2nd Sem/256 Wu/CMPE-256/E-commerce-recommedation-system/Data/meta_Beauty.json')\n"
   ],
   "metadata": {
    "collapsed": false,
    "pycharm": {
     "name": "#%%\n",
     "is_executing": false
    }
   }
  },
  {
   "cell_type": "code",
   "execution_count": 51,
   "outputs": [],
   "source": [
    "meta=copy.deepcopy(meta_original)\n",
    "for i in range(4):\n",
    "    meta['type_L'+str(i)] = meta['categories'].apply(lambda x: x[0][i] if i<len(x[0]) else np.nan)\n",
    "item_category=pd.DataFrame(meta.groupby(['type_L0', 'type_L1', 'type_L2', 'type_L3'])['asin'].nunique()).reset_index()\n",
    "\n"
   ],
   "metadata": {
    "collapsed": false,
    "pycharm": {
     "name": "#%%\n",
     "is_executing": false
    }
   }
  },
  {
   "cell_type": "code",
   "execution_count": 52,
   "outputs": [
    {
     "data": {
      "text/plain": "Index(['asin', 'description', 'title', 'imUrl', 'salesRank', 'categories',\n       'price', 'related', 'brand', 'type_L0', 'type_L1', 'type_L2',\n       'type_L3'],\n      dtype='object')"
     },
     "metadata": {},
     "output_type": "execute_result",
     "execution_count": 52
    }
   ],
   "source": [
    "meta.columns"
   ],
   "metadata": {
    "collapsed": false,
    "pycharm": {
     "name": "#%%\n",
     "is_executing": false
    }
   }
  },
  {
   "cell_type": "code",
   "execution_count": 53,
   "outputs": [
    {
     "data": {
      "text/plain": "                                                                                                    asin\ntype_L0                type_L1                     type_L2                    type_L3                   \nBeauty                 Bath & Body                 Bath                       Bath Bombs             254\n                                                                              Bath Pearls & Flakes    33\n                                                                              Bubble Bath            516\n                                                                              Minerals & Salts       791\n                                                                              Oils                   295\n...                                                                                                  ...\nHealth & Personal Care Personal Care               Lip Care                   Balms & Moisturizers     1\n                       Stationery & Party Supplies Party Supplies             Decorations              1\n                                                                              Favors                   1\nHome & Kitchen         Kitchen & Dining            Home Brewing & Wine Making Beer Brewing             1\nSports & Outdoors      Fan Shop                    Bags, Packs & Accessories  Tote Bags                1\n\n[172 rows x 1 columns]",
      "text/html": "<div>\n<style scoped>\n    .dataframe tbody tr th:only-of-type {\n        vertical-align: middle;\n    }\n\n    .dataframe tbody tr th {\n        vertical-align: top;\n    }\n\n    .dataframe thead th {\n        text-align: right;\n    }\n</style>\n<table border=\"1\" class=\"dataframe\">\n  <thead>\n    <tr style=\"text-align: right;\">\n      <th></th>\n      <th></th>\n      <th></th>\n      <th></th>\n      <th>asin</th>\n    </tr>\n    <tr>\n      <th>type_L0</th>\n      <th>type_L1</th>\n      <th>type_L2</th>\n      <th>type_L3</th>\n      <th></th>\n    </tr>\n  </thead>\n  <tbody>\n    <tr>\n      <th rowspan=\"5\" valign=\"top\">Beauty</th>\n      <th rowspan=\"5\" valign=\"top\">Bath &amp; Body</th>\n      <th rowspan=\"5\" valign=\"top\">Bath</th>\n      <th>Bath Bombs</th>\n      <td>254</td>\n    </tr>\n    <tr>\n      <th>Bath Pearls &amp; Flakes</th>\n      <td>33</td>\n    </tr>\n    <tr>\n      <th>Bubble Bath</th>\n      <td>516</td>\n    </tr>\n    <tr>\n      <th>Minerals &amp; Salts</th>\n      <td>791</td>\n    </tr>\n    <tr>\n      <th>Oils</th>\n      <td>295</td>\n    </tr>\n    <tr>\n      <th>...</th>\n      <th>...</th>\n      <th>...</th>\n      <th>...</th>\n      <td>...</td>\n    </tr>\n    <tr>\n      <th rowspan=\"3\" valign=\"top\">Health &amp; Personal Care</th>\n      <th>Personal Care</th>\n      <th>Lip Care</th>\n      <th>Balms &amp; Moisturizers</th>\n      <td>1</td>\n    </tr>\n    <tr>\n      <th rowspan=\"2\" valign=\"top\">Stationery &amp; Party Supplies</th>\n      <th rowspan=\"2\" valign=\"top\">Party Supplies</th>\n      <th>Decorations</th>\n      <td>1</td>\n    </tr>\n    <tr>\n      <th>Favors</th>\n      <td>1</td>\n    </tr>\n    <tr>\n      <th>Home &amp; Kitchen</th>\n      <th>Kitchen &amp; Dining</th>\n      <th>Home Brewing &amp; Wine Making</th>\n      <th>Beer Brewing</th>\n      <td>1</td>\n    </tr>\n    <tr>\n      <th>Sports &amp; Outdoors</th>\n      <th>Fan Shop</th>\n      <th>Bags, Packs &amp; Accessories</th>\n      <th>Tote Bags</th>\n      <td>1</td>\n    </tr>\n  </tbody>\n</table>\n<p>172 rows × 1 columns</p>\n</div>"
     },
     "metadata": {},
     "output_type": "execute_result",
     "execution_count": 53
    }
   ],
   "source": [
    "meta.groupby(['type_L0', 'type_L1', 'type_L2', 'type_L3']).asin.nunique().to_frame()\n",
    "\n"
   ],
   "metadata": {
    "collapsed": false,
    "pycharm": {
     "name": "#%%\n",
     "is_executing": false
    }
   }
  },
  {
   "cell_type": "code",
   "execution_count": 61,
   "outputs": [],
   "source": [
    "def Advanced_Recommendation(Pred,ratings_Ncore,User,N):\n",
    "    user_in_list=user_map_afterNcore.loc[user_map_afterNcore['reviewerID']==User,'reviewerID_Ncore']\n",
    "    if pd.notnull(user_in_list.values[0]):\n",
    "        Pred_C=copy.deepcopy(Pred)\n",
    "        #replace all the item rated by users as zero to avoid recommend item user already bought\n",
    "        Pred_C[np.where(ratings_Ncore!=0)[0],np.where(ratings_Ncore!=0)[1]]=0\n",
    "        #find what the user has rated\n",
    "        item_bought=np.nonzero(ratings_Ncore[int(user_in_list.values[0]),:])[0].tolist()\n",
    "        asin_bought=item_map_afterNcore.loc[item_map_afterNcore['asinID_Ncore'].isin(item_bought),'asin'].tolist()\n",
    "        category_bought=meta.loc[meta['asin'].isin(asin_bought),['type_L1','type_L2','type_L3','asin']]\n",
    "        category_bought_df=category_bought.groupby(['type_L1','type_L2','type_L3'])['asin'].nunique().to_frame().reset_index()\\\n",
    "        .sort_values(by='asin',ascending=False)\n",
    "        total=np.sum(category_bought_df['asin'])\n",
    "        category_bought_df['precent']=category_bought_df['asin']/total\n",
    "        category_bought_df['precent']=category_bought_df['precent'].apply(lambda x: \"{0:.0%}\".format(x))\n",
    "        print ('items bought')\n",
    "        print(category_bought_df[['type_L1','type_L2','type_L3','asin','precent']])\n",
    "        #recommend items\n",
    "        item_Ncore=np.argsort(Pred_C[int(user_in_list.values[0]),:])[:-N-1:-1].tolist()\n",
    "        Recommend=item_map_afterNcore.loc[item_map_afterNcore['asinID_Ncore'].isin(item_Ncore),'asin'].tolist()\n",
    "        print (\"\\n items recommended\")\n",
    "        return  meta.loc[meta['asin'].isin(Recommend),['asin','title','type_L1','type_L2','type_L3','description','imUrl']]\n",
    "    else:\n",
    "        print ('Too few items bought to predict')\n",
    "        return False\n"
   ],
   "metadata": {
    "collapsed": false,
    "pycharm": {
     "name": "#%%\n",
     "is_executing": false
    }
   }
  },
  {
   "cell_type": "code",
   "execution_count": 62,
   "outputs": [
    {
     "name": "stdout",
     "text": [
      "items bought\n",
      "       type_L1 type_L2                type_L3  asin precent\n",
      "2    Skin Care    Face  Creams & Moisturizers     4     50%\n",
      "1    Skin Care    Body           Moisturizers     2     25%\n",
      "0  Bath & Body    Bath            Bubble Bath     1     12%\n",
      "3    Skin Care    Face          Oils & Serums     1     12%\n",
      "\n",
      " items recommended\n"
     ],
     "output_type": "stream"
    },
    {
     "data": {
      "text/plain": "              asin                                              title  \\\n6285    B0002Q8W9I       NEW cnd Nail Design Stickey Base Coat 0.33Oz   \n41416   B000YT5NIG      Biosilk Silk Therapy Hair Treatment, 34 Ounce   \n63126   B001H3JQ0E               X-Fusion Medium Brown 25 gram .87 Oz   \n90717   B0030VT7XW     L.A. Colors Moisture Lipstick 136 Black Velvet   \n122585  B004HI5GOG    Anastasia Beverly Hills Beauty Express - Blonde   \n161858  B006UMU4NK  World Pride&reg; Acrylic UV Gel False Nail Tip...   \n165642  B007736X86  OPI: Lacquer H62 Thanks a Windmillion Lacquer,...   \n171231  B007OT1RIY  Vidal Sassoon Medium Side Combs, Tortoise, 2 C...   \n191098  B0092KGYEA  350buy Basic Acrylic 6 Powder Liquid KITS NAIL...   \n193171  B009A9LBL4  CND Shellac French Manicure Kit Top Base Coat ...   \n\n                    type_L1             type_L2              type_L3  \\\n6285                 Makeup               Nails     Top & Base Coats   \n41416             Skin Care                Body         Moisturizers   \n63126             Hair Care  Hair Loss Products     Styling Products   \n90717                Makeup                Lips             Lipstick   \n122585               Makeup                Eyes        Eyebrow Color   \n161858  Tools & Accessories          Nail Tools  Clippers & Trimmers   \n165642               Makeup               Nails          Nail Polish   \n171231            Hair Care       Styling Tools  Styling Accessories   \n191098  Tools & Accessories          Nail Tools   Nail Art Equipment   \n193171               Makeup               Nails          Nail Polish   \n\n                                              description  \\\n6285    A soft sticky base coat designed to anchor nai...   \n41416                                                 NaN   \n63126   XFusion Hair Building Fibers instantly make th...   \n90717      L.A. Colors Moisture Lipstick 136 Black Velvet   \n122585  Anastasia Beverly Hills Beauty Express for Bro...   \n161858  -100% brand new, never been used\\n-Suitable fo...   \n165642  Nothing completes a look more beautifully than...   \n171231  Medium Tortoise Tuck Combs hold hair firmly in...   \n191098  6 different colors acrylic powder with extra 1...   \n193171  A french manicure is the ultimate in class and...   \n\n                                                    imUrl  \n6285    http://ecx.images-amazon.com/images/I/311RJ0WA...  \n41416   http://ecx.images-amazon.com/images/I/31jTmijK...  \n63126   http://ecx.images-amazon.com/images/I/2182VwZr...  \n90717   http://ecx.images-amazon.com/images/I/11VdDpaT...  \n122585  http://ecx.images-amazon.com/images/I/51j9WvHv...  \n161858  http://ecx.images-amazon.com/images/I/41levDSP...  \n165642  http://ecx.images-amazon.com/images/I/51GqMq1D...  \n171231  http://ecx.images-amazon.com/images/I/41IgKcqz...  \n191098  http://ecx.images-amazon.com/images/I/61TyLwgW...  \n193171  http://ecx.images-amazon.com/images/I/41-1aPTg...  ",
      "text/html": "<div>\n<style scoped>\n    .dataframe tbody tr th:only-of-type {\n        vertical-align: middle;\n    }\n\n    .dataframe tbody tr th {\n        vertical-align: top;\n    }\n\n    .dataframe thead th {\n        text-align: right;\n    }\n</style>\n<table border=\"1\" class=\"dataframe\">\n  <thead>\n    <tr style=\"text-align: right;\">\n      <th></th>\n      <th>asin</th>\n      <th>title</th>\n      <th>type_L1</th>\n      <th>type_L2</th>\n      <th>type_L3</th>\n      <th>description</th>\n      <th>imUrl</th>\n    </tr>\n  </thead>\n  <tbody>\n    <tr>\n      <th>6285</th>\n      <td>B0002Q8W9I</td>\n      <td>NEW cnd Nail Design Stickey Base Coat 0.33Oz</td>\n      <td>Makeup</td>\n      <td>Nails</td>\n      <td>Top &amp; Base Coats</td>\n      <td>A soft sticky base coat designed to anchor nai...</td>\n      <td>http://ecx.images-amazon.com/images/I/311RJ0WA...</td>\n    </tr>\n    <tr>\n      <th>41416</th>\n      <td>B000YT5NIG</td>\n      <td>Biosilk Silk Therapy Hair Treatment, 34 Ounce</td>\n      <td>Skin Care</td>\n      <td>Body</td>\n      <td>Moisturizers</td>\n      <td>NaN</td>\n      <td>http://ecx.images-amazon.com/images/I/31jTmijK...</td>\n    </tr>\n    <tr>\n      <th>63126</th>\n      <td>B001H3JQ0E</td>\n      <td>X-Fusion Medium Brown 25 gram .87 Oz</td>\n      <td>Hair Care</td>\n      <td>Hair Loss Products</td>\n      <td>Styling Products</td>\n      <td>XFusion Hair Building Fibers instantly make th...</td>\n      <td>http://ecx.images-amazon.com/images/I/2182VwZr...</td>\n    </tr>\n    <tr>\n      <th>90717</th>\n      <td>B0030VT7XW</td>\n      <td>L.A. Colors Moisture Lipstick 136 Black Velvet</td>\n      <td>Makeup</td>\n      <td>Lips</td>\n      <td>Lipstick</td>\n      <td>L.A. Colors Moisture Lipstick 136 Black Velvet</td>\n      <td>http://ecx.images-amazon.com/images/I/11VdDpaT...</td>\n    </tr>\n    <tr>\n      <th>122585</th>\n      <td>B004HI5GOG</td>\n      <td>Anastasia Beverly Hills Beauty Express - Blonde</td>\n      <td>Makeup</td>\n      <td>Eyes</td>\n      <td>Eyebrow Color</td>\n      <td>Anastasia Beverly Hills Beauty Express for Bro...</td>\n      <td>http://ecx.images-amazon.com/images/I/51j9WvHv...</td>\n    </tr>\n    <tr>\n      <th>161858</th>\n      <td>B006UMU4NK</td>\n      <td>World Pride&amp;reg; Acrylic UV Gel False Nail Tip...</td>\n      <td>Tools &amp; Accessories</td>\n      <td>Nail Tools</td>\n      <td>Clippers &amp; Trimmers</td>\n      <td>-100% brand new, never been used\\n-Suitable fo...</td>\n      <td>http://ecx.images-amazon.com/images/I/41levDSP...</td>\n    </tr>\n    <tr>\n      <th>165642</th>\n      <td>B007736X86</td>\n      <td>OPI: Lacquer H62 Thanks a Windmillion Lacquer,...</td>\n      <td>Makeup</td>\n      <td>Nails</td>\n      <td>Nail Polish</td>\n      <td>Nothing completes a look more beautifully than...</td>\n      <td>http://ecx.images-amazon.com/images/I/51GqMq1D...</td>\n    </tr>\n    <tr>\n      <th>171231</th>\n      <td>B007OT1RIY</td>\n      <td>Vidal Sassoon Medium Side Combs, Tortoise, 2 C...</td>\n      <td>Hair Care</td>\n      <td>Styling Tools</td>\n      <td>Styling Accessories</td>\n      <td>Medium Tortoise Tuck Combs hold hair firmly in...</td>\n      <td>http://ecx.images-amazon.com/images/I/41IgKcqz...</td>\n    </tr>\n    <tr>\n      <th>191098</th>\n      <td>B0092KGYEA</td>\n      <td>350buy Basic Acrylic 6 Powder Liquid KITS NAIL...</td>\n      <td>Tools &amp; Accessories</td>\n      <td>Nail Tools</td>\n      <td>Nail Art Equipment</td>\n      <td>6 different colors acrylic powder with extra 1...</td>\n      <td>http://ecx.images-amazon.com/images/I/61TyLwgW...</td>\n    </tr>\n    <tr>\n      <th>193171</th>\n      <td>B009A9LBL4</td>\n      <td>CND Shellac French Manicure Kit Top Base Coat ...</td>\n      <td>Makeup</td>\n      <td>Nails</td>\n      <td>Nail Polish</td>\n      <td>A french manicure is the ultimate in class and...</td>\n      <td>http://ecx.images-amazon.com/images/I/41-1aPTg...</td>\n    </tr>\n  </tbody>\n</table>\n</div>"
     },
     "metadata": {},
     "output_type": "execute_result",
     "execution_count": 62
    }
   ],
   "source": [
    "Advanced_Recommendation(SGD_Pred2[0],ratings_Ncore,User='AZXP46IB63PU8',N=10)\n",
    "\n"
   ],
   "metadata": {
    "collapsed": false,
    "pycharm": {
     "name": "#%%\n",
     "is_executing": false
    }
   }
  },
  {
   "cell_type": "code",
   "execution_count": 63,
   "outputs": [
    {
     "data": {
      "text/plain": "                                          reviewText     reviewerID  \\\n0  I did 't have a reaction to this cream which i...  AZXP46IB63PU8   \n1  I purchased this because I bought the day crea...  AZXP46IB63PU8   \n2  I use this every day.  It's a light face cream...  AZXP46IB63PU8   \n3  My face is very dry and flakey.  This cream ke...  AZXP46IB63PU8   \n4  I have diabetic never pain and was looking for...  AZXP46IB63PU8   \n5  Really great skin cream.  I bought it because ...  AZXP46IB63PU8   \n6  A really great skin fluid.  I like it even mor...  AZXP46IB63PU8   \n7  If you have dry skin for whatever reason, this...  AZXP46IB63PU8   \n\n         asin  overall                                              title  \\\n0  B0007W1R58      5.0        Olay Regenerist Night Recovery Cream 1.7 Oz   \n1  B000KPO99I      5.0  L'Oreal Paris Age Perfect Night Cream, 2.5 Flu...   \n2  B000UVZU1S      5.0  St. Ives Facial Moisturizer, Timeless Skin Col...   \n3  B0012J30LY      5.0            Regenerist Micro-Sculpting Cream 1.7 Oz   \n4  B0043494XS      5.0  Conair Waterfall Foot Spa with Lights, Bubbles...   \n5  B004YWRYUY      5.0        L'oreal Age Perfect Day Cream SPF 15 2.5 Oz   \n6  B005H1541C      5.0  L'Oreal Paris Age Perfect Hydra-Nutrition Adva...   \n7  B00AHH00TC      5.0    Gold Bond Diabetic Skin Relief Lotion, 13 Ounce   \n\n       type_L1 type_L2                type_L3  \n0    Skin Care    Body           Moisturizers  \n1    Skin Care    Face  Creams & Moisturizers  \n2    Skin Care    Face  Creams & Moisturizers  \n3    Skin Care    Face  Creams & Moisturizers  \n4  Bath & Body    Bath            Bubble Bath  \n5    Skin Care    Face  Creams & Moisturizers  \n6    Skin Care    Face          Oils & Serums  \n7    Skin Care    Body           Moisturizers  ",
      "text/html": "<div>\n<style scoped>\n    .dataframe tbody tr th:only-of-type {\n        vertical-align: middle;\n    }\n\n    .dataframe tbody tr th {\n        vertical-align: top;\n    }\n\n    .dataframe thead th {\n        text-align: right;\n    }\n</style>\n<table border=\"1\" class=\"dataframe\">\n  <thead>\n    <tr style=\"text-align: right;\">\n      <th></th>\n      <th>reviewText</th>\n      <th>reviewerID</th>\n      <th>asin</th>\n      <th>overall</th>\n      <th>title</th>\n      <th>type_L1</th>\n      <th>type_L2</th>\n      <th>type_L3</th>\n    </tr>\n  </thead>\n  <tbody>\n    <tr>\n      <th>0</th>\n      <td>I did 't have a reaction to this cream which i...</td>\n      <td>AZXP46IB63PU8</td>\n      <td>B0007W1R58</td>\n      <td>5.0</td>\n      <td>Olay Regenerist Night Recovery Cream 1.7 Oz</td>\n      <td>Skin Care</td>\n      <td>Body</td>\n      <td>Moisturizers</td>\n    </tr>\n    <tr>\n      <th>1</th>\n      <td>I purchased this because I bought the day crea...</td>\n      <td>AZXP46IB63PU8</td>\n      <td>B000KPO99I</td>\n      <td>5.0</td>\n      <td>L'Oreal Paris Age Perfect Night Cream, 2.5 Flu...</td>\n      <td>Skin Care</td>\n      <td>Face</td>\n      <td>Creams &amp; Moisturizers</td>\n    </tr>\n    <tr>\n      <th>2</th>\n      <td>I use this every day.  It's a light face cream...</td>\n      <td>AZXP46IB63PU8</td>\n      <td>B000UVZU1S</td>\n      <td>5.0</td>\n      <td>St. Ives Facial Moisturizer, Timeless Skin Col...</td>\n      <td>Skin Care</td>\n      <td>Face</td>\n      <td>Creams &amp; Moisturizers</td>\n    </tr>\n    <tr>\n      <th>3</th>\n      <td>My face is very dry and flakey.  This cream ke...</td>\n      <td>AZXP46IB63PU8</td>\n      <td>B0012J30LY</td>\n      <td>5.0</td>\n      <td>Regenerist Micro-Sculpting Cream 1.7 Oz</td>\n      <td>Skin Care</td>\n      <td>Face</td>\n      <td>Creams &amp; Moisturizers</td>\n    </tr>\n    <tr>\n      <th>4</th>\n      <td>I have diabetic never pain and was looking for...</td>\n      <td>AZXP46IB63PU8</td>\n      <td>B0043494XS</td>\n      <td>5.0</td>\n      <td>Conair Waterfall Foot Spa with Lights, Bubbles...</td>\n      <td>Bath &amp; Body</td>\n      <td>Bath</td>\n      <td>Bubble Bath</td>\n    </tr>\n    <tr>\n      <th>5</th>\n      <td>Really great skin cream.  I bought it because ...</td>\n      <td>AZXP46IB63PU8</td>\n      <td>B004YWRYUY</td>\n      <td>5.0</td>\n      <td>L'oreal Age Perfect Day Cream SPF 15 2.5 Oz</td>\n      <td>Skin Care</td>\n      <td>Face</td>\n      <td>Creams &amp; Moisturizers</td>\n    </tr>\n    <tr>\n      <th>6</th>\n      <td>A really great skin fluid.  I like it even mor...</td>\n      <td>AZXP46IB63PU8</td>\n      <td>B005H1541C</td>\n      <td>5.0</td>\n      <td>L'Oreal Paris Age Perfect Hydra-Nutrition Adva...</td>\n      <td>Skin Care</td>\n      <td>Face</td>\n      <td>Oils &amp; Serums</td>\n    </tr>\n    <tr>\n      <th>7</th>\n      <td>If you have dry skin for whatever reason, this...</td>\n      <td>AZXP46IB63PU8</td>\n      <td>B00AHH00TC</td>\n      <td>5.0</td>\n      <td>Gold Bond Diabetic Skin Relief Lotion, 13 Ounce</td>\n      <td>Skin Care</td>\n      <td>Body</td>\n      <td>Moisturizers</td>\n    </tr>\n  </tbody>\n</table>\n</div>"
     },
     "metadata": {},
     "output_type": "execute_result",
     "execution_count": 63
    }
   ],
   "source": [
    "df.loc[df['reviewerID']=='AZXP46IB63PU8'].merge(meta, how='left',on='asin')[[\"reviewText\",\"reviewerID\",\\\n",
    "                                                                             \"asin\",\"overall\",\"title\",\\\n",
    "                                                                             \"type_L1\",\"type_L2\",\"type_L3\"]]\n",
    "\n"
   ],
   "metadata": {
    "collapsed": false,
    "pycharm": {
     "name": "#%%\n",
     "is_executing": false
    }
   }
  },
  {
   "cell_type": "code",
   "execution_count": 64,
   "outputs": [
    {
     "data": {
      "text/plain": "array([['Moisturizer-Almond Aloe With SPF15 Earth Science 5 oz Cream']],\n      dtype=object)"
     },
     "metadata": {},
     "output_type": "execute_result",
     "execution_count": 64
    }
   ],
   "source": [
    "meta.loc[meta['asin']==\"B000F8FZAC\",[\"title\"]].values\n"
   ],
   "metadata": {
    "collapsed": false,
    "pycharm": {
     "name": "#%%\n",
     "is_executing": false
    }
   }
  }
 ],
 "metadata": {
  "kernelspec": {
   "display_name": "Python 3",
   "language": "python",
   "name": "python3"
  },
  "language_info": {
   "codemirror_mode": {
    "name": "ipython",
    "version": 2
   },
   "file_extension": ".py",
   "mimetype": "text/x-python",
   "name": "python",
   "nbconvert_exporter": "python",
   "pygments_lexer": "ipython2",
   "version": "2.7.6"
  },
  "pycharm": {
   "stem_cell": {
    "cell_type": "raw",
    "source": [],
    "metadata": {
     "collapsed": false
    }
   }
  }
 },
 "nbformat": 4,
 "nbformat_minor": 0
}